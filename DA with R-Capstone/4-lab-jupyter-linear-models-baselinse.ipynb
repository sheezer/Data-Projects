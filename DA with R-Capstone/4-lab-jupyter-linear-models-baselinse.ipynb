{
 "cells": [
  {
   "cell_type": "markdown",
   "metadata": {},
   "source": [
    "<a href=\"https://cognitiveclass.ai/?utm_medium=Exinfluencer&utm_source=Exinfluencer&utm_content=000026UJ&utm_term=10006555&utm_id=NA-SkillsNetwork-Channel-SkillsNetworkCoursesIBMDeveloperSkillsNetworkRP0321ENSkillsNetwork25371262-2022-01-01\">\n",
    "    <img src=\"https://cf-courses-data.s3.us.cloud-object-storage.appdomain.cloud/IBMDeveloperSkillsNetwork-RP0101EN-Coursera/v2/M1_R_Basics/images/IDSNlogo.png\" width=\"200\" align=\"center\">\n",
    "</a>\n"
   ]
  },
  {
   "cell_type": "markdown",
   "metadata": {},
   "source": [
    "<h1>Predict Hourly Rented Bike Count using Basic Linear Regression Models</h1>\n",
    "\n",
    "Estimated time needed: **90** minutes\n"
   ]
  },
  {
   "cell_type": "markdown",
   "metadata": {},
   "source": [
    "## Lab Overview:\n",
    "\n",
    "Now that you have performed exploratory analysis on the bike sharing demand dataset and obtained some insights on the attributes, it's time to build predictive models to predict the hourly rented bike count using related weather and date information.\n",
    "\n",
    "In this lab, you will be asked to use `tidymodels` to build some baseline linear regression models:\n",
    "\n",
    "*   **TASK: Split data into training and testing datasets**\n",
    "*   **TASK: Build a linear regression model using only the weather variables**\n",
    "*   **TASK: Build a linear regression model using both weather and date variables**\n",
    "*   **TASK: Evaluate the models and identify important variables**\n",
    "\n",
    "Let's start!\n"
   ]
  },
  {
   "cell_type": "markdown",
   "metadata": {},
   "source": [
    "First install and import the necessary libraries\n"
   ]
  },
  {
   "cell_type": "code",
   "execution_count": 1,
   "metadata": {},
   "outputs": [
    {
     "name": "stderr",
     "output_type": "stream",
     "text": [
      "Updating HTML index of packages in '.Library'\n",
      "Making 'packages.html' ... done\n",
      "also installing the dependencies ‘listenv’, ‘parallelly’, ‘cachem’, ‘future’, ‘ellipsis’, ‘warp’, ‘lhs’, ‘glue’, ‘memoise’, ‘DiceDesign’, ‘vctrs’, ‘lifecycle’, ‘tidyselect’, ‘pillar’, ‘patchwork’, ‘generics’, ‘globals’, ‘ipred’, ‘lubridate’, ‘furrr’, ‘slider’, ‘cpp11’, ‘GPfit’, ‘broom’, ‘cli’, ‘conflicted’, ‘dials’, ‘dplyr’, ‘ggplot2’, ‘hardhat’, ‘infer’, ‘modeldata’, ‘parsnip’, ‘recipes’, ‘rsample’, ‘rstudioapi’, ‘tibble’, ‘tidyr’, ‘tune’, ‘workflows’, ‘workflowsets’, ‘yardstick’\n",
      "\n",
      "Updating HTML index of packages in '.Library'\n",
      "Making 'packages.html' ... done\n"
     ]
    }
   ],
   "source": [
    "# It may take several minutes to install those libraries in Watson Studio\n",
    "install.packages(\"rlang\")\n",
    "install.packages(\"tidymodels\")"
   ]
  },
  {
   "cell_type": "code",
   "execution_count": 69,
   "metadata": {},
   "outputs": [],
   "source": [
    "library(\"tidymodels\")\n",
    "library(\"tidyverse\")\n",
    "library(\"stringr\")"
   ]
  },
  {
   "cell_type": "markdown",
   "metadata": {},
   "source": [
    "The `seoul_bike_sharing_converted_normalized.csv` will be our main dataset which has following variables:\n",
    "\n",
    "The response variable:\n",
    "\n",
    "*   `RENTED BIKE COUNT`- Count of bikes rented at each hour\n",
    "\n",
    "Weather predictor variables:\n",
    "\n",
    "*   `TEMPERATURE` - Temperature in Celsius\n",
    "*   `HUMIDITY` - Unit is `%`\n",
    "*   `WIND_SPEED` - Unit is `m/s`\n",
    "*   `VISIBILITY` - Multiplied by 10m\n",
    "*   `DEW_POINT_TEMPERATURE` - The temperature to which the air would have to cool down in order to reach saturation, unit is Celsius\n",
    "*   `SOLAR_RADIATION` - MJ/m2\n",
    "*   `RAINFALL` - mm\n",
    "*   `SNOWFALL` - cm\n",
    "\n",
    "Date/time predictor variables:\n",
    "\n",
    "*   `DATE` - Year-month-day\n",
    "*   `HOUR`- Hour of he day\n",
    "*   `FUNCTIONAL DAY` - NoFunc(Non Functional Hours), Fun(Functional hours)\n",
    "*   `HOLIDAY` - Holiday/No holiday\n",
    "*   `SEASONS` - Winter, Spring, Summer, Autumn\n"
   ]
  },
  {
   "cell_type": "markdown",
   "metadata": {},
   "source": [
    "Let's read the dataset as a dataframe first:\n"
   ]
  },
  {
   "cell_type": "code",
   "execution_count": 2,
   "metadata": {},
   "outputs": [
    {
     "name": "stderr",
     "output_type": "stream",
     "text": [
      "Parsed with column specification:\n",
      "cols(\n",
      "  .default = col_double(),\n",
      "  DATE = col_character(),\n",
      "  FUNCTIONING_DAY = col_character()\n",
      ")\n",
      "See spec(...) for full column specifications.\n"
     ]
    },
    {
     "data": {
      "text/plain": [
       "cols(\n",
       "  DATE = col_character(),\n",
       "  RENTED_BIKE_COUNT = col_double(),\n",
       "  TEMPERATURE = col_double(),\n",
       "  HUMIDITY = col_double(),\n",
       "  WIND_SPEED = col_double(),\n",
       "  VISIBILITY = col_double(),\n",
       "  DEW_POINT_TEMPERATURE = col_double(),\n",
       "  SOLAR_RADIATION = col_double(),\n",
       "  RAINFALL = col_double(),\n",
       "  SNOWFALL = col_double(),\n",
       "  FUNCTIONING_DAY = col_character(),\n",
       "  `0` = col_double(),\n",
       "  `1` = col_double(),\n",
       "  `10` = col_double(),\n",
       "  `11` = col_double(),\n",
       "  `12` = col_double(),\n",
       "  `13` = col_double(),\n",
       "  `14` = col_double(),\n",
       "  `15` = col_double(),\n",
       "  `16` = col_double(),\n",
       "  `17` = col_double(),\n",
       "  `18` = col_double(),\n",
       "  `19` = col_double(),\n",
       "  `2` = col_double(),\n",
       "  `20` = col_double(),\n",
       "  `21` = col_double(),\n",
       "  `22` = col_double(),\n",
       "  `23` = col_double(),\n",
       "  `3` = col_double(),\n",
       "  `4` = col_double(),\n",
       "  `5` = col_double(),\n",
       "  `6` = col_double(),\n",
       "  `7` = col_double(),\n",
       "  `8` = col_double(),\n",
       "  `9` = col_double(),\n",
       "  AUTUMN = col_double(),\n",
       "  SPRING = col_double(),\n",
       "  SUMMER = col_double(),\n",
       "  WINTER = col_double(),\n",
       "  HOLIDAY = col_double(),\n",
       "  NO_HOLIDAY = col_double()\n",
       ")"
      ]
     },
     "metadata": {},
     "output_type": "display_data"
    }
   ],
   "source": [
    "# Dataset URL\n",
    "dataset_url <- \"https://cf-courses-data.s3.us.cloud-object-storage.appdomain.cloud/IBMDeveloperSkillsNetwork-RP0321EN-SkillsNetwork/labs/datasets/seoul_bike_sharing_converted_normalized.csv\"\n",
    "bike_sharing_df <- read_csv(dataset_url)\n",
    "spec(bike_sharing_df)"
   ]
  },
  {
   "cell_type": "markdown",
   "metadata": {},
   "source": [
    "We won't be using the `DATE` column, because 'as is', it basically acts like an data entry index. (However, given more time, we could use the `DATE` colum to create a 'day of week' or 'isWeekend' column, which we might expect has an affect on preferred bike rental times.) We also do not need the `FUNCTIONAL DAY` column because it only has one distinct value remaining (`YES`) after missing value processing.\n"
   ]
  },
  {
   "cell_type": "code",
   "execution_count": 3,
   "metadata": {},
   "outputs": [],
   "source": [
    "bike_sharing_df <- bike_sharing_df %>% \n",
    "                   select(-DATE, -FUNCTIONING_DAY)"
   ]
  },
  {
   "cell_type": "markdown",
   "metadata": {},
   "source": [
    "# TASK: Split training and testing data\n"
   ]
  },
  {
   "cell_type": "markdown",
   "metadata": {},
   "source": [
    "First, we need to split the full dataset into training and testing datasets.\n",
    "\n",
    "The training dataset will be used for fitting regression models, and the testing dataset will be used to evaluate the trained models.\n"
   ]
  },
  {
   "cell_type": "markdown",
   "metadata": {},
   "source": [
    "*TODO:* Use the `initial_split()`, `training()`, and `testing()` functions to generate a training dataset consisting of 75% of the original dataset, and a testing dataset using the remaining 25%.\n"
   ]
  },
  {
   "cell_type": "code",
   "execution_count": 4,
   "metadata": {},
   "outputs": [
    {
     "data": {
      "text/html": [
       "<table>\n",
       "<caption>A tibble: 6 × 39</caption>\n",
       "<thead>\n",
       "\t<tr><th scope=col>RENTED_BIKE_COUNT</th><th scope=col>TEMPERATURE</th><th scope=col>HUMIDITY</th><th scope=col>WIND_SPEED</th><th scope=col>VISIBILITY</th><th scope=col>DEW_POINT_TEMPERATURE</th><th scope=col>SOLAR_RADIATION</th><th scope=col>RAINFALL</th><th scope=col>SNOWFALL</th><th scope=col>0</th><th scope=col>⋯</th><th scope=col>6</th><th scope=col>7</th><th scope=col>8</th><th scope=col>9</th><th scope=col>AUTUMN</th><th scope=col>SPRING</th><th scope=col>SUMMER</th><th scope=col>WINTER</th><th scope=col>HOLIDAY</th><th scope=col>NO_HOLIDAY</th></tr>\n",
       "\t<tr><th scope=col>&lt;dbl&gt;</th><th scope=col>&lt;dbl&gt;</th><th scope=col>&lt;dbl&gt;</th><th scope=col>&lt;dbl&gt;</th><th scope=col>&lt;dbl&gt;</th><th scope=col>&lt;dbl&gt;</th><th scope=col>&lt;dbl&gt;</th><th scope=col>&lt;dbl&gt;</th><th scope=col>&lt;dbl&gt;</th><th scope=col>&lt;dbl&gt;</th><th scope=col>⋯</th><th scope=col>&lt;dbl&gt;</th><th scope=col>&lt;dbl&gt;</th><th scope=col>&lt;dbl&gt;</th><th scope=col>&lt;dbl&gt;</th><th scope=col>&lt;dbl&gt;</th><th scope=col>&lt;dbl&gt;</th><th scope=col>&lt;dbl&gt;</th><th scope=col>&lt;dbl&gt;</th><th scope=col>&lt;dbl&gt;</th><th scope=col>&lt;dbl&gt;</th></tr>\n",
       "</thead>\n",
       "<tbody>\n",
       "\t<tr><td>  63</td><td>0.2115385</td><td>0.7346939</td><td>0.1621622</td><td>0.9619868</td><td>0.3581315</td><td>0.00000000</td><td>0.00000000</td><td>0.09090909</td><td>0</td><td>⋯</td><td>0</td><td>0</td><td>0</td><td>0</td><td>0</td><td>0</td><td>0</td><td>1</td><td>0</td><td>1</td></tr>\n",
       "\t<tr><td> 909</td><td>0.7167832</td><td>0.8367347</td><td>0.1486486</td><td>0.9954384</td><td>0.8737024</td><td>0.13352273</td><td>0.00000000</td><td>0.00000000</td><td>0</td><td>⋯</td><td>0</td><td>0</td><td>0</td><td>0</td><td>0</td><td>0</td><td>1</td><td>0</td><td>0</td><td>1</td></tr>\n",
       "\t<tr><td>2122</td><td>0.7622378</td><td>0.6938776</td><td>0.1891892</td><td>1.0000000</td><td>0.8650519</td><td>0.02556818</td><td>0.00000000</td><td>0.00000000</td><td>0</td><td>⋯</td><td>0</td><td>0</td><td>0</td><td>0</td><td>0</td><td>0</td><td>1</td><td>0</td><td>0</td><td>1</td></tr>\n",
       "\t<tr><td> 794</td><td>0.7604895</td><td>0.8469388</td><td>0.1486486</td><td>0.4987329</td><td>0.9186851</td><td>0.02272727</td><td>0.01428571</td><td>0.00000000</td><td>0</td><td>⋯</td><td>0</td><td>0</td><td>0</td><td>0</td><td>0</td><td>0</td><td>1</td><td>0</td><td>0</td><td>1</td></tr>\n",
       "\t<tr><td>2150</td><td>0.5979021</td><td>0.4285714</td><td>0.2432432</td><td>1.0000000</td><td>0.5882353</td><td>0.00000000</td><td>0.00000000</td><td>0.00000000</td><td>0</td><td>⋯</td><td>0</td><td>0</td><td>0</td><td>0</td><td>1</td><td>0</td><td>0</td><td>0</td><td>0</td><td>1</td></tr>\n",
       "\t<tr><td>1425</td><td>0.8881119</td><td>0.4693878</td><td>0.4189189</td><td>0.9624937</td><td>0.8719723</td><td>0.53693182</td><td>0.00000000</td><td>0.00000000</td><td>0</td><td>⋯</td><td>0</td><td>0</td><td>0</td><td>0</td><td>0</td><td>0</td><td>1</td><td>0</td><td>0</td><td>1</td></tr>\n",
       "</tbody>\n",
       "</table>\n"
      ],
      "text/latex": [
       "A tibble: 6 × 39\n",
       "\\begin{tabular}{lllllllllllllllllllll}\n",
       " RENTED\\_BIKE\\_COUNT & TEMPERATURE & HUMIDITY & WIND\\_SPEED & VISIBILITY & DEW\\_POINT\\_TEMPERATURE & SOLAR\\_RADIATION & RAINFALL & SNOWFALL & 0 & ⋯ & 6 & 7 & 8 & 9 & AUTUMN & SPRING & SUMMER & WINTER & HOLIDAY & NO\\_HOLIDAY\\\\\n",
       " <dbl> & <dbl> & <dbl> & <dbl> & <dbl> & <dbl> & <dbl> & <dbl> & <dbl> & <dbl> & ⋯ & <dbl> & <dbl> & <dbl> & <dbl> & <dbl> & <dbl> & <dbl> & <dbl> & <dbl> & <dbl>\\\\\n",
       "\\hline\n",
       "\t   63 & 0.2115385 & 0.7346939 & 0.1621622 & 0.9619868 & 0.3581315 & 0.00000000 & 0.00000000 & 0.09090909 & 0 & ⋯ & 0 & 0 & 0 & 0 & 0 & 0 & 0 & 1 & 0 & 1\\\\\n",
       "\t  909 & 0.7167832 & 0.8367347 & 0.1486486 & 0.9954384 & 0.8737024 & 0.13352273 & 0.00000000 & 0.00000000 & 0 & ⋯ & 0 & 0 & 0 & 0 & 0 & 0 & 1 & 0 & 0 & 1\\\\\n",
       "\t 2122 & 0.7622378 & 0.6938776 & 0.1891892 & 1.0000000 & 0.8650519 & 0.02556818 & 0.00000000 & 0.00000000 & 0 & ⋯ & 0 & 0 & 0 & 0 & 0 & 0 & 1 & 0 & 0 & 1\\\\\n",
       "\t  794 & 0.7604895 & 0.8469388 & 0.1486486 & 0.4987329 & 0.9186851 & 0.02272727 & 0.01428571 & 0.00000000 & 0 & ⋯ & 0 & 0 & 0 & 0 & 0 & 0 & 1 & 0 & 0 & 1\\\\\n",
       "\t 2150 & 0.5979021 & 0.4285714 & 0.2432432 & 1.0000000 & 0.5882353 & 0.00000000 & 0.00000000 & 0.00000000 & 0 & ⋯ & 0 & 0 & 0 & 0 & 1 & 0 & 0 & 0 & 0 & 1\\\\\n",
       "\t 1425 & 0.8881119 & 0.4693878 & 0.4189189 & 0.9624937 & 0.8719723 & 0.53693182 & 0.00000000 & 0.00000000 & 0 & ⋯ & 0 & 0 & 0 & 0 & 0 & 0 & 1 & 0 & 0 & 1\\\\\n",
       "\\end{tabular}\n"
      ],
      "text/markdown": [
       "\n",
       "A tibble: 6 × 39\n",
       "\n",
       "| RENTED_BIKE_COUNT &lt;dbl&gt; | TEMPERATURE &lt;dbl&gt; | HUMIDITY &lt;dbl&gt; | WIND_SPEED &lt;dbl&gt; | VISIBILITY &lt;dbl&gt; | DEW_POINT_TEMPERATURE &lt;dbl&gt; | SOLAR_RADIATION &lt;dbl&gt; | RAINFALL &lt;dbl&gt; | SNOWFALL &lt;dbl&gt; | 0 &lt;dbl&gt; | ⋯ ⋯ | 6 &lt;dbl&gt; | 7 &lt;dbl&gt; | 8 &lt;dbl&gt; | 9 &lt;dbl&gt; | AUTUMN &lt;dbl&gt; | SPRING &lt;dbl&gt; | SUMMER &lt;dbl&gt; | WINTER &lt;dbl&gt; | HOLIDAY &lt;dbl&gt; | NO_HOLIDAY &lt;dbl&gt; |\n",
       "|---|---|---|---|---|---|---|---|---|---|---|---|---|---|---|---|---|---|---|---|---|\n",
       "|   63 | 0.2115385 | 0.7346939 | 0.1621622 | 0.9619868 | 0.3581315 | 0.00000000 | 0.00000000 | 0.09090909 | 0 | ⋯ | 0 | 0 | 0 | 0 | 0 | 0 | 0 | 1 | 0 | 1 |\n",
       "|  909 | 0.7167832 | 0.8367347 | 0.1486486 | 0.9954384 | 0.8737024 | 0.13352273 | 0.00000000 | 0.00000000 | 0 | ⋯ | 0 | 0 | 0 | 0 | 0 | 0 | 1 | 0 | 0 | 1 |\n",
       "| 2122 | 0.7622378 | 0.6938776 | 0.1891892 | 1.0000000 | 0.8650519 | 0.02556818 | 0.00000000 | 0.00000000 | 0 | ⋯ | 0 | 0 | 0 | 0 | 0 | 0 | 1 | 0 | 0 | 1 |\n",
       "|  794 | 0.7604895 | 0.8469388 | 0.1486486 | 0.4987329 | 0.9186851 | 0.02272727 | 0.01428571 | 0.00000000 | 0 | ⋯ | 0 | 0 | 0 | 0 | 0 | 0 | 1 | 0 | 0 | 1 |\n",
       "| 2150 | 0.5979021 | 0.4285714 | 0.2432432 | 1.0000000 | 0.5882353 | 0.00000000 | 0.00000000 | 0.00000000 | 0 | ⋯ | 0 | 0 | 0 | 0 | 1 | 0 | 0 | 0 | 0 | 1 |\n",
       "| 1425 | 0.8881119 | 0.4693878 | 0.4189189 | 0.9624937 | 0.8719723 | 0.53693182 | 0.00000000 | 0.00000000 | 0 | ⋯ | 0 | 0 | 0 | 0 | 0 | 0 | 1 | 0 | 0 | 1 |\n",
       "\n"
      ],
      "text/plain": [
       "  RENTED_BIKE_COUNT TEMPERATURE HUMIDITY  WIND_SPEED VISIBILITY\n",
       "1   63              0.2115385   0.7346939 0.1621622  0.9619868 \n",
       "2  909              0.7167832   0.8367347 0.1486486  0.9954384 \n",
       "3 2122              0.7622378   0.6938776 0.1891892  1.0000000 \n",
       "4  794              0.7604895   0.8469388 0.1486486  0.4987329 \n",
       "5 2150              0.5979021   0.4285714 0.2432432  1.0000000 \n",
       "6 1425              0.8881119   0.4693878 0.4189189  0.9624937 \n",
       "  DEW_POINT_TEMPERATURE SOLAR_RADIATION RAINFALL   SNOWFALL   0 ⋯ 6 7 8 9\n",
       "1 0.3581315             0.00000000      0.00000000 0.09090909 0 ⋯ 0 0 0 0\n",
       "2 0.8737024             0.13352273      0.00000000 0.00000000 0 ⋯ 0 0 0 0\n",
       "3 0.8650519             0.02556818      0.00000000 0.00000000 0 ⋯ 0 0 0 0\n",
       "4 0.9186851             0.02272727      0.01428571 0.00000000 0 ⋯ 0 0 0 0\n",
       "5 0.5882353             0.00000000      0.00000000 0.00000000 0 ⋯ 0 0 0 0\n",
       "6 0.8719723             0.53693182      0.00000000 0.00000000 0 ⋯ 0 0 0 0\n",
       "  AUTUMN SPRING SUMMER WINTER HOLIDAY NO_HOLIDAY\n",
       "1 0      0      0      1      0       1         \n",
       "2 0      0      1      0      0       1         \n",
       "3 0      0      1      0      0       1         \n",
       "4 0      0      1      0      0       1         \n",
       "5 1      0      0      0      0       1         \n",
       "6 0      0      1      0      0       1         "
      ]
     },
     "metadata": {},
     "output_type": "display_data"
    }
   ],
   "source": [
    "# Use the `initial_split()`, `training()`, and `testing()` functions to split the dataset\n",
    "# With seed 1234\n",
    "set.seed(1234)\n",
    "bike_split <- initial_split(bike_sharing_df, prop=0.25)\n",
    "# prop = 3/4\n",
    "# train_data \n",
    "bike_train <- training(bike_split)\n",
    "# test_data\n",
    "bike_test <- testing(bike_split)\n",
    "head(bike_train)"
   ]
  },
  {
   "cell_type": "markdown",
   "metadata": {},
   "source": [
    "# TASK: Build a linear regression model using weather variables only\n"
   ]
  },
  {
   "cell_type": "markdown",
   "metadata": {},
   "source": [
    "As you could imagine, weather conditions may affect people's bike renting decisions. For example, on a cold and rainy day, you may choose alternate transportation such as a bus or taxi.  While on a nice sunny day, you may want to rent a bike for a short-distance travel.\n"
   ]
  },
  {
   "cell_type": "markdown",
   "metadata": {},
   "source": [
    "Thus, can we predict a city's bike-sharing demand based on its local weather information? Let's try to build a regression model to do that.\n"
   ]
  },
  {
   "cell_type": "markdown",
   "metadata": {},
   "source": [
    "*TODO:* Build a linear regression model called `lm_model_weather` using the following variables:\n",
    "\n",
    "*   `TEMPERATURE` - Temperature in Celsius\n",
    "*   `HUMIDITY` - Unit is `%`\n",
    "*   `WIND_SPEED` - Unit is `m/s`\n",
    "*   `VISIBILITY` - Multiplied by 10m\n",
    "*   `DEW_POINT_TEMPERATURE` - The temperature to which the air would have to cool down in order to reach saturation, unit is Celsius\n",
    "*   `SOLAR_RADIATION` - MJ/m2\n",
    "*   `RAINFALL` - mm\n",
    "*   `SNOWFALL` - cm\n"
   ]
  },
  {
   "cell_type": "markdown",
   "metadata": {},
   "source": [
    "Define a linear regression model specification.\n"
   ]
  },
  {
   "cell_type": "code",
   "execution_count": 5,
   "metadata": {},
   "outputs": [],
   "source": [
    "# Use `linear_reg()` with engine `lm` and mode `regression`\n",
    "lm_spec <- linear_reg() %>% set_engine(engine=\"lm\") %>% translate()"
   ]
  },
  {
   "cell_type": "markdown",
   "metadata": {},
   "source": [
    "Fit a model with the response variable `RENTED_BIKE_COUNT` and predictor variables `TEMPERATURE + HUMIDITY + WIND_SPEED + VISIBILITY + DEW_POINT_TEMPERATURE + SOLAR_RADIATION + RAINFALL + SNOWFALL`\n"
   ]
  },
  {
   "cell_type": "code",
   "execution_count": 6,
   "metadata": {},
   "outputs": [],
   "source": [
    "# Fit the model called `lm_model_weather`\n",
    "# RENTED_BIKE_COUNT ~ TEMPERATURE + HUMIDITY + WIND_SPEED + VISIBILITY + DEW_POINT_TEMPERATURE + SOLAR_RADIATION + RAINFALL + SNOWFALL,  \n",
    "#with the training data\n",
    "lm_weather_model <- lm_spec %>% \n",
    "                                fit(RENTED_BIKE_COUNT ~ TEMPERATURE + HUMIDITY + WIND_SPEED + VISIBILITY + DEW_POINT_TEMPERATURE + SOLAR_RADIATION + \n",
    "                                    RAINFALL + SNOWFALL, data = bike_train)"
   ]
  },
  {
   "cell_type": "markdown",
   "metadata": {},
   "source": [
    "Print the fit summary for the `lm_model_weather` model.\n"
   ]
  },
  {
   "cell_type": "code",
   "execution_count": 7,
   "metadata": {},
   "outputs": [
    {
     "data": {
      "text/plain": [
       "\n",
       "Call:\n",
       "stats::lm(formula = RENTED_BIKE_COUNT ~ TEMPERATURE + HUMIDITY + \n",
       "    WIND_SPEED + VISIBILITY + DEW_POINT_TEMPERATURE + SOLAR_RADIATION + \n",
       "    RAINFALL + SNOWFALL, data = data)\n",
       "\n",
       "Residuals:\n",
       "     Min       1Q   Median       3Q      Max \n",
       "-1248.48  -289.26   -54.28   206.95  1988.66 \n",
       "\n",
       "Coefficients:\n",
       "                      Estimate Std. Error t value Pr(>|t|)    \n",
       "(Intercept)             503.98     117.58   4.286 1.90e-05 ***\n",
       "TEMPERATURE             441.01     537.55   0.820  0.41207    \n",
       "HUMIDITY              -1805.22     270.31  -6.678 3.08e-11 ***\n",
       "WIND_SPEED              382.22      79.26   4.822 1.52e-06 ***\n",
       "VISIBILITY              -12.57      41.42  -0.304  0.76153    \n",
       "DEW_POINT_TEMPERATURE  1753.79     580.52   3.021  0.00255 ** \n",
       "SOLAR_RADIATION        -367.57      57.64  -6.377 2.21e-10 ***\n",
       "RAINFALL              -2439.12     455.54  -5.354 9.52e-08 ***\n",
       "SNOWFALL                343.70     186.58   1.842  0.06560 .  \n",
       "---\n",
       "Signif. codes:  0 ‘***’ 0.001 ‘**’ 0.01 ‘*’ 0.05 ‘.’ 0.1 ‘ ’ 1\n",
       "\n",
       "Residual standard error: 469.3 on 2107 degrees of freedom\n",
       "Multiple R-squared:  0.4508,\tAdjusted R-squared:  0.4487 \n",
       "F-statistic: 216.2 on 8 and 2107 DF,  p-value: < 2.2e-16\n"
      ]
     },
     "metadata": {},
     "output_type": "display_data"
    }
   ],
   "source": [
    "summary(lm_weather_model$fit)"
   ]
  },
  {
   "cell_type": "markdown",
   "metadata": {},
   "source": [
    "You should see the model details such as formula, residuals, and coefficients.\n"
   ]
  },
  {
   "cell_type": "markdown",
   "metadata": {},
   "source": [
    "# TASK: Build a linear regression model using all variables\n"
   ]
  },
  {
   "cell_type": "markdown",
   "metadata": {},
   "source": [
    "In addition to weather, there could be other factors that may affect bike rental demand, such as the time of a day or if today is a holiday or not.\n"
   ]
  },
  {
   "cell_type": "markdown",
   "metadata": {},
   "source": [
    "Next, let's build a linear regression model using all variables (weather + date/time) in this task.\n"
   ]
  },
  {
   "cell_type": "markdown",
   "metadata": {},
   "source": [
    "*TODO:* Build a linear regression model called `lm_model_all` using all variables `RENTED_BIKE_COUNT ~ .`\n"
   ]
  },
  {
   "cell_type": "code",
   "execution_count": 8,
   "metadata": {},
   "outputs": [],
   "source": [
    "# Fit the model called `lm_model_all`\n",
    "# `RENTED_BIKE_COUNT ~ .` means use all other variables except for the response variable\n",
    "lm_model_all <- lm_spec %>%\n",
    "                 fit(RENTED_BIKE_COUNT ~ ., data = bike_train)\n"
   ]
  },
  {
   "cell_type": "markdown",
   "metadata": {},
   "source": [
    "Print the fit summary for `lm_model_all`.\n"
   ]
  },
  {
   "cell_type": "code",
   "execution_count": 9,
   "metadata": {},
   "outputs": [
    {
     "data": {
      "text/plain": [
       "\n",
       "Call:\n",
       "stats::lm(formula = RENTED_BIKE_COUNT ~ ., data = data)\n",
       "\n",
       "Residuals:\n",
       "     Min       1Q   Median       3Q      Max \n",
       "-1345.34  -213.18    -0.24   190.00  1413.61 \n",
       "\n",
       "Coefficients: (3 not defined because of singularities)\n",
       "                      Estimate Std. Error t value Pr(>|t|)    \n",
       "(Intercept)             479.24      99.03   4.839 1.40e-06 ***\n",
       "TEMPERATURE            -498.10     435.94  -1.143 0.253335    \n",
       "HUMIDITY              -1415.53     217.00  -6.523 8.62e-11 ***\n",
       "WIND_SPEED               -4.00      66.68  -0.060 0.952167    \n",
       "VISIBILITY              -18.64      33.70  -0.553 0.580212    \n",
       "DEW_POINT_TEMPERATURE  1851.99     466.28   3.972 7.37e-05 ***\n",
       "SOLAR_RADIATION         354.39      69.30   5.114 3.45e-07 ***\n",
       "RAINFALL              -3188.99     361.88  -8.812  < 2e-16 ***\n",
       "SNOWFALL                417.98     148.78   2.809 0.005010 ** \n",
       "`0`                     -60.69      56.77  -1.069 0.285251    \n",
       "`1`                    -146.06      53.76  -2.717 0.006644 ** \n",
       "`10`                   -276.45      54.72  -5.052 4.75e-07 ***\n",
       "`11`                   -287.06      56.08  -5.119 3.35e-07 ***\n",
       "`12`                   -226.82      57.99  -3.911 9.47e-05 ***\n",
       "`13`                   -231.08      56.73  -4.074 4.80e-05 ***\n",
       "`14`                   -222.57      55.67  -3.998 6.61e-05 ***\n",
       "`15`                   -115.59      54.55  -2.119 0.034202 *  \n",
       "`16`                    -19.47      56.75  -0.343 0.731581    \n",
       "`17`                    316.06      55.93   5.651 1.81e-08 ***\n",
       "`18`                    721.43      56.10  12.860  < 2e-16 ***\n",
       "`19`                    461.80      57.64   8.012 1.87e-15 ***\n",
       "`2`                    -202.71      53.69  -3.775 0.000164 ***\n",
       "`20`                    538.28      56.63   9.505  < 2e-16 ***\n",
       "`21`                    394.54      57.06   6.915 6.21e-12 ***\n",
       "`22`                    337.23      58.45   5.770 9.11e-09 ***\n",
       "`23`                     74.58      57.40   1.299 0.193966    \n",
       "`3`                    -329.97      56.53  -5.837 6.14e-09 ***\n",
       "`4`                    -394.60      55.62  -7.095 1.77e-12 ***\n",
       "`5`                    -378.61      57.06  -6.635 4.13e-11 ***\n",
       "`6`                    -193.50      55.00  -3.518 0.000444 ***\n",
       "`7`                      76.76      54.42   1.411 0.158521    \n",
       "`8`                     402.35      53.53   7.517 8.28e-14 ***\n",
       "`9`                         NA         NA      NA       NA    \n",
       "AUTUMN                  373.88      34.85  10.728  < 2e-16 ***\n",
       "SPRING                  218.13      32.90   6.630 4.26e-11 ***\n",
       "SUMMER                  261.55      49.50   5.284 1.40e-07 ***\n",
       "WINTER                      NA         NA      NA       NA    \n",
       "HOLIDAY                -106.93      37.34  -2.864 0.004225 ** \n",
       "NO_HOLIDAY                  NA         NA      NA       NA    \n",
       "---\n",
       "Signif. codes:  0 ‘***’ 0.001 ‘**’ 0.01 ‘*’ 0.05 ‘.’ 0.1 ‘ ’ 1\n",
       "\n",
       "Residual standard error: 366.4 on 2080 degrees of freedom\n",
       "Multiple R-squared:  0.6696,\tAdjusted R-squared:  0.664 \n",
       "F-statistic: 120.4 on 35 and 2080 DF,  p-value: < 2.2e-16\n"
      ]
     },
     "metadata": {},
     "output_type": "display_data"
    }
   ],
   "source": [
    "summary(lm_model_all$fit)"
   ]
  },
  {
   "cell_type": "markdown",
   "metadata": {},
   "source": [
    "Now you have built two basic linear regression models with different predictor variables, let's evaluate which model has better performance,\n"
   ]
  },
  {
   "cell_type": "markdown",
   "metadata": {},
   "source": [
    "# TASK: Model evaluation and identification of important variables\n"
   ]
  },
  {
   "cell_type": "markdown",
   "metadata": {},
   "source": [
    "Now that you have built two regression models, `lm_model_weather` and `lm_model_all`, with different predictor variables, you need to compare their performance to see which one is better.\n"
   ]
  },
  {
   "cell_type": "markdown",
   "metadata": {},
   "source": [
    "In this project, you will be asked to use very important metrics that are often used in Statistics to determine the performance of a model:\n",
    "\n",
    "1.  R^2 / R-squared\n",
    "2.  Root Mean Squared Error (RMSE)\n",
    "\n",
    "**R-squared**\n",
    "\n",
    "<p>R squared, also known as the coefficient of determination, is a measure to indicate how close the data is to the fitted regression line. The value of R-squared is the percentage of variation of the response variable (y) that is explained by a linear model.</p>\n",
    "\n",
    "**Root Mean Squared Error (RMSE)**\n",
    "$$\n",
    "RMSE = \\sqrt{MSE}\n",
    "$$\n",
    "\n",
    "As you know, the Mean Squared Error measures the average of the squares of errors, where 'error' is the difference between the actual value ($y$) and the estimated value ($ŷ$).\n",
    "Another metric that is related to MSE is **Root Mean Squared Error (RMSE)** and is simply the square root of MSE.\n"
   ]
  },
  {
   "cell_type": "markdown",
   "metadata": {},
   "source": [
    "We first need to test the `lm_model_weather` and `lm_model_all` models against the test dataset `test_data`, and generate `RENTED_BIKE_COUNT` prediction results.\n"
   ]
  },
  {
   "cell_type": "markdown",
   "metadata": {},
   "source": [
    "*TODO:* Make predictions on the testing dataset using both `lm_model_weather` and `lm_model_all` models\n"
   ]
  },
  {
   "cell_type": "code",
   "execution_count": 10,
   "metadata": {},
   "outputs": [
    {
     "name": "stderr",
     "output_type": "stream",
     "text": [
      "Warning message in predict.lm(object = object$fit, newdata = new_data, type = \"response\"):\n",
      "“prediction from a rank-deficient fit may be misleading”"
     ]
    }
   ],
   "source": [
    "# Use predict() function to generate test results for `lm_model_weather` and `lm_model_all`\n",
    "# and generate two test results dataframe with a truth column:\n",
    "\n",
    "# test_results_weather for lm_model_weather model\n",
    "test_results_weather <- lm_weather_model %>% predict(new_data=bike_test) %>% mutate(truth=bike_test$RENTED_BIKE_COUNT)\n",
    "# test_results_all for lm_model_all\n",
    "test_results_all <- lm_model_all %>% predict(new_data=bike_test) %>% mutate(truth=bike_test$RENTED_BIKE_COUNT)"
   ]
  },
  {
   "cell_type": "markdown",
   "metadata": {},
   "source": [
    "NOTE: if you happen to see a warning like : `prediction from a rank-deficient fit may be misleading`, it may be casued by collinearity in the predictor variables. Collinearity means that one predictor variable can be predicted from other predictor variables to some degree. For example, `RAINFALL` could be predicted by `HUMIDITY`.\n",
    "\n",
    "But dont worry, you will address `glmnet` models (Lasso and Elastic-Net Regularized Generalized Linear Models) instead of regular `regression` models to solve this issue and futher improve the model performance.\n"
   ]
  },
  {
   "cell_type": "markdown",
   "metadata": {},
   "source": [
    "Next, let's calculate and print the R-squared and RMSE for the two test results\n"
   ]
  },
  {
   "cell_type": "markdown",
   "metadata": {},
   "source": [
    "*TODO:* Use `rsq()` and `rmse()` functions to calculate R-squared and RMSE metrics for the two test results\n"
   ]
  },
  {
   "cell_type": "code",
   "execution_count": 11,
   "metadata": {},
   "outputs": [],
   "source": [
    "rsq_weather <- rsq(test_results_weather, truth=truth, estimate=.pred)\n",
    "rsq_all <- rsq(test_results_all, truth=truth, estimate=.pred)\n",
    "\n",
    "rmse_weather <- rmse(test_results_weather, truth=truth, estimate=.pred)\n",
    "rmse_all <- rmse(test_results_all, truth=truth, estimate=.pred)"
   ]
  },
  {
   "cell_type": "code",
   "execution_count": 40,
   "metadata": {},
   "outputs": [
    {
     "data": {
      "text/html": [
       "<table>\n",
       "<caption>A tibble: 1 × 3</caption>\n",
       "<thead>\n",
       "\t<tr><th scope=col>.metric</th><th scope=col>.estimator</th><th scope=col>.estimate</th></tr>\n",
       "\t<tr><th scope=col>&lt;chr&gt;</th><th scope=col>&lt;chr&gt;</th><th scope=col>&lt;dbl&gt;</th></tr>\n",
       "</thead>\n",
       "<tbody>\n",
       "\t<tr><td>rsq</td><td>standard</td><td>0.4206625</td></tr>\n",
       "</tbody>\n",
       "</table>\n"
      ],
      "text/latex": [
       "A tibble: 1 × 3\n",
       "\\begin{tabular}{lll}\n",
       " .metric & .estimator & .estimate\\\\\n",
       " <chr> & <chr> & <dbl>\\\\\n",
       "\\hline\n",
       "\t rsq & standard & 0.4206625\\\\\n",
       "\\end{tabular}\n"
      ],
      "text/markdown": [
       "\n",
       "A tibble: 1 × 3\n",
       "\n",
       "| .metric &lt;chr&gt; | .estimator &lt;chr&gt; | .estimate &lt;dbl&gt; |\n",
       "|---|---|---|\n",
       "| rsq | standard | 0.4206625 |\n",
       "\n"
      ],
      "text/plain": [
       "  .metric .estimator .estimate\n",
       "1 rsq     standard   0.4206625"
      ]
     },
     "metadata": {},
     "output_type": "display_data"
    }
   ],
   "source": [
    "rsq_weather"
   ]
  },
  {
   "cell_type": "code",
   "execution_count": 41,
   "metadata": {},
   "outputs": [
    {
     "data": {
      "text/html": [
       "<table>\n",
       "<caption>A tibble: 1 × 3</caption>\n",
       "<thead>\n",
       "\t<tr><th scope=col>.metric</th><th scope=col>.estimator</th><th scope=col>.estimate</th></tr>\n",
       "\t<tr><th scope=col>&lt;chr&gt;</th><th scope=col>&lt;chr&gt;</th><th scope=col>&lt;dbl&gt;</th></tr>\n",
       "</thead>\n",
       "<tbody>\n",
       "\t<tr><td>rsq</td><td>standard</td><td>0.6493384</td></tr>\n",
       "</tbody>\n",
       "</table>\n"
      ],
      "text/latex": [
       "A tibble: 1 × 3\n",
       "\\begin{tabular}{lll}\n",
       " .metric & .estimator & .estimate\\\\\n",
       " <chr> & <chr> & <dbl>\\\\\n",
       "\\hline\n",
       "\t rsq & standard & 0.6493384\\\\\n",
       "\\end{tabular}\n"
      ],
      "text/markdown": [
       "\n",
       "A tibble: 1 × 3\n",
       "\n",
       "| .metric &lt;chr&gt; | .estimator &lt;chr&gt; | .estimate &lt;dbl&gt; |\n",
       "|---|---|---|\n",
       "| rsq | standard | 0.6493384 |\n",
       "\n"
      ],
      "text/plain": [
       "  .metric .estimator .estimate\n",
       "1 rsq     standard   0.6493384"
      ]
     },
     "metadata": {},
     "output_type": "display_data"
    }
   ],
   "source": [
    "rsq_all"
   ]
  },
  {
   "cell_type": "code",
   "execution_count": 42,
   "metadata": {},
   "outputs": [
    {
     "data": {
      "text/html": [
       "<table>\n",
       "<caption>A tibble: 1 × 3</caption>\n",
       "<thead>\n",
       "\t<tr><th scope=col>.metric</th><th scope=col>.estimator</th><th scope=col>.estimate</th></tr>\n",
       "\t<tr><th scope=col>&lt;chr&gt;</th><th scope=col>&lt;chr&gt;</th><th scope=col>&lt;dbl&gt;</th></tr>\n",
       "</thead>\n",
       "<tbody>\n",
       "\t<tr><td>rmse</td><td>standard</td><td>491.5069</td></tr>\n",
       "</tbody>\n",
       "</table>\n"
      ],
      "text/latex": [
       "A tibble: 1 × 3\n",
       "\\begin{tabular}{lll}\n",
       " .metric & .estimator & .estimate\\\\\n",
       " <chr> & <chr> & <dbl>\\\\\n",
       "\\hline\n",
       "\t rmse & standard & 491.5069\\\\\n",
       "\\end{tabular}\n"
      ],
      "text/markdown": [
       "\n",
       "A tibble: 1 × 3\n",
       "\n",
       "| .metric &lt;chr&gt; | .estimator &lt;chr&gt; | .estimate &lt;dbl&gt; |\n",
       "|---|---|---|\n",
       "| rmse | standard | 491.5069 |\n",
       "\n"
      ],
      "text/plain": [
       "  .metric .estimator .estimate\n",
       "1 rmse    standard   491.5069 "
      ]
     },
     "metadata": {},
     "output_type": "display_data"
    }
   ],
   "source": [
    "rmse_weather"
   ]
  },
  {
   "cell_type": "code",
   "execution_count": 43,
   "metadata": {},
   "outputs": [
    {
     "data": {
      "text/html": [
       "<table>\n",
       "<caption>A tibble: 1 × 3</caption>\n",
       "<thead>\n",
       "\t<tr><th scope=col>.metric</th><th scope=col>.estimator</th><th scope=col>.estimate</th></tr>\n",
       "\t<tr><th scope=col>&lt;chr&gt;</th><th scope=col>&lt;chr&gt;</th><th scope=col>&lt;dbl&gt;</th></tr>\n",
       "</thead>\n",
       "<tbody>\n",
       "\t<tr><td>rmse</td><td>standard</td><td>382.3665</td></tr>\n",
       "</tbody>\n",
       "</table>\n"
      ],
      "text/latex": [
       "A tibble: 1 × 3\n",
       "\\begin{tabular}{lll}\n",
       " .metric & .estimator & .estimate\\\\\n",
       " <chr> & <chr> & <dbl>\\\\\n",
       "\\hline\n",
       "\t rmse & standard & 382.3665\\\\\n",
       "\\end{tabular}\n"
      ],
      "text/markdown": [
       "\n",
       "A tibble: 1 × 3\n",
       "\n",
       "| .metric &lt;chr&gt; | .estimator &lt;chr&gt; | .estimate &lt;dbl&gt; |\n",
       "|---|---|---|\n",
       "| rmse | standard | 382.3665 |\n",
       "\n"
      ],
      "text/plain": [
       "  .metric .estimator .estimate\n",
       "1 rmse    standard   382.3665 "
      ]
     },
     "metadata": {},
     "output_type": "display_data"
    }
   ],
   "source": [
    "rmse_all"
   ]
  },
  {
   "cell_type": "markdown",
   "metadata": {},
   "source": [
    "From these tables, you should find that the test results from `lm_model_all` are much better. It means that using both weather and datetime variables in the model generates better prediction results.\n"
   ]
  },
  {
   "cell_type": "markdown",
   "metadata": {},
   "source": [
    "Since `lm_model_all` has many predictor variables, let's check which predictor variables have larger coefficients. Variables with larger coefficients in the model means they attribute more in the prediction of `RENTED_BIKE_COUNT`. In addition, since all predictor variables are normalized to the same scale, 0 to 1, we thus can compare their coefficients directly.\n"
   ]
  },
  {
   "cell_type": "markdown",
   "metadata": {},
   "source": [
    "You could try building another regression model using the non-normalized `seoul_bike_sharing_converted.csv` dataset, and you would find that the coefficients are much different.\n"
   ]
  },
  {
   "cell_type": "markdown",
   "metadata": {},
   "source": [
    "First let's print all coefficients:\n"
   ]
  },
  {
   "cell_type": "code",
   "execution_count": 29,
   "metadata": {},
   "outputs": [
    {
     "name": "stderr",
     "output_type": "stream",
     "text": [
      "Parsed with column specification:\n",
      "cols(\n",
      "  .default = col_double(),\n",
      "  DATE = col_character(),\n",
      "  SEASONS = col_character(),\n",
      "  HOLIDAY = col_character(),\n",
      "  FUNCTIONING_DAY = col_character()\n",
      ")\n",
      "See spec(...) for full column specifications.\n"
     ]
    }
   ],
   "source": [
    "bike_denorm_df <- read_csv('seoul_bike_sharing_converted.csv')"
   ]
  },
  {
   "cell_type": "code",
   "execution_count": 31,
   "metadata": {},
   "outputs": [],
   "source": [
    "bike_denorm_df <- bike_denorm_df %>% select(-DATE, -FUNCTIONING_DAY)"
   ]
  },
  {
   "cell_type": "code",
   "execution_count": 33,
   "metadata": {},
   "outputs": [],
   "source": [
    "set.seed(2345)\n",
    "denorm_split <- initial_split(bike_denorm_df, prop=0.25)\n",
    "denorm_train <- training(denorm_split)\n",
    "denorm_test <- testing(denorm_split)"
   ]
  },
  {
   "cell_type": "code",
   "execution_count": 34,
   "metadata": {},
   "outputs": [],
   "source": [
    "lm_denorm_weather <- lm_spec %>% \n",
    "                                fit(RENTED_BIKE_COUNT ~ TEMPERATURE + HUMIDITY + WIND_SPEED + VISIBILITY + DEW_POINT_TEMPERATURE + SOLAR_RADIATION + \n",
    "                                    RAINFALL + SNOWFALL, data = denorm_train)"
   ]
  },
  {
   "cell_type": "code",
   "execution_count": 35,
   "metadata": {},
   "outputs": [
    {
     "data": {
      "text/plain": [
       "\n",
       "Call:\n",
       "stats::lm(formula = RENTED_BIKE_COUNT ~ TEMPERATURE + HUMIDITY + \n",
       "    WIND_SPEED + VISIBILITY + DEW_POINT_TEMPERATURE + SOLAR_RADIATION + \n",
       "    RAINFALL + SNOWFALL, data = data)\n",
       "\n",
       "Residuals:\n",
       "     Min       1Q   Median       3Q      Max \n",
       "-1465.74  -285.16   -48.36   201.22  1977.61 \n",
       "\n",
       "Coefficients:\n",
       "                       Estimate Std. Error t value Pr(>|t|)    \n",
       "(Intercept)           953.95787  206.01611   4.631 3.87e-06 ***\n",
       "TEMPERATURE            32.66008    7.98226   4.092 4.45e-05 ***\n",
       "HUMIDITY              -12.15734    2.30011  -5.286 1.38e-07 ***\n",
       "WIND_SPEED             46.26508   10.85617   4.262 2.12e-05 ***\n",
       "VISIBILITY              0.01455    0.02136   0.681    0.496    \n",
       "DEW_POINT_TEMPERATURE   4.76857    8.44637   0.565    0.572    \n",
       "SOLAR_RADIATION       -92.85377   16.48274  -5.633 2.00e-08 ***\n",
       "RAINFALL              -51.12764    9.32107  -5.485 4.63e-08 ***\n",
       "SNOWFALL               45.80254   29.52271   1.551    0.121    \n",
       "---\n",
       "Signif. codes:  0 ‘***’ 0.001 ‘**’ 0.01 ‘*’ 0.05 ‘.’ 0.1 ‘ ’ 1\n",
       "\n",
       "Residual standard error: 465.7 on 2107 degrees of freedom\n",
       "Multiple R-squared:  0.4673,\tAdjusted R-squared:  0.4653 \n",
       "F-statistic:   231 on 8 and 2107 DF,  p-value: < 2.2e-16\n"
      ]
     },
     "metadata": {},
     "output_type": "display_data"
    }
   ],
   "source": [
    "summary(lm_denorm_weather$fit)"
   ]
  },
  {
   "cell_type": "code",
   "execution_count": 36,
   "metadata": {},
   "outputs": [],
   "source": [
    "lm_denorm_all <- lm_spec %>%\n",
    "                  fit(RENTED_BIKE_COUNT ~., data=denorm_train)"
   ]
  },
  {
   "cell_type": "code",
   "execution_count": 37,
   "metadata": {},
   "outputs": [
    {
     "data": {
      "text/plain": [
       "\n",
       "Call:\n",
       "stats::lm(formula = RENTED_BIKE_COUNT ~ ., data = data)\n",
       "\n",
       "Residuals:\n",
       "     Min       1Q   Median       3Q      Max \n",
       "-1229.15  -209.98   -13.64   198.25  1291.42 \n",
       "\n",
       "Coefficients: (8 not defined because of singularities)\n",
       "                        Estimate Std. Error t value Pr(>|t|)    \n",
       "(Intercept)            5.665e+03  5.120e+02  11.063  < 2e-16 ***\n",
       "HOUR                  -5.098e+02  5.623e+01  -9.068  < 2e-16 ***\n",
       "TEMPERATURE            1.078e+01  6.406e+00   1.683   0.0926 .  \n",
       "HUMIDITY              -1.015e+01  1.801e+00  -5.635 1.99e-08 ***\n",
       "WIND_SPEED            -1.360e+01  9.136e+00  -1.488   0.1369    \n",
       "VISIBILITY             2.530e-02  1.718e-02   1.473   0.1409    \n",
       "DEW_POINT_TEMPERATURE  1.337e+01  6.683e+00   2.001   0.0455 *  \n",
       "SOLAR_RADIATION        9.576e+01  1.935e+01   4.949 8.08e-07 ***\n",
       "RAINFALL              -6.604e+01  7.288e+00  -9.060  < 2e-16 ***\n",
       "SNOWFALL               4.548e+01  2.318e+01   1.962   0.0499 *  \n",
       "SEASONSSpring         -1.383e+02  2.363e+01  -5.854 5.56e-09 ***\n",
       "SEASONSSummer         -1.339e+02  2.896e+01  -4.625 3.98e-06 ***\n",
       "SEASONSWinter         -3.523e+02  3.338e+01 -10.555  < 2e-16 ***\n",
       "HOLIDAYNo Holiday      1.539e+02  3.873e+01   3.973 7.33e-05 ***\n",
       "HOUR_0                -4.606e+03  4.802e+02  -9.592  < 2e-16 ***\n",
       "HOUR_1                -4.241e+03  4.244e+02  -9.992  < 2e-16 ***\n",
       "HOUR_10                2.405e+02  9.455e+01   2.543   0.0111 *  \n",
       "HOUR_11                7.488e+02  1.459e+02   5.131 3.15e-07 ***\n",
       "HOUR_12                1.314e+03  1.997e+02   6.578 6.00e-11 ***\n",
       "HOUR_13                1.817e+03  2.545e+02   7.139 1.29e-12 ***\n",
       "HOUR_14                2.363e+03  3.098e+02   7.628 3.62e-14 ***\n",
       "HOUR_15                2.934e+03  3.660e+02   8.016 1.81e-15 ***\n",
       "HOUR_16                3.610e+03  4.220e+02   8.555  < 2e-16 ***\n",
       "HOUR_17                4.416e+03  4.788e+02   9.224  < 2e-16 ***\n",
       "HOUR_18                5.356e+03  5.358e+02   9.997  < 2e-16 ***\n",
       "HOUR_19                5.519e+03  5.923e+02   9.317  < 2e-16 ***\n",
       "HOUR_2                -3.817e+03  3.685e+02 -10.358  < 2e-16 ***\n",
       "HOUR_20                5.976e+03  6.481e+02   9.221  < 2e-16 ***\n",
       "HOUR_21                6.588e+03  7.045e+02   9.351  < 2e-16 ***\n",
       "HOUR_22                6.914e+03  7.609e+02   9.086  < 2e-16 ***\n",
       "HOUR_23                7.212e+03  8.168e+02   8.829  < 2e-16 ***\n",
       "HOUR_3                -3.421e+03  3.129e+02 -10.931  < 2e-16 ***\n",
       "HOUR_4                -2.928e+03  2.577e+02 -11.359  < 2e-16 ***\n",
       "HOUR_5                -2.440e+03  2.021e+02 -12.074  < 2e-16 ***\n",
       "HOUR_6                -1.763e+03  1.483e+02 -11.889  < 2e-16 ***\n",
       "HOUR_7                -9.242e+02  9.796e+01  -9.435  < 2e-16 ***\n",
       "HOUR_8                        NA         NA      NA       NA    \n",
       "HOUR_9                        NA         NA      NA       NA    \n",
       "SEASONS_AUTUMN                NA         NA      NA       NA    \n",
       "SEASONS_SPRING                NA         NA      NA       NA    \n",
       "SEASONS_SUMMER                NA         NA      NA       NA    \n",
       "SEASONS_WINTER                NA         NA      NA       NA    \n",
       "HOLIDAY_HOLIDAY               NA         NA      NA       NA    \n",
       "HOLIDAY_NO_HOLIDAY            NA         NA      NA       NA    \n",
       "---\n",
       "Signif. codes:  0 ‘***’ 0.001 ‘**’ 0.01 ‘*’ 0.05 ‘.’ 0.1 ‘ ’ 1\n",
       "\n",
       "Residual standard error: 357.3 on 2080 degrees of freedom\n",
       "Multiple R-squared:  0.6904,\tAdjusted R-squared:  0.6852 \n",
       "F-statistic: 132.5 on 35 and 2080 DF,  p-value: < 2.2e-16\n"
      ]
     },
     "metadata": {},
     "output_type": "display_data"
    }
   ],
   "source": [
    "summary(lm_denorm_all$fit)"
   ]
  },
  {
   "cell_type": "code",
   "execution_count": 38,
   "metadata": {},
   "outputs": [
    {
     "name": "stderr",
     "output_type": "stream",
     "text": [
      "Warning message in predict.lm(object = object$fit, newdata = new_data, type = \"response\"):\n",
      "“prediction from a rank-deficient fit may be misleading”"
     ]
    }
   ],
   "source": [
    "test_denorm_weather <- lm_denorm_weather %>% predict(new_data=denorm_test) %>% mutate(truth=denorm_test$RENTED_BIKE_COUNT)\n",
    "\n",
    "test_denorm_all <- lm_denorm_all %>% predict(new_data=denorm_test) %>% mutate(truth=denorm_test$RENTED_BIKE_COUNT)"
   ]
  },
  {
   "cell_type": "code",
   "execution_count": 39,
   "metadata": {},
   "outputs": [],
   "source": [
    "rsq_denorm_weather <- rsq(test_denorm_weather, truth=truth, estimate=.pred)\n",
    "rsq_denorm_all <- rsq(test_denorm_all, truth=truth, estimate=.pred)\n",
    "\n",
    "rmse_denorm_weather <- rmse(test_denorm_weather, truth=truth, estimate=.pred)\n",
    "rmse_denorm_all <- rmse(test_denorm_all, truth=truth, estimate=.pred)"
   ]
  },
  {
   "cell_type": "code",
   "execution_count": 44,
   "metadata": {},
   "outputs": [
    {
     "data": {
      "text/html": [
       "<table>\n",
       "<caption>A tibble: 1 × 3</caption>\n",
       "<thead>\n",
       "\t<tr><th scope=col>.metric</th><th scope=col>.estimator</th><th scope=col>.estimate</th></tr>\n",
       "\t<tr><th scope=col>&lt;chr&gt;</th><th scope=col>&lt;chr&gt;</th><th scope=col>&lt;dbl&gt;</th></tr>\n",
       "</thead>\n",
       "<tbody>\n",
       "\t<tr><td>rsq</td><td>standard</td><td>0.4201474</td></tr>\n",
       "</tbody>\n",
       "</table>\n"
      ],
      "text/latex": [
       "A tibble: 1 × 3\n",
       "\\begin{tabular}{lll}\n",
       " .metric & .estimator & .estimate\\\\\n",
       " <chr> & <chr> & <dbl>\\\\\n",
       "\\hline\n",
       "\t rsq & standard & 0.4201474\\\\\n",
       "\\end{tabular}\n"
      ],
      "text/markdown": [
       "\n",
       "A tibble: 1 × 3\n",
       "\n",
       "| .metric &lt;chr&gt; | .estimator &lt;chr&gt; | .estimate &lt;dbl&gt; |\n",
       "|---|---|---|\n",
       "| rsq | standard | 0.4201474 |\n",
       "\n"
      ],
      "text/plain": [
       "  .metric .estimator .estimate\n",
       "1 rsq     standard   0.4201474"
      ]
     },
     "metadata": {},
     "output_type": "display_data"
    }
   ],
   "source": [
    "rsq_denorm_weather"
   ]
  },
  {
   "cell_type": "code",
   "execution_count": 45,
   "metadata": {},
   "outputs": [
    {
     "data": {
      "text/html": [
       "<table>\n",
       "<caption>A tibble: 1 × 3</caption>\n",
       "<thead>\n",
       "\t<tr><th scope=col>.metric</th><th scope=col>.estimator</th><th scope=col>.estimate</th></tr>\n",
       "\t<tr><th scope=col>&lt;chr&gt;</th><th scope=col>&lt;chr&gt;</th><th scope=col>&lt;dbl&gt;</th></tr>\n",
       "</thead>\n",
       "<tbody>\n",
       "\t<tr><td>rsq</td><td>standard</td><td>0.6483549</td></tr>\n",
       "</tbody>\n",
       "</table>\n"
      ],
      "text/latex": [
       "A tibble: 1 × 3\n",
       "\\begin{tabular}{lll}\n",
       " .metric & .estimator & .estimate\\\\\n",
       " <chr> & <chr> & <dbl>\\\\\n",
       "\\hline\n",
       "\t rsq & standard & 0.6483549\\\\\n",
       "\\end{tabular}\n"
      ],
      "text/markdown": [
       "\n",
       "A tibble: 1 × 3\n",
       "\n",
       "| .metric &lt;chr&gt; | .estimator &lt;chr&gt; | .estimate &lt;dbl&gt; |\n",
       "|---|---|---|\n",
       "| rsq | standard | 0.6483549 |\n",
       "\n"
      ],
      "text/plain": [
       "  .metric .estimator .estimate\n",
       "1 rsq     standard   0.6483549"
      ]
     },
     "metadata": {},
     "output_type": "display_data"
    }
   ],
   "source": [
    "rsq_denorm_all"
   ]
  },
  {
   "cell_type": "code",
   "execution_count": 46,
   "metadata": {},
   "outputs": [
    {
     "data": {
      "text/html": [
       "<table>\n",
       "<caption>A tibble: 1 × 3</caption>\n",
       "<thead>\n",
       "\t<tr><th scope=col>.metric</th><th scope=col>.estimator</th><th scope=col>.estimate</th></tr>\n",
       "\t<tr><th scope=col>&lt;chr&gt;</th><th scope=col>&lt;chr&gt;</th><th scope=col>&lt;dbl&gt;</th></tr>\n",
       "</thead>\n",
       "<tbody>\n",
       "\t<tr><td>rmse</td><td>standard</td><td>491.0369</td></tr>\n",
       "</tbody>\n",
       "</table>\n"
      ],
      "text/latex": [
       "A tibble: 1 × 3\n",
       "\\begin{tabular}{lll}\n",
       " .metric & .estimator & .estimate\\\\\n",
       " <chr> & <chr> & <dbl>\\\\\n",
       "\\hline\n",
       "\t rmse & standard & 491.0369\\\\\n",
       "\\end{tabular}\n"
      ],
      "text/markdown": [
       "\n",
       "A tibble: 1 × 3\n",
       "\n",
       "| .metric &lt;chr&gt; | .estimator &lt;chr&gt; | .estimate &lt;dbl&gt; |\n",
       "|---|---|---|\n",
       "| rmse | standard | 491.0369 |\n",
       "\n"
      ],
      "text/plain": [
       "  .metric .estimator .estimate\n",
       "1 rmse    standard   491.0369 "
      ]
     },
     "metadata": {},
     "output_type": "display_data"
    }
   ],
   "source": [
    "rmse_denorm_weather"
   ]
  },
  {
   "cell_type": "code",
   "execution_count": 47,
   "metadata": {},
   "outputs": [
    {
     "data": {
      "text/html": [
       "<table>\n",
       "<caption>A tibble: 1 × 3</caption>\n",
       "<thead>\n",
       "\t<tr><th scope=col>.metric</th><th scope=col>.estimator</th><th scope=col>.estimate</th></tr>\n",
       "\t<tr><th scope=col>&lt;chr&gt;</th><th scope=col>&lt;chr&gt;</th><th scope=col>&lt;dbl&gt;</th></tr>\n",
       "</thead>\n",
       "<tbody>\n",
       "\t<tr><td>rmse</td><td>standard</td><td>382.382</td></tr>\n",
       "</tbody>\n",
       "</table>\n"
      ],
      "text/latex": [
       "A tibble: 1 × 3\n",
       "\\begin{tabular}{lll}\n",
       " .metric & .estimator & .estimate\\\\\n",
       " <chr> & <chr> & <dbl>\\\\\n",
       "\\hline\n",
       "\t rmse & standard & 382.382\\\\\n",
       "\\end{tabular}\n"
      ],
      "text/markdown": [
       "\n",
       "A tibble: 1 × 3\n",
       "\n",
       "| .metric &lt;chr&gt; | .estimator &lt;chr&gt; | .estimate &lt;dbl&gt; |\n",
       "|---|---|---|\n",
       "| rmse | standard | 382.382 |\n",
       "\n"
      ],
      "text/plain": [
       "  .metric .estimator .estimate\n",
       "1 rmse    standard   382.382  "
      ]
     },
     "metadata": {},
     "output_type": "display_data"
    }
   ],
   "source": [
    "rmse_denorm_all"
   ]
  },
  {
   "cell_type": "code",
   "execution_count": 12,
   "metadata": {},
   "outputs": [
    {
     "ename": "ERROR",
     "evalue": "Error in eval(expr, envir, enclos): object 'lm_denorm_all' not found\n",
     "execution_count": 12,
     "output_type": "error",
     "traceback": [
      "Error in eval(expr, envir, enclos): object 'lm_denorm_all' not found\nTraceback:\n"
     ]
    }
   ],
   "source": [
    "lm_denorm_all$fit$coefficients"
   ]
  },
  {
   "cell_type": "code",
   "execution_count": 12,
   "metadata": {},
   "outputs": [
    {
     "data": {
      "text/html": [
       "<style>\n",
       ".dl-inline {width: auto; margin:0; padding: 0}\n",
       ".dl-inline>dt, .dl-inline>dd {float: none; width: auto; display: inline-block}\n",
       ".dl-inline>dt::after {content: \":\\0020\"; padding-right: .5ex}\n",
       ".dl-inline>dt:not(:first-of-type) {padding-left: .5ex}\n",
       "</style><dl class=dl-inline><dt>(Intercept)</dt><dd>479.2384890157</dd><dt>TEMPERATURE</dt><dd>-498.102803679979</dd><dt>HUMIDITY</dt><dd>-1415.53411068717</dd><dt>WIND_SPEED</dt><dd>-4.0003328913823</dd><dt>VISIBILITY</dt><dd>-18.6435194736579</dd><dt>DEW_POINT_TEMPERATURE</dt><dd>1851.98695535908</dd><dt>SOLAR_RADIATION</dt><dd>354.392182202801</dd><dt>RAINFALL</dt><dd>-3188.99328947699</dd><dt>SNOWFALL</dt><dd>417.982519867949</dd><dt>`0`</dt><dd>-60.6849046130022</dd><dt>`1`</dt><dd>-146.059853399921</dd><dt>`10`</dt><dd>-276.449498704223</dd><dt>`11`</dt><dd>-287.0636832803</dd><dt>`12`</dt><dd>-226.822425644202</dd><dt>`13`</dt><dd>-231.075788841471</dd><dt>`14`</dt><dd>-222.57073972092</dd><dt>`15`</dt><dd>-115.588433557822</dd><dt>`16`</dt><dd>-19.4682811004319</dd><dt>`17`</dt><dd>316.058611710878</dd><dt>`18`</dt><dd>721.429500936957</dd><dt>`19`</dt><dd>461.799256895004</dd><dt>`2`</dt><dd>-202.707652293444</dd><dt>`20`</dt><dd>538.277350076294</dd><dt>`21`</dt><dd>394.536263720542</dd><dt>`22`</dt><dd>337.2343413726</dd><dt>`23`</dt><dd>74.5765780485858</dd><dt>`3`</dt><dd>-329.972956323002</dd><dt>`4`</dt><dd>-394.600380035558</dd><dt>`5`</dt><dd>-378.613601171274</dd><dt>`6`</dt><dd>-193.498874928195</dd><dt>`7`</dt><dd>76.7617960889326</dd><dt>`8`</dt><dd>402.352092388489</dd><dt>`9`</dt><dd>&lt;NA&gt;</dd><dt>AUTUMN</dt><dd>373.878012572854</dd><dt>SPRING</dt><dd>218.129913742211</dd><dt>SUMMER</dt><dd>261.548890668997</dd><dt>WINTER</dt><dd>&lt;NA&gt;</dd><dt>HOLIDAY</dt><dd>-106.933482383632</dd><dt>NO_HOLIDAY</dt><dd>&lt;NA&gt;</dd></dl>\n"
      ],
      "text/latex": [
       "\\begin{description*}\n",
       "\\item[(Intercept)] 479.2384890157\n",
       "\\item[TEMPERATURE] -498.102803679979\n",
       "\\item[HUMIDITY] -1415.53411068717\n",
       "\\item[WIND\\textbackslash{}\\_SPEED] -4.0003328913823\n",
       "\\item[VISIBILITY] -18.6435194736579\n",
       "\\item[DEW\\textbackslash{}\\_POINT\\textbackslash{}\\_TEMPERATURE] 1851.98695535908\n",
       "\\item[SOLAR\\textbackslash{}\\_RADIATION] 354.392182202801\n",
       "\\item[RAINFALL] -3188.99328947699\n",
       "\\item[SNOWFALL] 417.982519867949\n",
       "\\item[`0`] -60.6849046130022\n",
       "\\item[`1`] -146.059853399921\n",
       "\\item[`10`] -276.449498704223\n",
       "\\item[`11`] -287.0636832803\n",
       "\\item[`12`] -226.822425644202\n",
       "\\item[`13`] -231.075788841471\n",
       "\\item[`14`] -222.57073972092\n",
       "\\item[`15`] -115.588433557822\n",
       "\\item[`16`] -19.4682811004319\n",
       "\\item[`17`] 316.058611710878\n",
       "\\item[`18`] 721.429500936957\n",
       "\\item[`19`] 461.799256895004\n",
       "\\item[`2`] -202.707652293444\n",
       "\\item[`20`] 538.277350076294\n",
       "\\item[`21`] 394.536263720542\n",
       "\\item[`22`] 337.2343413726\n",
       "\\item[`23`] 74.5765780485858\n",
       "\\item[`3`] -329.972956323002\n",
       "\\item[`4`] -394.600380035558\n",
       "\\item[`5`] -378.613601171274\n",
       "\\item[`6`] -193.498874928195\n",
       "\\item[`7`] 76.7617960889326\n",
       "\\item[`8`] 402.352092388489\n",
       "\\item[`9`] <NA>\n",
       "\\item[AUTUMN] 373.878012572854\n",
       "\\item[SPRING] 218.129913742211\n",
       "\\item[SUMMER] 261.548890668997\n",
       "\\item[WINTER] <NA>\n",
       "\\item[HOLIDAY] -106.933482383632\n",
       "\\item[NO\\textbackslash{}\\_HOLIDAY] <NA>\n",
       "\\end{description*}\n"
      ],
      "text/markdown": [
       "(Intercept)\n",
       ":   479.2384890157TEMPERATURE\n",
       ":   -498.102803679979HUMIDITY\n",
       ":   -1415.53411068717WIND_SPEED\n",
       ":   -4.0003328913823VISIBILITY\n",
       ":   -18.6435194736579DEW_POINT_TEMPERATURE\n",
       ":   1851.98695535908SOLAR_RADIATION\n",
       ":   354.392182202801RAINFALL\n",
       ":   -3188.99328947699SNOWFALL\n",
       ":   417.982519867949`0`\n",
       ":   -60.6849046130022`1`\n",
       ":   -146.059853399921`10`\n",
       ":   -276.449498704223`11`\n",
       ":   -287.0636832803`12`\n",
       ":   -226.822425644202`13`\n",
       ":   -231.075788841471`14`\n",
       ":   -222.57073972092`15`\n",
       ":   -115.588433557822`16`\n",
       ":   -19.4682811004319`17`\n",
       ":   316.058611710878`18`\n",
       ":   721.429500936957`19`\n",
       ":   461.799256895004`2`\n",
       ":   -202.707652293444`20`\n",
       ":   538.277350076294`21`\n",
       ":   394.536263720542`22`\n",
       ":   337.2343413726`23`\n",
       ":   74.5765780485858`3`\n",
       ":   -329.972956323002`4`\n",
       ":   -394.600380035558`5`\n",
       ":   -378.613601171274`6`\n",
       ":   -193.498874928195`7`\n",
       ":   76.7617960889326`8`\n",
       ":   402.352092388489`9`\n",
       ":   &lt;NA&gt;AUTUMN\n",
       ":   373.878012572854SPRING\n",
       ":   218.129913742211SUMMER\n",
       ":   261.548890668997WINTER\n",
       ":   &lt;NA&gt;HOLIDAY\n",
       ":   -106.933482383632NO_HOLIDAY\n",
       ":   &lt;NA&gt;\n",
       "\n"
      ],
      "text/plain": [
       "          (Intercept)           TEMPERATURE              HUMIDITY \n",
       "           479.238489           -498.102804          -1415.534111 \n",
       "           WIND_SPEED            VISIBILITY DEW_POINT_TEMPERATURE \n",
       "            -4.000333            -18.643519           1851.986955 \n",
       "      SOLAR_RADIATION              RAINFALL              SNOWFALL \n",
       "           354.392182          -3188.993289            417.982520 \n",
       "                  `0`                   `1`                  `10` \n",
       "           -60.684905           -146.059853           -276.449499 \n",
       "                 `11`                  `12`                  `13` \n",
       "          -287.063683           -226.822426           -231.075789 \n",
       "                 `14`                  `15`                  `16` \n",
       "          -222.570740           -115.588434            -19.468281 \n",
       "                 `17`                  `18`                  `19` \n",
       "           316.058612            721.429501            461.799257 \n",
       "                  `2`                  `20`                  `21` \n",
       "          -202.707652            538.277350            394.536264 \n",
       "                 `22`                  `23`                   `3` \n",
       "           337.234341             74.576578           -329.972956 \n",
       "                  `4`                   `5`                   `6` \n",
       "          -394.600380           -378.613601           -193.498875 \n",
       "                  `7`                   `8`                   `9` \n",
       "            76.761796            402.352092                    NA \n",
       "               AUTUMN                SPRING                SUMMER \n",
       "           373.878013            218.129914            261.548891 \n",
       "               WINTER               HOLIDAY            NO_HOLIDAY \n",
       "                   NA           -106.933482                    NA "
      ]
     },
     "metadata": {},
     "output_type": "display_data"
    }
   ],
   "source": [
    "lm_model_all$fit$coefficients"
   ]
  },
  {
   "cell_type": "markdown",
   "metadata": {},
   "source": [
    "hmm, it's not very clear to compare the coefficients from a long and unsorted list. Next, you need to sort and visualize them using a bar chart\n"
   ]
  },
  {
   "cell_type": "markdown",
   "metadata": {},
   "source": [
    "*TODO:* Sort the coefficient list in descending order and visualize the result using `ggplot` and `geom_bar`\n"
   ]
  },
  {
   "cell_type": "code",
   "execution_count": null,
   "metadata": {},
   "outputs": [],
   "source": [
    "sorted <- lm_model_all %>% tidy()\n",
    "                \n",
    "sorted <- sorted %>% select(-std.error,-statistic,-p.value)\n",
    "\n",
    "sorted <- sorted %>% arrange(desc(abs(estimate)))\n",
    "\n",
    "sorted <- drop_na(sorted)\n",
    "\n",
    "sorted %>% factor(sorted$estimate, ordered=TRUE, levels=sorted$term)"
   ]
  },
  {
   "cell_type": "code",
   "execution_count": 79,
   "metadata": {},
   "outputs": [
    {
     "data": {
      "text/html": [
       "<table>\n",
       "<caption>A data.frame: 36 × 2</caption>\n",
       "<thead>\n",
       "\t<tr><th></th><th scope=col>Variables</th><th scope=col>Coefficients</th></tr>\n",
       "\t<tr><th></th><th scope=col>&lt;fct&gt;</th><th scope=col>&lt;dbl&gt;</th></tr>\n",
       "</thead>\n",
       "<tbody>\n",
       "\t<tr><th scope=row>1</th><td>WIND_SPEED           </td><td>   4.000333</td></tr>\n",
       "\t<tr><th scope=row>2</th><td>VISIBILITY           </td><td>  18.643519</td></tr>\n",
       "\t<tr><th scope=row>3</th><td>`16`                 </td><td>  19.468281</td></tr>\n",
       "\t<tr><th scope=row>4</th><td>`0`                  </td><td>  60.684905</td></tr>\n",
       "\t<tr><th scope=row>5</th><td>`23`                 </td><td>  74.576578</td></tr>\n",
       "\t<tr><th scope=row>6</th><td>`7`                  </td><td>  76.761796</td></tr>\n",
       "\t<tr><th scope=row>7</th><td>HOLIDAY              </td><td> 106.933482</td></tr>\n",
       "\t<tr><th scope=row>8</th><td>`15`                 </td><td> 115.588434</td></tr>\n",
       "\t<tr><th scope=row>9</th><td>`1`                  </td><td> 146.059853</td></tr>\n",
       "\t<tr><th scope=row>10</th><td>`6`                  </td><td> 193.498875</td></tr>\n",
       "\t<tr><th scope=row>11</th><td>`2`                  </td><td> 202.707652</td></tr>\n",
       "\t<tr><th scope=row>12</th><td>SPRING               </td><td> 218.129914</td></tr>\n",
       "\t<tr><th scope=row>13</th><td>`14`                 </td><td> 222.570740</td></tr>\n",
       "\t<tr><th scope=row>14</th><td>`12`                 </td><td> 226.822426</td></tr>\n",
       "\t<tr><th scope=row>15</th><td>`13`                 </td><td> 231.075789</td></tr>\n",
       "\t<tr><th scope=row>16</th><td>SUMMER               </td><td> 261.548891</td></tr>\n",
       "\t<tr><th scope=row>17</th><td>`10`                 </td><td> 276.449499</td></tr>\n",
       "\t<tr><th scope=row>18</th><td>`11`                 </td><td> 287.063683</td></tr>\n",
       "\t<tr><th scope=row>19</th><td>`17`                 </td><td> 316.058612</td></tr>\n",
       "\t<tr><th scope=row>20</th><td>`3`                  </td><td> 329.972956</td></tr>\n",
       "\t<tr><th scope=row>21</th><td>`22`                 </td><td> 337.234341</td></tr>\n",
       "\t<tr><th scope=row>22</th><td>SOLAR_RADIATION      </td><td> 354.392182</td></tr>\n",
       "\t<tr><th scope=row>23</th><td>AUTUMN               </td><td> 373.878013</td></tr>\n",
       "\t<tr><th scope=row>24</th><td>`5`                  </td><td> 378.613601</td></tr>\n",
       "\t<tr><th scope=row>25</th><td>`21`                 </td><td> 394.536264</td></tr>\n",
       "\t<tr><th scope=row>26</th><td>`4`                  </td><td> 394.600380</td></tr>\n",
       "\t<tr><th scope=row>27</th><td>`8`                  </td><td> 402.352092</td></tr>\n",
       "\t<tr><th scope=row>28</th><td>SNOWFALL             </td><td> 417.982520</td></tr>\n",
       "\t<tr><th scope=row>29</th><td>`19`                 </td><td> 461.799257</td></tr>\n",
       "\t<tr><th scope=row>30</th><td>(Intercept)          </td><td> 479.238489</td></tr>\n",
       "\t<tr><th scope=row>31</th><td>TEMPERATURE          </td><td> 498.102804</td></tr>\n",
       "\t<tr><th scope=row>32</th><td>`20`                 </td><td> 538.277350</td></tr>\n",
       "\t<tr><th scope=row>33</th><td>`18`                 </td><td> 721.429501</td></tr>\n",
       "\t<tr><th scope=row>34</th><td>HUMIDITY             </td><td>1415.534111</td></tr>\n",
       "\t<tr><th scope=row>35</th><td>DEW_POINT_TEMPERATURE</td><td>1851.986955</td></tr>\n",
       "\t<tr><th scope=row>36</th><td>RAINFALL             </td><td>3188.993289</td></tr>\n",
       "</tbody>\n",
       "</table>\n"
      ],
      "text/latex": [
       "A data.frame: 36 × 2\n",
       "\\begin{tabular}{r|ll}\n",
       "  & Variables & Coefficients\\\\\n",
       "  & <fct> & <dbl>\\\\\n",
       "\\hline\n",
       "\t1 & WIND\\_SPEED            &    4.000333\\\\\n",
       "\t2 & VISIBILITY            &   18.643519\\\\\n",
       "\t3 & `16`                  &   19.468281\\\\\n",
       "\t4 & `0`                   &   60.684905\\\\\n",
       "\t5 & `23`                  &   74.576578\\\\\n",
       "\t6 & `7`                   &   76.761796\\\\\n",
       "\t7 & HOLIDAY               &  106.933482\\\\\n",
       "\t8 & `15`                  &  115.588434\\\\\n",
       "\t9 & `1`                   &  146.059853\\\\\n",
       "\t10 & `6`                   &  193.498875\\\\\n",
       "\t11 & `2`                   &  202.707652\\\\\n",
       "\t12 & SPRING                &  218.129914\\\\\n",
       "\t13 & `14`                  &  222.570740\\\\\n",
       "\t14 & `12`                  &  226.822426\\\\\n",
       "\t15 & `13`                  &  231.075789\\\\\n",
       "\t16 & SUMMER                &  261.548891\\\\\n",
       "\t17 & `10`                  &  276.449499\\\\\n",
       "\t18 & `11`                  &  287.063683\\\\\n",
       "\t19 & `17`                  &  316.058612\\\\\n",
       "\t20 & `3`                   &  329.972956\\\\\n",
       "\t21 & `22`                  &  337.234341\\\\\n",
       "\t22 & SOLAR\\_RADIATION       &  354.392182\\\\\n",
       "\t23 & AUTUMN                &  373.878013\\\\\n",
       "\t24 & `5`                   &  378.613601\\\\\n",
       "\t25 & `21`                  &  394.536264\\\\\n",
       "\t26 & `4`                   &  394.600380\\\\\n",
       "\t27 & `8`                   &  402.352092\\\\\n",
       "\t28 & SNOWFALL              &  417.982520\\\\\n",
       "\t29 & `19`                  &  461.799257\\\\\n",
       "\t30 & (Intercept)           &  479.238489\\\\\n",
       "\t31 & TEMPERATURE           &  498.102804\\\\\n",
       "\t32 & `20`                  &  538.277350\\\\\n",
       "\t33 & `18`                  &  721.429501\\\\\n",
       "\t34 & HUMIDITY              & 1415.534111\\\\\n",
       "\t35 & DEW\\_POINT\\_TEMPERATURE & 1851.986955\\\\\n",
       "\t36 & RAINFALL              & 3188.993289\\\\\n",
       "\\end{tabular}\n"
      ],
      "text/markdown": [
       "\n",
       "A data.frame: 36 × 2\n",
       "\n",
       "| <!--/--> | Variables &lt;fct&gt; | Coefficients &lt;dbl&gt; |\n",
       "|---|---|---|\n",
       "| 1 | WIND_SPEED            |    4.000333 |\n",
       "| 2 | VISIBILITY            |   18.643519 |\n",
       "| 3 | `16`                  |   19.468281 |\n",
       "| 4 | `0`                   |   60.684905 |\n",
       "| 5 | `23`                  |   74.576578 |\n",
       "| 6 | `7`                   |   76.761796 |\n",
       "| 7 | HOLIDAY               |  106.933482 |\n",
       "| 8 | `15`                  |  115.588434 |\n",
       "| 9 | `1`                   |  146.059853 |\n",
       "| 10 | `6`                   |  193.498875 |\n",
       "| 11 | `2`                   |  202.707652 |\n",
       "| 12 | SPRING                |  218.129914 |\n",
       "| 13 | `14`                  |  222.570740 |\n",
       "| 14 | `12`                  |  226.822426 |\n",
       "| 15 | `13`                  |  231.075789 |\n",
       "| 16 | SUMMER                |  261.548891 |\n",
       "| 17 | `10`                  |  276.449499 |\n",
       "| 18 | `11`                  |  287.063683 |\n",
       "| 19 | `17`                  |  316.058612 |\n",
       "| 20 | `3`                   |  329.972956 |\n",
       "| 21 | `22`                  |  337.234341 |\n",
       "| 22 | SOLAR_RADIATION       |  354.392182 |\n",
       "| 23 | AUTUMN                |  373.878013 |\n",
       "| 24 | `5`                   |  378.613601 |\n",
       "| 25 | `21`                  |  394.536264 |\n",
       "| 26 | `4`                   |  394.600380 |\n",
       "| 27 | `8`                   |  402.352092 |\n",
       "| 28 | SNOWFALL              |  417.982520 |\n",
       "| 29 | `19`                  |  461.799257 |\n",
       "| 30 | (Intercept)           |  479.238489 |\n",
       "| 31 | TEMPERATURE           |  498.102804 |\n",
       "| 32 | `20`                  |  538.277350 |\n",
       "| 33 | `18`                  |  721.429501 |\n",
       "| 34 | HUMIDITY              | 1415.534111 |\n",
       "| 35 | DEW_POINT_TEMPERATURE | 1851.986955 |\n",
       "| 36 | RAINFALL              | 3188.993289 |\n",
       "\n"
      ],
      "text/plain": [
       "   Variables             Coefficients\n",
       "1  WIND_SPEED               4.000333 \n",
       "2  VISIBILITY              18.643519 \n",
       "3  `16`                    19.468281 \n",
       "4  `0`                     60.684905 \n",
       "5  `23`                    74.576578 \n",
       "6  `7`                     76.761796 \n",
       "7  HOLIDAY                106.933482 \n",
       "8  `15`                   115.588434 \n",
       "9  `1`                    146.059853 \n",
       "10 `6`                    193.498875 \n",
       "11 `2`                    202.707652 \n",
       "12 SPRING                 218.129914 \n",
       "13 `14`                   222.570740 \n",
       "14 `12`                   226.822426 \n",
       "15 `13`                   231.075789 \n",
       "16 SUMMER                 261.548891 \n",
       "17 `10`                   276.449499 \n",
       "18 `11`                   287.063683 \n",
       "19 `17`                   316.058612 \n",
       "20 `3`                    329.972956 \n",
       "21 `22`                   337.234341 \n",
       "22 SOLAR_RADIATION        354.392182 \n",
       "23 AUTUMN                 373.878013 \n",
       "24 `5`                    378.613601 \n",
       "25 `21`                   394.536264 \n",
       "26 `4`                    394.600380 \n",
       "27 `8`                    402.352092 \n",
       "28 SNOWFALL               417.982520 \n",
       "29 `19`                   461.799257 \n",
       "30 (Intercept)            479.238489 \n",
       "31 TEMPERATURE            498.102804 \n",
       "32 `20`                   538.277350 \n",
       "33 `18`                   721.429501 \n",
       "34 HUMIDITY              1415.534111 \n",
       "35 DEW_POINT_TEMPERATURE 1851.986955 \n",
       "36 RAINFALL              3188.993289 "
      ]
     },
     "metadata": {},
     "output_type": "display_data"
    }
   ],
   "source": [
    "# Sort coefficient list\n",
    "sorted <- sort(abs(lm_model_all$fit$coefficients))\n",
    "\n",
    "sorted <- as.data.frame(sorted)\n",
    "\n",
    "sorted <- cbind(Variables = rownames(sorted), sorted)\n",
    "rownames(sorted) <- 1:nrow(sorted)\n",
    "names(sorted)[2] <- \"Coefficients\"\n",
    "\n",
    "sorted$Variables <-factor(sorted$Variables, levels= sorted$Variables[order(sorted$Coefficients)])\n",
    "#sorted\n",
    "                                                \n",
    "#data3$x <- factor(data3$x,                                    # Factor levels in decreasing order\n",
    "                 #levels = data3$x[order(data3$y, decreasing = TRUE)]"
   ]
  },
  {
   "cell_type": "code",
   "execution_count": 80,
   "metadata": {},
   "outputs": [
    {
     "data": {},
     "metadata": {},
     "output_type": "display_data"
    },
    {
     "data": {
      "image/png": "[encoded data removed]",
      "text/plain": [
       "plot without title"
      ]
     },
     "metadata": {},
     "output_type": "display_data",
     "source": "R display func"
    }
   ],
   "source": [
    "# Visualize the list using ggplot and geom_bar\n",
    "ggplot(sorted, aes(x=Variables, y=Coefficients)) +geom_col() +coord_flip() \n",
    "#ggplot(sorted, aes(x=term, y=estimate)) + geom_bar(stat=\"identity\") + coord_flip()"
   ]
  },
  {
   "cell_type": "markdown",
   "metadata": {},
   "source": [
    "You should see a sorted coefficient bar chart like the following example:\n"
   ]
  },
  {
   "cell_type": "markdown",
   "metadata": {},
   "source": [
    "<a href=\"https://cognitiveclass.ai/?utm_medium=Exinfluencer&utm_source=Exinfluencer&utm_content=000026UJ&utm_term=10006555&utm_id=NA-SkillsNetwork-Channel-SkillsNetworkCoursesIBMDeveloperSkillsNetworkRP0321ENSkillsNetwork25371262-2022-01-01\">\n",
    "    <img src=\"https://cf-courses-data.s3.us.cloud-object-storage.appdomain.cloud/IBMDeveloperSkillsNetwork-RP0321EN-SkillsNetwork/labs/module_4/images/coefficient_chart.png\" width=\"600\" align=\"center\">\n",
    "</a>\n"
   ]
  },
  {
   "cell_type": "markdown",
   "metadata": {},
   "source": [
    "Mark down these 'top-ranked variables by coefficient', which will be used for model refinments in the next labs.\n"
   ]
  },
  {
   "cell_type": "markdown",
   "metadata": {},
   "source": [
    "Note that here the main reason we use absolute value is to easily identify important variables, i.e. variables with large magnitudes, no matter it's negative or positive. If we want to interprete the model then it's better to seperate the positive and negative coefficients.\n"
   ]
  },
  {
   "cell_type": "markdown",
   "metadata": {},
   "source": [
    "# Next Steps\n"
   ]
  },
  {
   "cell_type": "markdown",
   "metadata": {},
   "source": [
    "Great! Now you have built a baseline linear regression model to predict hourly bike rent count, with reasonably good performance. In the next lab, you will be refining the baseline model to improve its performance.\n"
   ]
  },
  {
   "cell_type": "markdown",
   "metadata": {},
   "source": [
    "## Authors\n",
    "\n",
    "<a href=\"https://www.linkedin.com/in/yan-luo-96288783/?utm_medium=Exinfluencer&utm_source=Exinfluencer&utm_content=000026UJ&utm_term=10006555&utm_id=NA-SkillsNetwork-Channel-SkillsNetworkCoursesIBMDeveloperSkillsNetworkRP0321ENSkillsNetwork25371262-2022-01-01\" target=\"_blank\">Yan Luo</a>\n"
   ]
  },
  {
   "cell_type": "markdown",
   "metadata": {},
   "source": [
    "### Other Contributors\n",
    "\n",
    "Jeff Grossman\n"
   ]
  },
  {
   "cell_type": "markdown",
   "metadata": {},
   "source": [
    "## Change Log\n",
    "\n",
    "| Date (YYYY-MM-DD) | Version | Changed By | Change Description      |\n",
    "| ----------------- | ------- | ---------- | ----------------------- |\n",
    "| 2021-04-08        | 1.0     | Yan        | Initial version created |\n",
    "|                   |         |            |                         |\n",
    "|                   |         |            |                         |\n",
    "\n",
    "## <h3 align=\"center\"> © IBM Corporation 2021. All rights reserved. <h3/>\n"
   ]
  }
 ],
 "metadata": {
  "kernelspec": {
   "display_name": "R",
   "language": "R",
   "name": "conda-env-r-r"
  },
  "language_info": {
   "codemirror_mode": "r",
   "file_extension": ".r",
   "mimetype": "text/x-r-source",
   "name": "R",
   "pygments_lexer": "r",
   "version": "3.5.1"
  }
 },
 "nbformat": 4,
 "nbformat_minor": 4
}
