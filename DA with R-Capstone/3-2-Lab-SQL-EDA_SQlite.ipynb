{
 "cells": [
  {
   "cell_type": "markdown",
   "metadata": {},
   "source": [
    "<center>\n",
    "    <img src=\"https://s3-api.us-geo.objectstorage.softlayer.net/cf-courses-data/CognitiveClass/Logos/organization_logo/organization_logo.png\" width=\"1000\" alt=\"cognitiveclass.ai logo\"  />\n",
    "</center>\n",
    "\n",
    "# Assignment: Exploratory Data Analysis with SQL\n",
    "\n",
    "Estimated time needed: 60 minutes\n",
    "\n",
    "# Introduction\n",
    "\n",
    "Using this R notebook you will perform exploratory data analysis using SQL queries with the RSQLite R package. You will be graded on the accuracy of your results as well as the content of your SQL queries.\n"
   ]
  },
  {
   "cell_type": "markdown",
   "metadata": {},
   "source": [
    "### Establish your SQlIte connection\n",
    "\n",
    "Load the 'RSQLite' library, and use the 'dbConnect( )' function as you did in the previous lab to establish the connection to your SQLite database.\\\n",
    "You are now ready to start running SQL queries using the RSQLite library as you did in Course 3.\n"
   ]
  },
  {
   "cell_type": "code",
   "execution_count": 1,
   "metadata": {},
   "outputs": [
    {
     "name": "stderr",
     "output_type": "stream",
     "text": [
      "Warning message:\n",
      "“The packages `ellipsis` (>= 0.3.2) and `vctrs` (>= 0.3.8) are required as of rlang 1.0.0.”"
     ]
    }
   ],
   "source": [
    "# provide your solution here\n",
    "#install.packages(\"RSQLite\")\n",
    "library(\"RSQLite\")"
   ]
  },
  {
   "cell_type": "code",
   "execution_count": 3,
   "metadata": {},
   "outputs": [],
   "source": [
    "conn <- dbConnect(RSQLite::SQLite(), \"FinalDB.sqlite\")"
   ]
  },
  {
   "cell_type": "code",
   "execution_count": 6,
   "metadata": {},
   "outputs": [],
   "source": [
    "bike_df <- read.csv('bike_sharing_systems.csv')\n",
    "forecast_df <- read.csv('cities_weather_forecast.csv')\n",
    "cities_df <- read.csv('raw_worldcities.csv')\n",
    "seoul_bike <- read.csv('seoul_bike_sharing_converted_normalized.csv')"
   ]
  },
  {
   "cell_type": "code",
   "execution_count": 11,
   "metadata": {},
   "outputs": [],
   "source": [
    "dbWriteTable(conn, \"WORLD_CITIES\", cities_df, overwrite = TRUE, header = TRUE)\n",
    "dbWriteTable(conn, \"BIKE_SHARING_SYSTEMS\", bike_df, overwrite = TRUE, header = TRUE)\n",
    "dbWriteTable(conn, \"CITIES_WEATHER_FORECAST\", forecast_df, overwrite = TRUE, header = TRUE)\n",
    "dbWriteTable(conn, \"SEOUL_BIKE_SHARING\", seoul_bike, overwrite = TRUE, header = TRUE)"
   ]
  },
  {
   "cell_type": "markdown",
   "metadata": {},
   "source": [
    "Download the following csv files:\n",
    "\n",
    "*   [WORLD_CITIES](https://cf-courses-data.s3.us.cloud-object-storage.appdomain.cloud/IBMDeveloperSkillsNetwork-RP0321EN-SkillsNetwork/labs/datasets/world_cities.csv)\n",
    "\n",
    "*   [BIKE_SHARING_SYSTEMS](https://cf-courses-data.s3.us.cloud-object-storage.appdomain.cloud/IBMDeveloperSkillsNetwork-RP0321EN-SkillsNetwork/labs/datasets/bike_sharing_systems.csv)\n",
    "\n",
    "*   [CITIES_WEATHER_FORECAST](https://cf-courses-data.s3.us.cloud-object-storage.appdomain.cloud/IBMDeveloperSkillsNetwork-RP0321EN-SkillsNetwork/labs/datasets/cities_weather_forecast.csv)\n",
    "\n",
    "*   [SEOUL_BIKE_SHARING](https://cf-courses-data.s3.us.cloud-object-storage.appdomain.cloud/IBMDeveloperSkillsNetwork-RP0321EN-SkillsNetwork/labs/datasets/seoul_bike_sharing.csv)\n",
    "\n",
    "and load the csv's  into 4 tables as mentioned below\n",
    "\n",
    "*   SEOUL_BIKE_SHARING\n",
    "\n",
    "*   CITIES_WEATHER_FORECAST\n",
    "\n",
    "*   BIKE_SHARING_SYSTEMS\n",
    "\n",
    "*   WORLD_CITIES\n",
    "\n",
    "> Hint : Use the read_csv() function and dbWriteTable() functions\n"
   ]
  },
  {
   "cell_type": "markdown",
   "metadata": {},
   "source": [
    "## Task 1 - Record Count\n",
    "\n",
    "#### Determine how many records are in the seoul_bike_sharing dataset.\n"
   ]
  },
  {
   "cell_type": "markdown",
   "metadata": {},
   "source": [
    "### Solution 1\n"
   ]
  },
  {
   "cell_type": "code",
   "execution_count": 12,
   "metadata": {},
   "outputs": [
    {
     "data": {
      "text/html": [
       "<table>\n",
       "<caption>A data.frame: 1 × 1</caption>\n",
       "<thead>\n",
       "\t<tr><th scope=col>COUNT()</th></tr>\n",
       "\t<tr><th scope=col>&lt;int&gt;</th></tr>\n",
       "</thead>\n",
       "<tbody>\n",
       "\t<tr><td>8465</td></tr>\n",
       "</tbody>\n",
       "</table>\n"
      ],
      "text/latex": [
       "A data.frame: 1 × 1\n",
       "\\begin{tabular}{l}\n",
       " COUNT()\\\\\n",
       " <int>\\\\\n",
       "\\hline\n",
       "\t 8465\\\\\n",
       "\\end{tabular}\n"
      ],
      "text/markdown": [
       "\n",
       "A data.frame: 1 × 1\n",
       "\n",
       "| COUNT() &lt;int&gt; |\n",
       "|---|\n",
       "| 8465 |\n",
       "\n"
      ],
      "text/plain": [
       "  COUNT()\n",
       "1 8465   "
      ]
     },
     "metadata": {},
     "output_type": "display_data"
    }
   ],
   "source": [
    "# provide your solution here\n",
    "dbGetQuery(conn, \"SELECT COUNT() FROM SEOUL_BIKE_SHARING\")"
   ]
  },
  {
   "cell_type": "markdown",
   "metadata": {},
   "source": [
    "## Task 2 - Operational Hours\n",
    "\n",
    "#### Determine how many hours had non-zero rented bike count.\n"
   ]
  },
  {
   "cell_type": "markdown",
   "metadata": {},
   "source": [
    "### Solution 2\n"
   ]
  },
  {
   "cell_type": "code",
   "execution_count": 14,
   "metadata": {},
   "outputs": [
    {
     "data": {
      "text/html": [
       "<table>\n",
       "<caption>A data.frame: 1 × 1</caption>\n",
       "<thead>\n",
       "\t<tr><th scope=col>COUNT(HOUR)</th></tr>\n",
       "\t<tr><th scope=col>&lt;int&gt;</th></tr>\n",
       "</thead>\n",
       "<tbody>\n",
       "\t<tr><td>8462</td></tr>\n",
       "</tbody>\n",
       "</table>\n"
      ],
      "text/latex": [
       "A data.frame: 1 × 1\n",
       "\\begin{tabular}{l}\n",
       " COUNT(HOUR)\\\\\n",
       " <int>\\\\\n",
       "\\hline\n",
       "\t 8462\\\\\n",
       "\\end{tabular}\n"
      ],
      "text/markdown": [
       "\n",
       "A data.frame: 1 × 1\n",
       "\n",
       "| COUNT(HOUR) &lt;int&gt; |\n",
       "|---|\n",
       "| 8462 |\n",
       "\n"
      ],
      "text/plain": [
       "  COUNT(HOUR)\n",
       "1 8462       "
      ]
     },
     "metadata": {},
     "output_type": "display_data"
    }
   ],
   "source": [
    "# provide your solution here\n",
    "dbGetQuery(conn,\"SELECT COUNT(HOUR) FROM SEOUL_BIKE_SHARING WHERE RENTED_BIKE_COUNT != 0\")"
   ]
  },
  {
   "cell_type": "markdown",
   "metadata": {},
   "source": [
    "## Task 3 - Weather Outlook\n",
    "\n",
    "#### Query the the weather forecast for Seoul over the next 3 hours.\n",
    "\n",
    "Recall that the records in the CITIES_WEATHER_FORECAST dataset are 3 hours apart, so we just need the first record from the query.\n"
   ]
  },
  {
   "cell_type": "markdown",
   "metadata": {},
   "source": [
    "### Solution 3\n"
   ]
  },
  {
   "cell_type": "code",
   "execution_count": 16,
   "metadata": {},
   "outputs": [
    {
     "data": {
      "text/html": [
       "<table>\n",
       "<caption>A data.frame: 1 × 12</caption>\n",
       "<thead>\n",
       "\t<tr><th scope=col>CITY</th><th scope=col>WEATHER</th><th scope=col>VISIBILITY</th><th scope=col>TEMP</th><th scope=col>TEMP_MIN</th><th scope=col>TEMP_MAX</th><th scope=col>PRESSURE</th><th scope=col>HUMIDITY</th><th scope=col>WIND_SPEED</th><th scope=col>WIND_DEG</th><th scope=col>FORECAST_DATETIME</th><th scope=col>SEASON</th></tr>\n",
       "\t<tr><th scope=col>&lt;chr&gt;</th><th scope=col>&lt;chr&gt;</th><th scope=col>&lt;int&gt;</th><th scope=col>&lt;dbl&gt;</th><th scope=col>&lt;dbl&gt;</th><th scope=col>&lt;dbl&gt;</th><th scope=col>&lt;int&gt;</th><th scope=col>&lt;int&gt;</th><th scope=col>&lt;dbl&gt;</th><th scope=col>&lt;int&gt;</th><th scope=col>&lt;chr&gt;</th><th scope=col>&lt;chr&gt;</th></tr>\n",
       "</thead>\n",
       "<tbody>\n",
       "\t<tr><td>Seoul</td><td>Clouds</td><td>10000</td><td>27.67</td><td>27.67</td><td>27.67</td><td>1006</td><td>51</td><td>1.06</td><td>233</td><td>2022-08-26 03:00:00</td><td>Summer</td></tr>\n",
       "</tbody>\n",
       "</table>\n"
      ],
      "text/latex": [
       "A data.frame: 1 × 12\n",
       "\\begin{tabular}{llllllllllll}\n",
       " CITY & WEATHER & VISIBILITY & TEMP & TEMP\\_MIN & TEMP\\_MAX & PRESSURE & HUMIDITY & WIND\\_SPEED & WIND\\_DEG & FORECAST\\_DATETIME & SEASON\\\\\n",
       " <chr> & <chr> & <int> & <dbl> & <dbl> & <dbl> & <int> & <int> & <dbl> & <int> & <chr> & <chr>\\\\\n",
       "\\hline\n",
       "\t Seoul & Clouds & 10000 & 27.67 & 27.67 & 27.67 & 1006 & 51 & 1.06 & 233 & 2022-08-26 03:00:00 & Summer\\\\\n",
       "\\end{tabular}\n"
      ],
      "text/markdown": [
       "\n",
       "A data.frame: 1 × 12\n",
       "\n",
       "| CITY &lt;chr&gt; | WEATHER &lt;chr&gt; | VISIBILITY &lt;int&gt; | TEMP &lt;dbl&gt; | TEMP_MIN &lt;dbl&gt; | TEMP_MAX &lt;dbl&gt; | PRESSURE &lt;int&gt; | HUMIDITY &lt;int&gt; | WIND_SPEED &lt;dbl&gt; | WIND_DEG &lt;int&gt; | FORECAST_DATETIME &lt;chr&gt; | SEASON &lt;chr&gt; |\n",
       "|---|---|---|---|---|---|---|---|---|---|---|---|\n",
       "| Seoul | Clouds | 10000 | 27.67 | 27.67 | 27.67 | 1006 | 51 | 1.06 | 233 | 2022-08-26 03:00:00 | Summer |\n",
       "\n"
      ],
      "text/plain": [
       "  CITY  WEATHER VISIBILITY TEMP  TEMP_MIN TEMP_MAX PRESSURE HUMIDITY WIND_SPEED\n",
       "1 Seoul Clouds  10000      27.67 27.67    27.67    1006     51       1.06      \n",
       "  WIND_DEG FORECAST_DATETIME   SEASON\n",
       "1 233      2022-08-26 03:00:00 Summer"
      ]
     },
     "metadata": {},
     "output_type": "display_data"
    }
   ],
   "source": [
    "# provide your solution here\n",
    "dbGetQuery(conn,\"SELECT * FROM CITIES_WEATHER_FORECAST WHERE FORECAST_DATETIME = '2022-08-26 03:00:00' AND city ='Seoul'\")"
   ]
  },
  {
   "cell_type": "markdown",
   "metadata": {},
   "source": [
    "## Task 4 - Seasons\n",
    "\n",
    "#### Find which seasons are included in the seoul bike sharing dataset.\n"
   ]
  },
  {
   "cell_type": "markdown",
   "metadata": {},
   "source": [
    "### Solution 4\n"
   ]
  },
  {
   "cell_type": "code",
   "execution_count": 17,
   "metadata": {},
   "outputs": [
    {
     "data": {
      "text/html": [
       "<table>\n",
       "<caption>A data.frame: 4 × 1</caption>\n",
       "<thead>\n",
       "\t<tr><th scope=col>SEASONS</th></tr>\n",
       "\t<tr><th scope=col>&lt;chr&gt;</th></tr>\n",
       "</thead>\n",
       "<tbody>\n",
       "\t<tr><td>Winter</td></tr>\n",
       "\t<tr><td>Spring</td></tr>\n",
       "\t<tr><td>Summer</td></tr>\n",
       "\t<tr><td>Autumn</td></tr>\n",
       "</tbody>\n",
       "</table>\n"
      ],
      "text/latex": [
       "A data.frame: 4 × 1\n",
       "\\begin{tabular}{l}\n",
       " SEASONS\\\\\n",
       " <chr>\\\\\n",
       "\\hline\n",
       "\t Winter\\\\\n",
       "\t Spring\\\\\n",
       "\t Summer\\\\\n",
       "\t Autumn\\\\\n",
       "\\end{tabular}\n"
      ],
      "text/markdown": [
       "\n",
       "A data.frame: 4 × 1\n",
       "\n",
       "| SEASONS &lt;chr&gt; |\n",
       "|---|\n",
       "| Winter |\n",
       "| Spring |\n",
       "| Summer |\n",
       "| Autumn |\n",
       "\n"
      ],
      "text/plain": [
       "  SEASONS\n",
       "1 Winter \n",
       "2 Spring \n",
       "3 Summer \n",
       "4 Autumn "
      ]
     },
     "metadata": {},
     "output_type": "display_data"
    }
   ],
   "source": [
    "# provide your solution here\n",
    "dbGetQuery(conn,\"SELECT DISTINCT SEASONS FROM SEOUL_BIKE_SHARING\")"
   ]
  },
  {
   "cell_type": "markdown",
   "metadata": {},
   "source": [
    "## Task 5 - Date Range\n",
    "\n",
    "#### Find the first and last dates in the Seoul Bike Sharing dataset.\n"
   ]
  },
  {
   "cell_type": "markdown",
   "metadata": {},
   "source": [
    "### Solution 5\n"
   ]
  },
  {
   "cell_type": "code",
   "execution_count": 34,
   "metadata": {},
   "outputs": [
    {
     "data": {
      "text/html": [
       "<table>\n",
       "<caption>A data.frame: 1 × 1</caption>\n",
       "<thead>\n",
       "\t<tr><th scope=col>FIRST_DATE</th></tr>\n",
       "\t<tr><th scope=col>&lt;chr&gt;</th></tr>\n",
       "</thead>\n",
       "<tbody>\n",
       "\t<tr><td>01/12/2017</td></tr>\n",
       "</tbody>\n",
       "</table>\n"
      ],
      "text/latex": [
       "A data.frame: 1 × 1\n",
       "\\begin{tabular}{l}\n",
       " FIRST\\_DATE\\\\\n",
       " <chr>\\\\\n",
       "\\hline\n",
       "\t 01/12/2017\\\\\n",
       "\\end{tabular}\n"
      ],
      "text/markdown": [
       "\n",
       "A data.frame: 1 × 1\n",
       "\n",
       "| FIRST_DATE &lt;chr&gt; |\n",
       "|---|\n",
       "| 01/12/2017 |\n",
       "\n"
      ],
      "text/plain": [
       "  FIRST_DATE\n",
       "1 01/12/2017"
      ]
     },
     "metadata": {},
     "output_type": "display_data"
    },
    {
     "data": {
      "text/html": [
       "<table>\n",
       "<caption>A data.frame: 1 × 1</caption>\n",
       "<thead>\n",
       "\t<tr><th scope=col>LAST_DATE</th></tr>\n",
       "\t<tr><th scope=col>&lt;chr&gt;</th></tr>\n",
       "</thead>\n",
       "<tbody>\n",
       "\t<tr><td>30/11/2018</td></tr>\n",
       "</tbody>\n",
       "</table>\n"
      ],
      "text/latex": [
       "A data.frame: 1 × 1\n",
       "\\begin{tabular}{l}\n",
       " LAST\\_DATE\\\\\n",
       " <chr>\\\\\n",
       "\\hline\n",
       "\t 30/11/2018\\\\\n",
       "\\end{tabular}\n"
      ],
      "text/markdown": [
       "\n",
       "A data.frame: 1 × 1\n",
       "\n",
       "| LAST_DATE &lt;chr&gt; |\n",
       "|---|\n",
       "| 30/11/2018 |\n",
       "\n"
      ],
      "text/plain": [
       "  LAST_DATE \n",
       "1 30/11/2018"
      ]
     },
     "metadata": {},
     "output_type": "display_data"
    }
   ],
   "source": [
    "# provide your solution here\n",
    "dbGetQuery(conn,\"SELECT DATE AS FIRST_DATE FROM SEOUL_BIKE_SHARING LIMIT 1\")\n",
    "dbGetQuery(conn,\"SELECT DATE AS LAST_DATE FROM SEOUL_BIKE_SHARING LIMIT 1 OFFSET 8464\")"
   ]
  },
  {
   "cell_type": "markdown",
   "metadata": {},
   "source": [
    "## Task 6 - Subquery - 'all-time high'\n",
    "\n",
    "#### determine which date and hour had the most bike rentals.\n"
   ]
  },
  {
   "cell_type": "markdown",
   "metadata": {},
   "source": [
    "### Solution 6\n"
   ]
  },
  {
   "cell_type": "code",
   "execution_count": 35,
   "metadata": {},
   "outputs": [
    {
     "data": {
      "text/html": [
       "<table>\n",
       "<caption>A data.frame: 1 × 2</caption>\n",
       "<thead>\n",
       "\t<tr><th scope=col>DATE</th><th scope=col>HOUR</th></tr>\n",
       "\t<tr><th scope=col>&lt;chr&gt;</th><th scope=col>&lt;int&gt;</th></tr>\n",
       "</thead>\n",
       "<tbody>\n",
       "\t<tr><td>19/06/2018</td><td>18</td></tr>\n",
       "</tbody>\n",
       "</table>\n"
      ],
      "text/latex": [
       "A data.frame: 1 × 2\n",
       "\\begin{tabular}{ll}\n",
       " DATE & HOUR\\\\\n",
       " <chr> & <int>\\\\\n",
       "\\hline\n",
       "\t 19/06/2018 & 18\\\\\n",
       "\\end{tabular}\n"
      ],
      "text/markdown": [
       "\n",
       "A data.frame: 1 × 2\n",
       "\n",
       "| DATE &lt;chr&gt; | HOUR &lt;int&gt; |\n",
       "|---|---|\n",
       "| 19/06/2018 | 18 |\n",
       "\n"
      ],
      "text/plain": [
       "  DATE       HOUR\n",
       "1 19/06/2018 18  "
      ]
     },
     "metadata": {},
     "output_type": "display_data"
    }
   ],
   "source": [
    "# provide your solution here\n",
    "dbGetQuery(conn, \"SELECT DATE, HOUR FROM SEOUL_BIKE_SHARING WHERE RENTED_BIKE_COUNT=(SELECT MAX(RENTED_BIKE_COUNT) FROM SEOUL_BIKE_SHARING)\")"
   ]
  },
  {
   "cell_type": "markdown",
   "metadata": {},
   "source": [
    "## Task 7 - Hourly popularity and temperature by season\n",
    "\n",
    "#### Determine the average hourly temperature and the average number of bike rentals per hour over each season. List the top ten results by average bike count.\n"
   ]
  },
  {
   "cell_type": "markdown",
   "metadata": {},
   "source": [
    "### Solution 7\n"
   ]
  },
  {
   "cell_type": "code",
   "execution_count": 42,
   "metadata": {},
   "outputs": [],
   "source": [
    "seoul_bike_denorm <- read.csv(\"seoul_bike_sharing_converted.csv\")"
   ]
  },
  {
   "cell_type": "code",
   "execution_count": 43,
   "metadata": {},
   "outputs": [],
   "source": [
    "dbWriteTable(conn,\"SEOUL_BIKE_SHARING_DENORM\",seoul_bike_denorm, overwrite = TRUE, header = TRUE)"
   ]
  },
  {
   "cell_type": "code",
   "execution_count": 62,
   "metadata": {},
   "outputs": [
    {
     "data": {
      "text/html": [
       "<table>\n",
       "<caption>A data.frame: 4 × 3</caption>\n",
       "<thead>\n",
       "\t<tr><th scope=col>SEASONS</th><th scope=col>AVERAGE_TEMPERATURE</th><th scope=col>AVERAGE_BIKE_RENTALS</th></tr>\n",
       "\t<tr><th scope=col>&lt;chr&gt;</th><th scope=col>&lt;dbl&gt;</th><th scope=col>&lt;dbl&gt;</th></tr>\n",
       "</thead>\n",
       "<tbody>\n",
       "\t<tr><td>Autumn</td><td>13.821580</td><td> 924.1105</td></tr>\n",
       "\t<tr><td>Spring</td><td>13.021685</td><td> 746.2542</td></tr>\n",
       "\t<tr><td>Summer</td><td>26.587711</td><td>1034.0734</td></tr>\n",
       "\t<tr><td>Winter</td><td>-2.540463</td><td> 225.5412</td></tr>\n",
       "</tbody>\n",
       "</table>\n"
      ],
      "text/latex": [
       "A data.frame: 4 × 3\n",
       "\\begin{tabular}{lll}\n",
       " SEASONS & AVERAGE\\_TEMPERATURE & AVERAGE\\_BIKE\\_RENTALS\\\\\n",
       " <chr> & <dbl> & <dbl>\\\\\n",
       "\\hline\n",
       "\t Autumn & 13.821580 &  924.1105\\\\\n",
       "\t Spring & 13.021685 &  746.2542\\\\\n",
       "\t Summer & 26.587711 & 1034.0734\\\\\n",
       "\t Winter & -2.540463 &  225.5412\\\\\n",
       "\\end{tabular}\n"
      ],
      "text/markdown": [
       "\n",
       "A data.frame: 4 × 3\n",
       "\n",
       "| SEASONS &lt;chr&gt; | AVERAGE_TEMPERATURE &lt;dbl&gt; | AVERAGE_BIKE_RENTALS &lt;dbl&gt; |\n",
       "|---|---|---|\n",
       "| Autumn | 13.821580 |  924.1105 |\n",
       "| Spring | 13.021685 |  746.2542 |\n",
       "| Summer | 26.587711 | 1034.0734 |\n",
       "| Winter | -2.540463 |  225.5412 |\n",
       "\n"
      ],
      "text/plain": [
       "  SEASONS AVERAGE_TEMPERATURE AVERAGE_BIKE_RENTALS\n",
       "1 Autumn  13.821580            924.1105           \n",
       "2 Spring  13.021685            746.2542           \n",
       "3 Summer  26.587711           1034.0734           \n",
       "4 Winter  -2.540463            225.5412           "
      ]
     },
     "metadata": {},
     "output_type": "display_data"
    },
    {
     "data": {
      "text/html": [
       "<table>\n",
       "<caption>A data.frame: 10 × 44</caption>\n",
       "<thead>\n",
       "\t<tr><th scope=col>DATE</th><th scope=col>RENTED_BIKE_COUNT</th><th scope=col>HOUR</th><th scope=col>TEMPERATURE</th><th scope=col>HUMIDITY</th><th scope=col>WIND_SPEED</th><th scope=col>VISIBILITY</th><th scope=col>DEW_POINT_TEMPERATURE</th><th scope=col>SOLAR_RADIATION</th><th scope=col>RAINFALL</th><th scope=col>⋯</th><th scope=col>HOUR_6</th><th scope=col>HOUR_7</th><th scope=col>HOUR_8</th><th scope=col>HOUR_9</th><th scope=col>SEASONS_AUTUMN</th><th scope=col>SEASONS_SPRING</th><th scope=col>SEASONS_SUMMER</th><th scope=col>SEASONS_WINTER</th><th scope=col>HOLIDAY_HOLIDAY</th><th scope=col>HOLIDAY_NO_HOLIDAY</th></tr>\n",
       "\t<tr><th scope=col>&lt;chr&gt;</th><th scope=col>&lt;int&gt;</th><th scope=col>&lt;int&gt;</th><th scope=col>&lt;dbl&gt;</th><th scope=col>&lt;int&gt;</th><th scope=col>&lt;dbl&gt;</th><th scope=col>&lt;int&gt;</th><th scope=col>&lt;dbl&gt;</th><th scope=col>&lt;dbl&gt;</th><th scope=col>&lt;dbl&gt;</th><th scope=col>⋯</th><th scope=col>&lt;int&gt;</th><th scope=col>&lt;int&gt;</th><th scope=col>&lt;int&gt;</th><th scope=col>&lt;int&gt;</th><th scope=col>&lt;int&gt;</th><th scope=col>&lt;int&gt;</th><th scope=col>&lt;int&gt;</th><th scope=col>&lt;int&gt;</th><th scope=col>&lt;int&gt;</th><th scope=col>&lt;int&gt;</th></tr>\n",
       "</thead>\n",
       "<tbody>\n",
       "\t<tr><td>19/06/2018</td><td>3556</td><td>18</td><td>24.1</td><td>57</td><td>2.9</td><td>1301</td><td>15.0</td><td>0.56</td><td>0</td><td>⋯</td><td>0</td><td>0</td><td>0</td><td>0</td><td>0</td><td>0</td><td>1</td><td>0</td><td>0</td><td>1</td></tr>\n",
       "\t<tr><td>21/06/2018</td><td>3418</td><td>18</td><td>27.8</td><td>43</td><td>3.0</td><td>1933</td><td>14.0</td><td>1.35</td><td>0</td><td>⋯</td><td>0</td><td>0</td><td>0</td><td>0</td><td>0</td><td>0</td><td>1</td><td>0</td><td>0</td><td>1</td></tr>\n",
       "\t<tr><td>12/06/2018</td><td>3404</td><td>18</td><td>24.9</td><td>53</td><td>3.6</td><td>2000</td><td>14.6</td><td>1.28</td><td>0</td><td>⋯</td><td>0</td><td>0</td><td>0</td><td>0</td><td>0</td><td>0</td><td>1</td><td>0</td><td>0</td><td>1</td></tr>\n",
       "\t<tr><td>20/06/2018</td><td>3384</td><td>18</td><td>27.0</td><td>55</td><td>3.1</td><td>1246</td><td>17.1</td><td>1.26</td><td>0</td><td>⋯</td><td>0</td><td>0</td><td>0</td><td>0</td><td>0</td><td>0</td><td>1</td><td>0</td><td>0</td><td>1</td></tr>\n",
       "\t<tr><td>04/06/2018</td><td>3380</td><td>18</td><td>24.4</td><td>48</td><td>1.9</td><td>1998</td><td>12.6</td><td>0.56</td><td>0</td><td>⋯</td><td>0</td><td>0</td><td>0</td><td>0</td><td>0</td><td>0</td><td>1</td><td>0</td><td>0</td><td>1</td></tr>\n",
       "\t<tr><td>22/06/2018</td><td>3365</td><td>18</td><td>29.3</td><td>27</td><td>3.4</td><td>1977</td><td> 8.3</td><td>1.24</td><td>0</td><td>⋯</td><td>0</td><td>0</td><td>0</td><td>0</td><td>0</td><td>0</td><td>1</td><td>0</td><td>0</td><td>1</td></tr>\n",
       "\t<tr><td>08/06/2018</td><td>3309</td><td>18</td><td>26.2</td><td>54</td><td>2.2</td><td>1183</td><td>16.1</td><td>0.88</td><td>0</td><td>⋯</td><td>0</td><td>0</td><td>0</td><td>0</td><td>0</td><td>0</td><td>1</td><td>0</td><td>0</td><td>1</td></tr>\n",
       "\t<tr><td>10/09/2018</td><td>3298</td><td>18</td><td>25.9</td><td>42</td><td>1.1</td><td>2000</td><td>11.9</td><td>0.48</td><td>0</td><td>⋯</td><td>0</td><td>0</td><td>0</td><td>0</td><td>1</td><td>0</td><td>0</td><td>0</td><td>0</td><td>1</td></tr>\n",
       "\t<tr><td>17/09/2018</td><td>3277</td><td>18</td><td>25.3</td><td>56</td><td>2.8</td><td>1992</td><td>15.8</td><td>0.54</td><td>0</td><td>⋯</td><td>0</td><td>0</td><td>0</td><td>0</td><td>1</td><td>0</td><td>0</td><td>0</td><td>0</td><td>1</td></tr>\n",
       "\t<tr><td>12/09/2018</td><td>3256</td><td>18</td><td>27.0</td><td>44</td><td>1.4</td><td>2000</td><td>13.6</td><td>0.62</td><td>0</td><td>⋯</td><td>0</td><td>0</td><td>0</td><td>0</td><td>1</td><td>0</td><td>0</td><td>0</td><td>0</td><td>1</td></tr>\n",
       "</tbody>\n",
       "</table>\n"
      ],
      "text/latex": [
       "A data.frame: 10 × 44\n",
       "\\begin{tabular}{lllllllllllllllllllll}\n",
       " DATE & RENTED\\_BIKE\\_COUNT & HOUR & TEMPERATURE & HUMIDITY & WIND\\_SPEED & VISIBILITY & DEW\\_POINT\\_TEMPERATURE & SOLAR\\_RADIATION & RAINFALL & ⋯ & HOUR\\_6 & HOUR\\_7 & HOUR\\_8 & HOUR\\_9 & SEASONS\\_AUTUMN & SEASONS\\_SPRING & SEASONS\\_SUMMER & SEASONS\\_WINTER & HOLIDAY\\_HOLIDAY & HOLIDAY\\_NO\\_HOLIDAY\\\\\n",
       " <chr> & <int> & <int> & <dbl> & <int> & <dbl> & <int> & <dbl> & <dbl> & <dbl> & ⋯ & <int> & <int> & <int> & <int> & <int> & <int> & <int> & <int> & <int> & <int>\\\\\n",
       "\\hline\n",
       "\t 19/06/2018 & 3556 & 18 & 24.1 & 57 & 2.9 & 1301 & 15.0 & 0.56 & 0 & ⋯ & 0 & 0 & 0 & 0 & 0 & 0 & 1 & 0 & 0 & 1\\\\\n",
       "\t 21/06/2018 & 3418 & 18 & 27.8 & 43 & 3.0 & 1933 & 14.0 & 1.35 & 0 & ⋯ & 0 & 0 & 0 & 0 & 0 & 0 & 1 & 0 & 0 & 1\\\\\n",
       "\t 12/06/2018 & 3404 & 18 & 24.9 & 53 & 3.6 & 2000 & 14.6 & 1.28 & 0 & ⋯ & 0 & 0 & 0 & 0 & 0 & 0 & 1 & 0 & 0 & 1\\\\\n",
       "\t 20/06/2018 & 3384 & 18 & 27.0 & 55 & 3.1 & 1246 & 17.1 & 1.26 & 0 & ⋯ & 0 & 0 & 0 & 0 & 0 & 0 & 1 & 0 & 0 & 1\\\\\n",
       "\t 04/06/2018 & 3380 & 18 & 24.4 & 48 & 1.9 & 1998 & 12.6 & 0.56 & 0 & ⋯ & 0 & 0 & 0 & 0 & 0 & 0 & 1 & 0 & 0 & 1\\\\\n",
       "\t 22/06/2018 & 3365 & 18 & 29.3 & 27 & 3.4 & 1977 &  8.3 & 1.24 & 0 & ⋯ & 0 & 0 & 0 & 0 & 0 & 0 & 1 & 0 & 0 & 1\\\\\n",
       "\t 08/06/2018 & 3309 & 18 & 26.2 & 54 & 2.2 & 1183 & 16.1 & 0.88 & 0 & ⋯ & 0 & 0 & 0 & 0 & 0 & 0 & 1 & 0 & 0 & 1\\\\\n",
       "\t 10/09/2018 & 3298 & 18 & 25.9 & 42 & 1.1 & 2000 & 11.9 & 0.48 & 0 & ⋯ & 0 & 0 & 0 & 0 & 1 & 0 & 0 & 0 & 0 & 1\\\\\n",
       "\t 17/09/2018 & 3277 & 18 & 25.3 & 56 & 2.8 & 1992 & 15.8 & 0.54 & 0 & ⋯ & 0 & 0 & 0 & 0 & 1 & 0 & 0 & 0 & 0 & 1\\\\\n",
       "\t 12/09/2018 & 3256 & 18 & 27.0 & 44 & 1.4 & 2000 & 13.6 & 0.62 & 0 & ⋯ & 0 & 0 & 0 & 0 & 1 & 0 & 0 & 0 & 0 & 1\\\\\n",
       "\\end{tabular}\n"
      ],
      "text/markdown": [
       "\n",
       "A data.frame: 10 × 44\n",
       "\n",
       "| DATE &lt;chr&gt; | RENTED_BIKE_COUNT &lt;int&gt; | HOUR &lt;int&gt; | TEMPERATURE &lt;dbl&gt; | HUMIDITY &lt;int&gt; | WIND_SPEED &lt;dbl&gt; | VISIBILITY &lt;int&gt; | DEW_POINT_TEMPERATURE &lt;dbl&gt; | SOLAR_RADIATION &lt;dbl&gt; | RAINFALL &lt;dbl&gt; | ⋯ ⋯ | HOUR_6 &lt;int&gt; | HOUR_7 &lt;int&gt; | HOUR_8 &lt;int&gt; | HOUR_9 &lt;int&gt; | SEASONS_AUTUMN &lt;int&gt; | SEASONS_SPRING &lt;int&gt; | SEASONS_SUMMER &lt;int&gt; | SEASONS_WINTER &lt;int&gt; | HOLIDAY_HOLIDAY &lt;int&gt; | HOLIDAY_NO_HOLIDAY &lt;int&gt; |\n",
       "|---|---|---|---|---|---|---|---|---|---|---|---|---|---|---|---|---|---|---|---|---|\n",
       "| 19/06/2018 | 3556 | 18 | 24.1 | 57 | 2.9 | 1301 | 15.0 | 0.56 | 0 | ⋯ | 0 | 0 | 0 | 0 | 0 | 0 | 1 | 0 | 0 | 1 |\n",
       "| 21/06/2018 | 3418 | 18 | 27.8 | 43 | 3.0 | 1933 | 14.0 | 1.35 | 0 | ⋯ | 0 | 0 | 0 | 0 | 0 | 0 | 1 | 0 | 0 | 1 |\n",
       "| 12/06/2018 | 3404 | 18 | 24.9 | 53 | 3.6 | 2000 | 14.6 | 1.28 | 0 | ⋯ | 0 | 0 | 0 | 0 | 0 | 0 | 1 | 0 | 0 | 1 |\n",
       "| 20/06/2018 | 3384 | 18 | 27.0 | 55 | 3.1 | 1246 | 17.1 | 1.26 | 0 | ⋯ | 0 | 0 | 0 | 0 | 0 | 0 | 1 | 0 | 0 | 1 |\n",
       "| 04/06/2018 | 3380 | 18 | 24.4 | 48 | 1.9 | 1998 | 12.6 | 0.56 | 0 | ⋯ | 0 | 0 | 0 | 0 | 0 | 0 | 1 | 0 | 0 | 1 |\n",
       "| 22/06/2018 | 3365 | 18 | 29.3 | 27 | 3.4 | 1977 |  8.3 | 1.24 | 0 | ⋯ | 0 | 0 | 0 | 0 | 0 | 0 | 1 | 0 | 0 | 1 |\n",
       "| 08/06/2018 | 3309 | 18 | 26.2 | 54 | 2.2 | 1183 | 16.1 | 0.88 | 0 | ⋯ | 0 | 0 | 0 | 0 | 0 | 0 | 1 | 0 | 0 | 1 |\n",
       "| 10/09/2018 | 3298 | 18 | 25.9 | 42 | 1.1 | 2000 | 11.9 | 0.48 | 0 | ⋯ | 0 | 0 | 0 | 0 | 1 | 0 | 0 | 0 | 0 | 1 |\n",
       "| 17/09/2018 | 3277 | 18 | 25.3 | 56 | 2.8 | 1992 | 15.8 | 0.54 | 0 | ⋯ | 0 | 0 | 0 | 0 | 1 | 0 | 0 | 0 | 0 | 1 |\n",
       "| 12/09/2018 | 3256 | 18 | 27.0 | 44 | 1.4 | 2000 | 13.6 | 0.62 | 0 | ⋯ | 0 | 0 | 0 | 0 | 1 | 0 | 0 | 0 | 0 | 1 |\n",
       "\n"
      ],
      "text/plain": [
       "   DATE       RENTED_BIKE_COUNT HOUR TEMPERATURE HUMIDITY WIND_SPEED VISIBILITY\n",
       "1  19/06/2018 3556              18   24.1        57       2.9        1301      \n",
       "2  21/06/2018 3418              18   27.8        43       3.0        1933      \n",
       "3  12/06/2018 3404              18   24.9        53       3.6        2000      \n",
       "4  20/06/2018 3384              18   27.0        55       3.1        1246      \n",
       "5  04/06/2018 3380              18   24.4        48       1.9        1998      \n",
       "6  22/06/2018 3365              18   29.3        27       3.4        1977      \n",
       "7  08/06/2018 3309              18   26.2        54       2.2        1183      \n",
       "8  10/09/2018 3298              18   25.9        42       1.1        2000      \n",
       "9  17/09/2018 3277              18   25.3        56       2.8        1992      \n",
       "10 12/09/2018 3256              18   27.0        44       1.4        2000      \n",
       "   DEW_POINT_TEMPERATURE SOLAR_RADIATION RAINFALL ⋯ HOUR_6 HOUR_7 HOUR_8 HOUR_9\n",
       "1  15.0                  0.56            0        ⋯ 0      0      0      0     \n",
       "2  14.0                  1.35            0        ⋯ 0      0      0      0     \n",
       "3  14.6                  1.28            0        ⋯ 0      0      0      0     \n",
       "4  17.1                  1.26            0        ⋯ 0      0      0      0     \n",
       "5  12.6                  0.56            0        ⋯ 0      0      0      0     \n",
       "6   8.3                  1.24            0        ⋯ 0      0      0      0     \n",
       "7  16.1                  0.88            0        ⋯ 0      0      0      0     \n",
       "8  11.9                  0.48            0        ⋯ 0      0      0      0     \n",
       "9  15.8                  0.54            0        ⋯ 0      0      0      0     \n",
       "10 13.6                  0.62            0        ⋯ 0      0      0      0     \n",
       "   SEASONS_AUTUMN SEASONS_SPRING SEASONS_SUMMER SEASONS_WINTER HOLIDAY_HOLIDAY\n",
       "1  0              0              1              0              0              \n",
       "2  0              0              1              0              0              \n",
       "3  0              0              1              0              0              \n",
       "4  0              0              1              0              0              \n",
       "5  0              0              1              0              0              \n",
       "6  0              0              1              0              0              \n",
       "7  0              0              1              0              0              \n",
       "8  1              0              0              0              0              \n",
       "9  1              0              0              0              0              \n",
       "10 1              0              0              0              0              \n",
       "   HOLIDAY_NO_HOLIDAY\n",
       "1  1                 \n",
       "2  1                 \n",
       "3  1                 \n",
       "4  1                 \n",
       "5  1                 \n",
       "6  1                 \n",
       "7  1                 \n",
       "8  1                 \n",
       "9  1                 \n",
       "10 1                 "
      ]
     },
     "metadata": {},
     "output_type": "display_data"
    }
   ],
   "source": [
    "# provide your solution here\n",
    "dbGetQuery(conn,\"SELECT SEASONS, avg(TEMPERATURE) AS AVERAGE_TEMPERATURE, avg(RENTED_BIKE_COUNT) \n",
    "                 AS AVERAGE_BIKE_RENTALS FROM SEOUL_BIKE_SHARING_DENORM GROUP BY SEASONS\")\n",
    "dbGetQuery(conn,\"SELECT * FROM SEOUL_BIKE_SHARING_DENORM ORDER BY RENTED_BIKE_COUNT DESC LIMIT 10\")\n",
    "      "
   ]
  },
  {
   "cell_type": "markdown",
   "metadata": {},
   "source": [
    "## Task 8 - Rental Seasonality\n",
    "\n",
    "#### Find the average hourly bike count during each season.\n",
    "\n",
    "Also include the minimum, maximum, and standard deviation of the hourly bike count for each season.\n",
    "\n",
    "> Hint : Use the SQRT(AVG(col\\*col) - AVG(col)\\*AVG(col) ) function where col refers to your column name for finding the standard deviation\n"
   ]
  },
  {
   "cell_type": "markdown",
   "metadata": {},
   "source": [
    "### Solution 8\n"
   ]
  },
  {
   "cell_type": "code",
   "execution_count": 49,
   "metadata": {},
   "outputs": [
    {
     "data": {
      "text/html": [
       "<table>\n",
       "<caption>A data.frame: 4 × 5</caption>\n",
       "<thead>\n",
       "\t<tr><th scope=col>SEASONS</th><th scope=col>AVERAGE_BIKE_RENTALS</th><th scope=col>MINIMUM_BIKE_RENTALS</th><th scope=col>MAXIMUM_BIKE_RENTALS</th><th scope=col>STANDARD_DEVIATION_BIKE_RENTALS</th></tr>\n",
       "\t<tr><th scope=col>&lt;chr&gt;</th><th scope=col>&lt;dbl&gt;</th><th scope=col>&lt;int&gt;</th><th scope=col>&lt;int&gt;</th><th scope=col>&lt;dbl&gt;</th></tr>\n",
       "</thead>\n",
       "<tbody>\n",
       "\t<tr><td>Autumn</td><td> 924.1105</td><td>2</td><td>3298</td><td>617.3885</td></tr>\n",
       "\t<tr><td>Spring</td><td> 746.2542</td><td>2</td><td>3251</td><td>618.5247</td></tr>\n",
       "\t<tr><td>Summer</td><td>1034.0734</td><td>9</td><td>3556</td><td>690.0884</td></tr>\n",
       "\t<tr><td>Winter</td><td> 225.5412</td><td>3</td><td> 937</td><td>150.3374</td></tr>\n",
       "</tbody>\n",
       "</table>\n"
      ],
      "text/latex": [
       "A data.frame: 4 × 5\n",
       "\\begin{tabular}{lllll}\n",
       " SEASONS & AVERAGE\\_BIKE\\_RENTALS & MINIMUM\\_BIKE\\_RENTALS & MAXIMUM\\_BIKE\\_RENTALS & STANDARD\\_DEVIATION\\_BIKE\\_RENTALS\\\\\n",
       " <chr> & <dbl> & <int> & <int> & <dbl>\\\\\n",
       "\\hline\n",
       "\t Autumn &  924.1105 & 2 & 3298 & 617.3885\\\\\n",
       "\t Spring &  746.2542 & 2 & 3251 & 618.5247\\\\\n",
       "\t Summer & 1034.0734 & 9 & 3556 & 690.0884\\\\\n",
       "\t Winter &  225.5412 & 3 &  937 & 150.3374\\\\\n",
       "\\end{tabular}\n"
      ],
      "text/markdown": [
       "\n",
       "A data.frame: 4 × 5\n",
       "\n",
       "| SEASONS &lt;chr&gt; | AVERAGE_BIKE_RENTALS &lt;dbl&gt; | MINIMUM_BIKE_RENTALS &lt;int&gt; | MAXIMUM_BIKE_RENTALS &lt;int&gt; | STANDARD_DEVIATION_BIKE_RENTALS &lt;dbl&gt; |\n",
       "|---|---|---|---|---|\n",
       "| Autumn |  924.1105 | 2 | 3298 | 617.3885 |\n",
       "| Spring |  746.2542 | 2 | 3251 | 618.5247 |\n",
       "| Summer | 1034.0734 | 9 | 3556 | 690.0884 |\n",
       "| Winter |  225.5412 | 3 |  937 | 150.3374 |\n",
       "\n"
      ],
      "text/plain": [
       "  SEASONS AVERAGE_BIKE_RENTALS MINIMUM_BIKE_RENTALS MAXIMUM_BIKE_RENTALS\n",
       "1 Autumn   924.1105            2                    3298                \n",
       "2 Spring   746.2542            2                    3251                \n",
       "3 Summer  1034.0734            9                    3556                \n",
       "4 Winter   225.5412            3                     937                \n",
       "  STANDARD_DEVIATION_BIKE_RENTALS\n",
       "1 617.3885                       \n",
       "2 618.5247                       \n",
       "3 690.0884                       \n",
       "4 150.3374                       "
      ]
     },
     "metadata": {},
     "output_type": "display_data"
    }
   ],
   "source": [
    "# provide your solution here\n",
    "dbGetQuery(conn,\"SELECT SEASONS, avg(RENTED_BIKE_COUNT) AS AVERAGE_BIKE_RENTALS, min(RENTED_BIKE_COUNT) AS MINIMUM_BIKE_RENTALS, max(RENTED_BIKE_COUNT)\n",
    "                 AS MAXIMUM_BIKE_RENTALS, sqrt((avg(RENTED_BIKE_COUNT*RENTED_BIKE_COUNT))-(avg(RENTED_BIKE_COUNT)*avg(RENTED_BIKE_COUNT))) AS \n",
    "                 STANDARD_DEVIATION_BIKE_RENTALS\n",
    "                 FROM SEOUL_BIKE_SHARING_DENORM\n",
    "                 GROUP BY SEASONS\")"
   ]
  },
  {
   "cell_type": "markdown",
   "metadata": {},
   "source": [
    "Let's explore a bit and see what might be the most significant contributing factors in terms of the provided data.\n"
   ]
  },
  {
   "cell_type": "markdown",
   "metadata": {},
   "source": [
    "## Task 9 - Weather Seasonality\n",
    "\n",
    "#### Consider the weather over each season. On average, what were the TEMPERATURE, HUMIDITY, WIND_SPEED, VISIBILITY, DEW_POINT_TEMPERATURE, SOLAR_RADIATION, RAINFALL, and SNOWFALL per season?\n",
    "\n",
    "Include the average bike count as well , and rank the results by average bike count so you can see if it is correlated with the weather at all.\n"
   ]
  },
  {
   "cell_type": "markdown",
   "metadata": {},
   "source": [
    "### Solution 9\n"
   ]
  },
  {
   "cell_type": "code",
   "execution_count": 53,
   "metadata": {},
   "outputs": [
    {
     "data": {
      "text/html": [
       "<table>\n",
       "<caption>A data.frame: 4 × 11</caption>\n",
       "<thead>\n",
       "\t<tr><th scope=col>SEASONS</th><th scope=col>avg(TEMPERATURE)</th><th scope=col>avg(HUMIDITY)</th><th scope=col>avg(VISIBILITY)</th><th scope=col>avg(WIND_SPEED)</th><th scope=col>avg(DEW_POINT_TEMPERATURE)</th><th scope=col>avg(SOLAR_RADIATION)</th><th scope=col>avg(RAINFALL)</th><th scope=col>avg(SNOWFALL)</th><th scope=col>AVERAGE_BIKE_RENTALS</th><th scope=col>RANK</th></tr>\n",
       "\t<tr><th scope=col>&lt;chr&gt;</th><th scope=col>&lt;dbl&gt;</th><th scope=col>&lt;dbl&gt;</th><th scope=col>&lt;dbl&gt;</th><th scope=col>&lt;dbl&gt;</th><th scope=col>&lt;dbl&gt;</th><th scope=col>&lt;dbl&gt;</th><th scope=col>&lt;dbl&gt;</th><th scope=col>&lt;dbl&gt;</th><th scope=col>&lt;dbl&gt;</th><th scope=col>&lt;int&gt;</th></tr>\n",
       "</thead>\n",
       "<tbody>\n",
       "\t<tr><td>Summer</td><td>26.587711</td><td>64.98143</td><td>1501.745</td><td>1.609420</td><td> 18.750136</td><td>0.7612545</td><td>0.25348732</td><td>0.00000000</td><td>1034.0734</td><td>1</td></tr>\n",
       "\t<tr><td>Autumn</td><td>13.821580</td><td>59.04491</td><td>1558.174</td><td>1.492101</td><td>  5.150594</td><td>0.5227827</td><td>0.11765617</td><td>0.06350026</td><td> 924.1105</td><td>2</td></tr>\n",
       "\t<tr><td>Spring</td><td>13.021685</td><td>58.75833</td><td>1240.912</td><td>1.857778</td><td>  4.091389</td><td>0.6803009</td><td>0.18694444</td><td>0.00000000</td><td> 746.2542</td><td>3</td></tr>\n",
       "\t<tr><td>Winter</td><td>-2.540463</td><td>49.74491</td><td>1445.987</td><td>1.922685</td><td>-12.416667</td><td>0.2981806</td><td>0.03282407</td><td>0.24750000</td><td> 225.5412</td><td>4</td></tr>\n",
       "</tbody>\n",
       "</table>\n"
      ],
      "text/latex": [
       "A data.frame: 4 × 11\n",
       "\\begin{tabular}{lllllllllll}\n",
       " SEASONS & avg(TEMPERATURE) & avg(HUMIDITY) & avg(VISIBILITY) & avg(WIND\\_SPEED) & avg(DEW\\_POINT\\_TEMPERATURE) & avg(SOLAR\\_RADIATION) & avg(RAINFALL) & avg(SNOWFALL) & AVERAGE\\_BIKE\\_RENTALS & RANK\\\\\n",
       " <chr> & <dbl> & <dbl> & <dbl> & <dbl> & <dbl> & <dbl> & <dbl> & <dbl> & <dbl> & <int>\\\\\n",
       "\\hline\n",
       "\t Summer & 26.587711 & 64.98143 & 1501.745 & 1.609420 &  18.750136 & 0.7612545 & 0.25348732 & 0.00000000 & 1034.0734 & 1\\\\\n",
       "\t Autumn & 13.821580 & 59.04491 & 1558.174 & 1.492101 &   5.150594 & 0.5227827 & 0.11765617 & 0.06350026 &  924.1105 & 2\\\\\n",
       "\t Spring & 13.021685 & 58.75833 & 1240.912 & 1.857778 &   4.091389 & 0.6803009 & 0.18694444 & 0.00000000 &  746.2542 & 3\\\\\n",
       "\t Winter & -2.540463 & 49.74491 & 1445.987 & 1.922685 & -12.416667 & 0.2981806 & 0.03282407 & 0.24750000 &  225.5412 & 4\\\\\n",
       "\\end{tabular}\n"
      ],
      "text/markdown": [
       "\n",
       "A data.frame: 4 × 11\n",
       "\n",
       "| SEASONS &lt;chr&gt; | avg(TEMPERATURE) &lt;dbl&gt; | avg(HUMIDITY) &lt;dbl&gt; | avg(VISIBILITY) &lt;dbl&gt; | avg(WIND_SPEED) &lt;dbl&gt; | avg(DEW_POINT_TEMPERATURE) &lt;dbl&gt; | avg(SOLAR_RADIATION) &lt;dbl&gt; | avg(RAINFALL) &lt;dbl&gt; | avg(SNOWFALL) &lt;dbl&gt; | AVERAGE_BIKE_RENTALS &lt;dbl&gt; | RANK &lt;int&gt; |\n",
       "|---|---|---|---|---|---|---|---|---|---|---|\n",
       "| Summer | 26.587711 | 64.98143 | 1501.745 | 1.609420 |  18.750136 | 0.7612545 | 0.25348732 | 0.00000000 | 1034.0734 | 1 |\n",
       "| Autumn | 13.821580 | 59.04491 | 1558.174 | 1.492101 |   5.150594 | 0.5227827 | 0.11765617 | 0.06350026 |  924.1105 | 2 |\n",
       "| Spring | 13.021685 | 58.75833 | 1240.912 | 1.857778 |   4.091389 | 0.6803009 | 0.18694444 | 0.00000000 |  746.2542 | 3 |\n",
       "| Winter | -2.540463 | 49.74491 | 1445.987 | 1.922685 | -12.416667 | 0.2981806 | 0.03282407 | 0.24750000 |  225.5412 | 4 |\n",
       "\n"
      ],
      "text/plain": [
       "  SEASONS avg(TEMPERATURE) avg(HUMIDITY) avg(VISIBILITY) avg(WIND_SPEED)\n",
       "1 Summer  26.587711        64.98143      1501.745        1.609420       \n",
       "2 Autumn  13.821580        59.04491      1558.174        1.492101       \n",
       "3 Spring  13.021685        58.75833      1240.912        1.857778       \n",
       "4 Winter  -2.540463        49.74491      1445.987        1.922685       \n",
       "  avg(DEW_POINT_TEMPERATURE) avg(SOLAR_RADIATION) avg(RAINFALL) avg(SNOWFALL)\n",
       "1  18.750136                 0.7612545            0.25348732    0.00000000   \n",
       "2   5.150594                 0.5227827            0.11765617    0.06350026   \n",
       "3   4.091389                 0.6803009            0.18694444    0.00000000   \n",
       "4 -12.416667                 0.2981806            0.03282407    0.24750000   \n",
       "  AVERAGE_BIKE_RENTALS RANK\n",
       "1 1034.0734            1   \n",
       "2  924.1105            2   \n",
       "3  746.2542            3   \n",
       "4  225.5412            4   "
      ]
     },
     "metadata": {},
     "output_type": "display_data"
    }
   ],
   "source": [
    "# provide your solution here\n",
    "average_weather <-dbGetQuery(conn,\"SELECT SEASONS, avg(TEMPERATURE), avg(HUMIDITY), \n",
    "                 avg(VISIBILITY),\n",
    "                 avg(WIND_SPEED), avg(DEW_POINT_TEMPERATURE),\n",
    "                 avg(SOLAR_RADIATION), avg(RAINFALL), avg(SNOWFALL),\n",
    "                 avg(RENTED_BIKE_COUNT) AS AVERAGE_BIKE_RENTALS\n",
    "                 FROM SEOUL_BIKE_SHARING_DENORM\n",
    "                 GROUP BY SEASONS\n",
    "                 ORDER BY AVERAGE_BIKE_RENTALS DESC\")\n",
    "\n",
    "average_weather$RANK <- rank(-average_weather$AVERAGE_BIKE_RENTALS, ties.method = \"min\")\n",
    "average_weather"
   ]
  },
  {
   "cell_type": "markdown",
   "metadata": {},
   "source": [
    "## Task 10 - Total Bike Count and City Info for Seoul\n",
    "\n",
    "#### Use an implicit join across the WORLD_CITIES and the BIKE_SHARING_SYSTEMS tables to determine the total number of bikes avaialble in Seoul, plus the following city information about Seoul: CITY, COUNTRY, LAT, LON, POPULATION, in a single view.\n",
    "\n",
    "Notice that in this case, the CITY column will work for the WORLD_CITIES table, but in general you would have to use the CITY_ASCII column.\n"
   ]
  },
  {
   "cell_type": "markdown",
   "metadata": {},
   "source": [
    "### Solution 10\n"
   ]
  },
  {
   "cell_type": "code",
   "execution_count": 58,
   "metadata": {},
   "outputs": [
    {
     "data": {
      "text/html": [
       "<table>\n",
       "<caption>A data.frame: 1 × 6</caption>\n",
       "<thead>\n",
       "\t<tr><th scope=col>CITY</th><th scope=col>COUNTRY</th><th scope=col>LAT</th><th scope=col>LNG</th><th scope=col>POPULATION</th><th scope=col>BICYCLES</th></tr>\n",
       "\t<tr><th scope=col>&lt;chr&gt;</th><th scope=col>&lt;chr&gt;</th><th scope=col>&lt;dbl&gt;</th><th scope=col>&lt;dbl&gt;</th><th scope=col>&lt;dbl&gt;</th><th scope=col>&lt;int&gt;</th></tr>\n",
       "</thead>\n",
       "<tbody>\n",
       "\t<tr><td>Seoul</td><td>Korea, South</td><td>37.5833</td><td>127</td><td>21794000</td><td>37500</td></tr>\n",
       "</tbody>\n",
       "</table>\n"
      ],
      "text/latex": [
       "A data.frame: 1 × 6\n",
       "\\begin{tabular}{llllll}\n",
       " CITY & COUNTRY & LAT & LNG & POPULATION & BICYCLES\\\\\n",
       " <chr> & <chr> & <dbl> & <dbl> & <dbl> & <int>\\\\\n",
       "\\hline\n",
       "\t Seoul & Korea, South & 37.5833 & 127 & 21794000 & 37500\\\\\n",
       "\\end{tabular}\n"
      ],
      "text/markdown": [
       "\n",
       "A data.frame: 1 × 6\n",
       "\n",
       "| CITY &lt;chr&gt; | COUNTRY &lt;chr&gt; | LAT &lt;dbl&gt; | LNG &lt;dbl&gt; | POPULATION &lt;dbl&gt; | BICYCLES &lt;int&gt; |\n",
       "|---|---|---|---|---|---|\n",
       "| Seoul | Korea, South | 37.5833 | 127 | 21794000 | 37500 |\n",
       "\n"
      ],
      "text/plain": [
       "  CITY  COUNTRY      LAT     LNG POPULATION BICYCLES\n",
       "1 Seoul Korea, South 37.5833 127 21794000   37500   "
      ]
     },
     "metadata": {},
     "output_type": "display_data"
    }
   ],
   "source": [
    "# provide your solution here\n",
    "dbGetQuery(conn, \"SELECT b.CITY, w.COUNTRY, w.LAT, w.LNG, w.POPULATION, b.BICYCLES FROM WORLD_CITIES w, BIKE_SHARING_SYSTEMS b \n",
    "                  WHERE w.CITY=b.CITY AND w.CITY='Seoul'\")"
   ]
  },
  {
   "cell_type": "markdown",
   "metadata": {},
   "source": [
    "## Task 11 - Find all city names and coordinates with comparable bike scale to Seoul's bike sharing system\n",
    "\n",
    "#### Find all cities with total bike counts between 15000 and 20000. Return the city and country names, plus the coordinates (LAT, LNG), population, and number of bicycles for each city.\n",
    "\n",
    "Later we will ask you to visualize these similar cities on leaflet, with some weather data.\n"
   ]
  },
  {
   "cell_type": "markdown",
   "metadata": {},
   "source": [
    "### Solution 11\n"
   ]
  },
  {
   "cell_type": "code",
   "execution_count": 59,
   "metadata": {},
   "outputs": [
    {
     "data": {
      "text/html": [
       "<table>\n",
       "<caption>A data.frame: 5 × 6</caption>\n",
       "<thead>\n",
       "\t<tr><th scope=col>CITY</th><th scope=col>COUNTRY</th><th scope=col>LAT</th><th scope=col>LNG</th><th scope=col>POPULATION</th><th scope=col>BICYCLES</th></tr>\n",
       "\t<tr><th scope=col>&lt;chr&gt;</th><th scope=col>&lt;chr&gt;</th><th scope=col>&lt;dbl&gt;</th><th scope=col>&lt;dbl&gt;</th><th scope=col>&lt;dbl&gt;</th><th scope=col>&lt;int&gt;</th></tr>\n",
       "</thead>\n",
       "<tbody>\n",
       "\t<tr><td>Beijing </td><td>China</td><td>39.9050</td><td>116.3914</td><td>19433000</td><td>16000</td></tr>\n",
       "\t<tr><td>Ningbo  </td><td>China</td><td>29.8750</td><td>121.5492</td><td> 7639000</td><td>15000</td></tr>\n",
       "\t<tr><td>Shanghai</td><td>China</td><td>31.1667</td><td>121.4667</td><td>22120000</td><td>19165</td></tr>\n",
       "\t<tr><td>Weifang </td><td>China</td><td>36.7167</td><td>119.1000</td><td> 9373000</td><td>20000</td></tr>\n",
       "\t<tr><td>Zhuzhou </td><td>China</td><td>27.8407</td><td>113.1469</td><td> 3855609</td><td>20000</td></tr>\n",
       "</tbody>\n",
       "</table>\n"
      ],
      "text/latex": [
       "A data.frame: 5 × 6\n",
       "\\begin{tabular}{llllll}\n",
       " CITY & COUNTRY & LAT & LNG & POPULATION & BICYCLES\\\\\n",
       " <chr> & <chr> & <dbl> & <dbl> & <dbl> & <int>\\\\\n",
       "\\hline\n",
       "\t Beijing  & China & 39.9050 & 116.3914 & 19433000 & 16000\\\\\n",
       "\t Ningbo   & China & 29.8750 & 121.5492 &  7639000 & 15000\\\\\n",
       "\t Shanghai & China & 31.1667 & 121.4667 & 22120000 & 19165\\\\\n",
       "\t Weifang  & China & 36.7167 & 119.1000 &  9373000 & 20000\\\\\n",
       "\t Zhuzhou  & China & 27.8407 & 113.1469 &  3855609 & 20000\\\\\n",
       "\\end{tabular}\n"
      ],
      "text/markdown": [
       "\n",
       "A data.frame: 5 × 6\n",
       "\n",
       "| CITY &lt;chr&gt; | COUNTRY &lt;chr&gt; | LAT &lt;dbl&gt; | LNG &lt;dbl&gt; | POPULATION &lt;dbl&gt; | BICYCLES &lt;int&gt; |\n",
       "|---|---|---|---|---|---|\n",
       "| Beijing  | China | 39.9050 | 116.3914 | 19433000 | 16000 |\n",
       "| Ningbo   | China | 29.8750 | 121.5492 |  7639000 | 15000 |\n",
       "| Shanghai | China | 31.1667 | 121.4667 | 22120000 | 19165 |\n",
       "| Weifang  | China | 36.7167 | 119.1000 |  9373000 | 20000 |\n",
       "| Zhuzhou  | China | 27.8407 | 113.1469 |  3855609 | 20000 |\n",
       "\n"
      ],
      "text/plain": [
       "  CITY     COUNTRY LAT     LNG      POPULATION BICYCLES\n",
       "1 Beijing  China   39.9050 116.3914 19433000   16000   \n",
       "2 Ningbo   China   29.8750 121.5492  7639000   15000   \n",
       "3 Shanghai China   31.1667 121.4667 22120000   19165   \n",
       "4 Weifang  China   36.7167 119.1000  9373000   20000   \n",
       "5 Zhuzhou  China   27.8407 113.1469  3855609   20000   "
      ]
     },
     "metadata": {},
     "output_type": "display_data"
    }
   ],
   "source": [
    "# provide your solution here\n",
    "dbGetQuery(conn, \"SELECT b.CITY, w.COUNTRY, w.LAT, w.LNG, w.POPULATION, b.BICYCLES FROM WORLD_CITIES w, BIKE_SHARING_SYSTEMS b\n",
    "                  WHERE w.CITY=b.CITY AND b.BICYCLES BETWEEN 15000 AND 20000\")"
   ]
  },
  {
   "cell_type": "code",
   "execution_count": null,
   "metadata": {},
   "outputs": [],
   "source": [
    "close(conn)"
   ]
  },
  {
   "cell_type": "markdown",
   "metadata": {},
   "source": [
    "## Author(s)\n",
    "\n",
    "<h4> Jeff Grossman </h4>\n",
    "<h4> Lakshmi Holla </h4>\n",
    "\n",
    "## Other Contributor(s)\n",
    "\n",
    "<h4>  Malika Singla </h4>\n",
    "\n",
    "## Change log\n",
    "\n",
    "| Date (YYYY-MM-DD) | Version | Changed By    | Change Description        |\n",
    "| ----------------- | ------- | ------------- | ------------------------- |\n",
    "| 2022-03-03        | 1.0     | Lakshmi Holla | Created lab using sqlite3 |\n",
    "\n",
    "## <h3 align=\"center\"> © IBM Corporation 2022. All rights reserved. <h3/>\n"
   ]
  }
 ],
 "metadata": {
  "kernelspec": {
   "display_name": "R",
   "language": "R",
   "name": "conda-env-r-r"
  },
  "language_info": {
   "codemirror_mode": "r",
   "file_extension": ".r",
   "mimetype": "text/x-r-source",
   "name": "R",
   "pygments_lexer": "r",
   "version": "3.5.1"
  },
  "widgets": {
   "state": {},
   "version": "1.1.2"
  }
 },
 "nbformat": 4,
 "nbformat_minor": 4
}
