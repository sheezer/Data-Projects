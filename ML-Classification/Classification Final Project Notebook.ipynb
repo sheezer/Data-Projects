{
 "cells": [
  {
   "cell_type": "markdown",
   "id": "f8e05cb0-35eb-4fad-be0f-9e363a920f40",
   "metadata": {},
   "source": [
    "# Supervised Machine Learning: Classification - Final Project "
   ]
  },
  {
   "cell_type": "markdown",
   "id": "9d22f99b-50ff-4486-91b4-6dd880444d02",
   "metadata": {},
   "source": [
    "The final project for Classification involves analyzing a data set to predict type of forest cover using features."
   ]
  },
  {
   "cell_type": "code",
   "execution_count": 2,
   "id": "a913af9d-0ada-4bc8-bae6-0998d28a274a",
   "metadata": {},
   "outputs": [
    {
     "name": "stdout",
     "output_type": "stream",
     "text": [
      "Requirement already satisfied: imbalanced-learn==0.8.0 in /home/jupyterlab/conda/envs/python/lib/python3.7/site-packages (0.8.0)\n",
      "Requirement already satisfied: scipy>=0.19.1 in /home/jupyterlab/conda/envs/python/lib/python3.7/site-packages (from imbalanced-learn==0.8.0) (1.7.3)\n",
      "Requirement already satisfied: joblib>=0.11 in /home/jupyterlab/conda/envs/python/lib/python3.7/site-packages (from imbalanced-learn==0.8.0) (1.2.0)\n",
      "Requirement already satisfied: numpy>=1.13.3 in /home/jupyterlab/conda/envs/python/lib/python3.7/site-packages (from imbalanced-learn==0.8.0) (1.21.6)\n",
      "Requirement already satisfied: scikit-learn>=0.24 in /home/jupyterlab/conda/envs/python/lib/python3.7/site-packages (from imbalanced-learn==0.8.0) (1.0.2)\n",
      "Requirement already satisfied: threadpoolctl>=2.0.0 in /home/jupyterlab/conda/envs/python/lib/python3.7/site-packages (from scikit-learn>=0.24->imbalanced-learn==0.8.0) (3.1.0)\n"
     ]
    }
   ],
   "source": [
    "!pip install imbalanced-learn==0.8.0"
   ]
  },
  {
   "cell_type": "code",
   "execution_count": 89,
   "id": "3742e77b-5a98-4fd1-87f5-95456d8cf11a",
   "metadata": {},
   "outputs": [],
   "source": [
    "import pandas as pd\n",
    "import numpy as np\n",
    "import matplotlib.pyplot as plt\n",
    "import seaborn as sns\n",
    "import imblearn\n",
    "import plotly.express as px\n",
    "from sklearn.preprocessing import StandardScaler\n",
    "from sklearn.model_selection import train_test_split\n",
    "from sklearn.linear_model import LogisticRegressionCV\n",
    "from imblearn.under_sampling import RandomUnderSampler\n",
    "from sklearn.metrics import classification_report\n",
    "from sklearn.tree import DecisionTreeClassifier\n",
    "from sklearn.neighbors import KNeighborsClassifier\n",
    "from sklearn.svm import SVC\n",
    "from sklearn.metrics import f1_score\n",
    "from sklearn.ensemble import BaggingClassifier\n",
    "from sklearn.ensemble import RandomForestClassifier\n",
    "from sklearn.ensemble import ExtraTreesClassifier\n",
    "from sklearn.ensemble import VotingClassifier\n",
    "from sklearn.ensemble import AdaBoostClassifier\n",
    "from sklearn.ensemble import GradientBoostingClassifier\n",
    "from sklearn.ensemble import StackingClassifier\n",
    "from sklearn.linear_model import LogisticRegression\n",
    "from sklearn.inspection import permutation_importance, plot_partial_dependence"
   ]
  },
  {
   "cell_type": "code",
   "execution_count": 4,
   "id": "4b6840bf-7c0c-463f-b20b-42c18f8093cc",
   "metadata": {},
   "outputs": [],
   "source": [
    "df = pd.read_csv('covtype.csv')"
   ]
  },
  {
   "cell_type": "code",
   "execution_count": 4,
   "id": "5b1f265c-a15e-4bf6-be09-44c6000e8b78",
   "metadata": {},
   "outputs": [
    {
     "data": {
      "text/html": [
       "<div>\n",
       "<style scoped>\n",
       "    .dataframe tbody tr th:only-of-type {\n",
       "        vertical-align: middle;\n",
       "    }\n",
       "\n",
       "    .dataframe tbody tr th {\n",
       "        vertical-align: top;\n",
       "    }\n",
       "\n",
       "    .dataframe thead th {\n",
       "        text-align: right;\n",
       "    }\n",
       "</style>\n",
       "<table border=\"1\" class=\"dataframe\">\n",
       "  <thead>\n",
       "    <tr style=\"text-align: right;\">\n",
       "      <th></th>\n",
       "      <th>Elevation</th>\n",
       "      <th>Aspect</th>\n",
       "      <th>Slope</th>\n",
       "      <th>Horizontal_Distance_To_Hydrology</th>\n",
       "      <th>Vertical_Distance_To_Hydrology</th>\n",
       "      <th>Horizontal_Distance_To_Roadways</th>\n",
       "      <th>Hillshade_9am</th>\n",
       "      <th>Hillshade_Noon</th>\n",
       "      <th>Hillshade_3pm</th>\n",
       "      <th>Horizontal_Distance_To_Fire_Points</th>\n",
       "      <th>...</th>\n",
       "      <th>Soil_Type32</th>\n",
       "      <th>Soil_Type33</th>\n",
       "      <th>Soil_Type34</th>\n",
       "      <th>Soil_Type35</th>\n",
       "      <th>Soil_Type36</th>\n",
       "      <th>Soil_Type37</th>\n",
       "      <th>Soil_Type38</th>\n",
       "      <th>Soil_Type39</th>\n",
       "      <th>Soil_Type40</th>\n",
       "      <th>Cover_Type</th>\n",
       "    </tr>\n",
       "  </thead>\n",
       "  <tbody>\n",
       "    <tr>\n",
       "      <th>0</th>\n",
       "      <td>2596</td>\n",
       "      <td>51</td>\n",
       "      <td>3</td>\n",
       "      <td>258</td>\n",
       "      <td>0</td>\n",
       "      <td>510</td>\n",
       "      <td>221</td>\n",
       "      <td>232</td>\n",
       "      <td>148</td>\n",
       "      <td>6279</td>\n",
       "      <td>...</td>\n",
       "      <td>0</td>\n",
       "      <td>0</td>\n",
       "      <td>0</td>\n",
       "      <td>0</td>\n",
       "      <td>0</td>\n",
       "      <td>0</td>\n",
       "      <td>0</td>\n",
       "      <td>0</td>\n",
       "      <td>0</td>\n",
       "      <td>5</td>\n",
       "    </tr>\n",
       "    <tr>\n",
       "      <th>1</th>\n",
       "      <td>2590</td>\n",
       "      <td>56</td>\n",
       "      <td>2</td>\n",
       "      <td>212</td>\n",
       "      <td>-6</td>\n",
       "      <td>390</td>\n",
       "      <td>220</td>\n",
       "      <td>235</td>\n",
       "      <td>151</td>\n",
       "      <td>6225</td>\n",
       "      <td>...</td>\n",
       "      <td>0</td>\n",
       "      <td>0</td>\n",
       "      <td>0</td>\n",
       "      <td>0</td>\n",
       "      <td>0</td>\n",
       "      <td>0</td>\n",
       "      <td>0</td>\n",
       "      <td>0</td>\n",
       "      <td>0</td>\n",
       "      <td>5</td>\n",
       "    </tr>\n",
       "    <tr>\n",
       "      <th>2</th>\n",
       "      <td>2804</td>\n",
       "      <td>139</td>\n",
       "      <td>9</td>\n",
       "      <td>268</td>\n",
       "      <td>65</td>\n",
       "      <td>3180</td>\n",
       "      <td>234</td>\n",
       "      <td>238</td>\n",
       "      <td>135</td>\n",
       "      <td>6121</td>\n",
       "      <td>...</td>\n",
       "      <td>0</td>\n",
       "      <td>0</td>\n",
       "      <td>0</td>\n",
       "      <td>0</td>\n",
       "      <td>0</td>\n",
       "      <td>0</td>\n",
       "      <td>0</td>\n",
       "      <td>0</td>\n",
       "      <td>0</td>\n",
       "      <td>2</td>\n",
       "    </tr>\n",
       "    <tr>\n",
       "      <th>3</th>\n",
       "      <td>2785</td>\n",
       "      <td>155</td>\n",
       "      <td>18</td>\n",
       "      <td>242</td>\n",
       "      <td>118</td>\n",
       "      <td>3090</td>\n",
       "      <td>238</td>\n",
       "      <td>238</td>\n",
       "      <td>122</td>\n",
       "      <td>6211</td>\n",
       "      <td>...</td>\n",
       "      <td>0</td>\n",
       "      <td>0</td>\n",
       "      <td>0</td>\n",
       "      <td>0</td>\n",
       "      <td>0</td>\n",
       "      <td>0</td>\n",
       "      <td>0</td>\n",
       "      <td>0</td>\n",
       "      <td>0</td>\n",
       "      <td>2</td>\n",
       "    </tr>\n",
       "    <tr>\n",
       "      <th>4</th>\n",
       "      <td>2595</td>\n",
       "      <td>45</td>\n",
       "      <td>2</td>\n",
       "      <td>153</td>\n",
       "      <td>-1</td>\n",
       "      <td>391</td>\n",
       "      <td>220</td>\n",
       "      <td>234</td>\n",
       "      <td>150</td>\n",
       "      <td>6172</td>\n",
       "      <td>...</td>\n",
       "      <td>0</td>\n",
       "      <td>0</td>\n",
       "      <td>0</td>\n",
       "      <td>0</td>\n",
       "      <td>0</td>\n",
       "      <td>0</td>\n",
       "      <td>0</td>\n",
       "      <td>0</td>\n",
       "      <td>0</td>\n",
       "      <td>5</td>\n",
       "    </tr>\n",
       "  </tbody>\n",
       "</table>\n",
       "<p>5 rows × 55 columns</p>\n",
       "</div>"
      ],
      "text/plain": [
       "   Elevation  Aspect  Slope  Horizontal_Distance_To_Hydrology  \\\n",
       "0       2596      51      3                               258   \n",
       "1       2590      56      2                               212   \n",
       "2       2804     139      9                               268   \n",
       "3       2785     155     18                               242   \n",
       "4       2595      45      2                               153   \n",
       "\n",
       "   Vertical_Distance_To_Hydrology  Horizontal_Distance_To_Roadways  \\\n",
       "0                               0                              510   \n",
       "1                              -6                              390   \n",
       "2                              65                             3180   \n",
       "3                             118                             3090   \n",
       "4                              -1                              391   \n",
       "\n",
       "   Hillshade_9am  Hillshade_Noon  Hillshade_3pm  \\\n",
       "0            221             232            148   \n",
       "1            220             235            151   \n",
       "2            234             238            135   \n",
       "3            238             238            122   \n",
       "4            220             234            150   \n",
       "\n",
       "   Horizontal_Distance_To_Fire_Points  ...  Soil_Type32  Soil_Type33  \\\n",
       "0                                6279  ...            0            0   \n",
       "1                                6225  ...            0            0   \n",
       "2                                6121  ...            0            0   \n",
       "3                                6211  ...            0            0   \n",
       "4                                6172  ...            0            0   \n",
       "\n",
       "   Soil_Type34  Soil_Type35  Soil_Type36  Soil_Type37  Soil_Type38  \\\n",
       "0            0            0            0            0            0   \n",
       "1            0            0            0            0            0   \n",
       "2            0            0            0            0            0   \n",
       "3            0            0            0            0            0   \n",
       "4            0            0            0            0            0   \n",
       "\n",
       "   Soil_Type39  Soil_Type40  Cover_Type  \n",
       "0            0            0           5  \n",
       "1            0            0           5  \n",
       "2            0            0           2  \n",
       "3            0            0           2  \n",
       "4            0            0           5  \n",
       "\n",
       "[5 rows x 55 columns]"
      ]
     },
     "execution_count": 4,
     "metadata": {},
     "output_type": "execute_result"
    }
   ],
   "source": [
    "df.head()"
   ]
  },
  {
   "cell_type": "code",
   "execution_count": 8,
   "id": "1459dfa8-b156-4ddd-821e-a340b8bfa733",
   "metadata": {},
   "outputs": [
    {
     "data": {
      "text/plain": [
       "Elevation                             int64\n",
       "Aspect                                int64\n",
       "Slope                                 int64\n",
       "Horizontal_Distance_To_Hydrology      int64\n",
       "Vertical_Distance_To_Hydrology        int64\n",
       "Horizontal_Distance_To_Roadways       int64\n",
       "Hillshade_9am                         int64\n",
       "Hillshade_Noon                        int64\n",
       "Hillshade_3pm                         int64\n",
       "Horizontal_Distance_To_Fire_Points    int64\n",
       "Wilderness_Area1                      int64\n",
       "Wilderness_Area2                      int64\n",
       "Wilderness_Area3                      int64\n",
       "Wilderness_Area4                      int64\n",
       "Soil_Type1                            int64\n",
       "Soil_Type2                            int64\n",
       "Soil_Type3                            int64\n",
       "Soil_Type4                            int64\n",
       "Soil_Type5                            int64\n",
       "Soil_Type6                            int64\n",
       "Soil_Type7                            int64\n",
       "Soil_Type8                            int64\n",
       "Soil_Type9                            int64\n",
       "Soil_Type10                           int64\n",
       "Soil_Type11                           int64\n",
       "Soil_Type12                           int64\n",
       "Soil_Type13                           int64\n",
       "Soil_Type14                           int64\n",
       "Soil_Type15                           int64\n",
       "Soil_Type16                           int64\n",
       "Soil_Type17                           int64\n",
       "Soil_Type18                           int64\n",
       "Soil_Type19                           int64\n",
       "Soil_Type20                           int64\n",
       "Soil_Type21                           int64\n",
       "Soil_Type22                           int64\n",
       "Soil_Type23                           int64\n",
       "Soil_Type24                           int64\n",
       "Soil_Type25                           int64\n",
       "Soil_Type26                           int64\n",
       "Soil_Type27                           int64\n",
       "Soil_Type28                           int64\n",
       "Soil_Type29                           int64\n",
       "Soil_Type30                           int64\n",
       "Soil_Type31                           int64\n",
       "Soil_Type32                           int64\n",
       "Soil_Type33                           int64\n",
       "Soil_Type34                           int64\n",
       "Soil_Type35                           int64\n",
       "Soil_Type36                           int64\n",
       "Soil_Type37                           int64\n",
       "Soil_Type38                           int64\n",
       "Soil_Type39                           int64\n",
       "Soil_Type40                           int64\n",
       "Cover_Type                            int64\n",
       "dtype: object"
      ]
     },
     "execution_count": 8,
     "metadata": {},
     "output_type": "execute_result"
    }
   ],
   "source": [
    "df.dtypes"
   ]
  },
  {
   "cell_type": "code",
   "execution_count": 6,
   "id": "4ea747f0-cc90-4691-85e0-eb753a24ee26",
   "metadata": {},
   "outputs": [],
   "source": [
    "typelist = df.dtypes"
   ]
  },
  {
   "cell_type": "code",
   "execution_count": 7,
   "id": "d80d4986-e23a-4c8b-a182-8233b60b6eaf",
   "metadata": {},
   "outputs": [
    {
     "data": {
      "text/plain": [
       "int64    55\n",
       "dtype: int64"
      ]
     },
     "execution_count": 7,
     "metadata": {},
     "output_type": "execute_result"
    }
   ],
   "source": [
    "typelist.value_counts()"
   ]
  },
  {
   "cell_type": "code",
   "execution_count": 9,
   "id": "d81b7a88-7f95-4e7a-bf2e-9f5052180f0d",
   "metadata": {},
   "outputs": [],
   "source": [
    "val_list = df.describe().T"
   ]
  },
  {
   "cell_type": "code",
   "execution_count": 10,
   "id": "36f0b009-a2b0-472b-96f5-c3fece8b618a",
   "metadata": {},
   "outputs": [
    {
     "data": {
      "text/html": [
       "<div>\n",
       "<style scoped>\n",
       "    .dataframe tbody tr th:only-of-type {\n",
       "        vertical-align: middle;\n",
       "    }\n",
       "\n",
       "    .dataframe tbody tr th {\n",
       "        vertical-align: top;\n",
       "    }\n",
       "\n",
       "    .dataframe thead th {\n",
       "        text-align: right;\n",
       "    }\n",
       "</style>\n",
       "<table border=\"1\" class=\"dataframe\">\n",
       "  <thead>\n",
       "    <tr style=\"text-align: right;\">\n",
       "      <th></th>\n",
       "      <th>count</th>\n",
       "      <th>mean</th>\n",
       "      <th>std</th>\n",
       "      <th>min</th>\n",
       "      <th>25%</th>\n",
       "      <th>50%</th>\n",
       "      <th>75%</th>\n",
       "      <th>max</th>\n",
       "    </tr>\n",
       "  </thead>\n",
       "  <tbody>\n",
       "    <tr>\n",
       "      <th>Elevation</th>\n",
       "      <td>581012.0</td>\n",
       "      <td>2959.365301</td>\n",
       "      <td>279.984734</td>\n",
       "      <td>1859.0</td>\n",
       "      <td>2809.0</td>\n",
       "      <td>2996.0</td>\n",
       "      <td>3163.0</td>\n",
       "      <td>3858.0</td>\n",
       "    </tr>\n",
       "    <tr>\n",
       "      <th>Aspect</th>\n",
       "      <td>581012.0</td>\n",
       "      <td>155.656807</td>\n",
       "      <td>111.913721</td>\n",
       "      <td>0.0</td>\n",
       "      <td>58.0</td>\n",
       "      <td>127.0</td>\n",
       "      <td>260.0</td>\n",
       "      <td>360.0</td>\n",
       "    </tr>\n",
       "    <tr>\n",
       "      <th>Slope</th>\n",
       "      <td>581012.0</td>\n",
       "      <td>14.103704</td>\n",
       "      <td>7.488242</td>\n",
       "      <td>0.0</td>\n",
       "      <td>9.0</td>\n",
       "      <td>13.0</td>\n",
       "      <td>18.0</td>\n",
       "      <td>66.0</td>\n",
       "    </tr>\n",
       "    <tr>\n",
       "      <th>Horizontal_Distance_To_Hydrology</th>\n",
       "      <td>581012.0</td>\n",
       "      <td>269.428217</td>\n",
       "      <td>212.549356</td>\n",
       "      <td>0.0</td>\n",
       "      <td>108.0</td>\n",
       "      <td>218.0</td>\n",
       "      <td>384.0</td>\n",
       "      <td>1397.0</td>\n",
       "    </tr>\n",
       "    <tr>\n",
       "      <th>Vertical_Distance_To_Hydrology</th>\n",
       "      <td>581012.0</td>\n",
       "      <td>46.418855</td>\n",
       "      <td>58.295232</td>\n",
       "      <td>-173.0</td>\n",
       "      <td>7.0</td>\n",
       "      <td>30.0</td>\n",
       "      <td>69.0</td>\n",
       "      <td>601.0</td>\n",
       "    </tr>\n",
       "    <tr>\n",
       "      <th>Horizontal_Distance_To_Roadways</th>\n",
       "      <td>581012.0</td>\n",
       "      <td>2350.146611</td>\n",
       "      <td>1559.254870</td>\n",
       "      <td>0.0</td>\n",
       "      <td>1106.0</td>\n",
       "      <td>1997.0</td>\n",
       "      <td>3328.0</td>\n",
       "      <td>7117.0</td>\n",
       "    </tr>\n",
       "    <tr>\n",
       "      <th>Hillshade_9am</th>\n",
       "      <td>581012.0</td>\n",
       "      <td>212.146049</td>\n",
       "      <td>26.769889</td>\n",
       "      <td>0.0</td>\n",
       "      <td>198.0</td>\n",
       "      <td>218.0</td>\n",
       "      <td>231.0</td>\n",
       "      <td>254.0</td>\n",
       "    </tr>\n",
       "    <tr>\n",
       "      <th>Hillshade_Noon</th>\n",
       "      <td>581012.0</td>\n",
       "      <td>223.318716</td>\n",
       "      <td>19.768697</td>\n",
       "      <td>0.0</td>\n",
       "      <td>213.0</td>\n",
       "      <td>226.0</td>\n",
       "      <td>237.0</td>\n",
       "      <td>254.0</td>\n",
       "    </tr>\n",
       "    <tr>\n",
       "      <th>Hillshade_3pm</th>\n",
       "      <td>581012.0</td>\n",
       "      <td>142.528263</td>\n",
       "      <td>38.274529</td>\n",
       "      <td>0.0</td>\n",
       "      <td>119.0</td>\n",
       "      <td>143.0</td>\n",
       "      <td>168.0</td>\n",
       "      <td>254.0</td>\n",
       "    </tr>\n",
       "    <tr>\n",
       "      <th>Horizontal_Distance_To_Fire_Points</th>\n",
       "      <td>581012.0</td>\n",
       "      <td>1980.291226</td>\n",
       "      <td>1324.195210</td>\n",
       "      <td>0.0</td>\n",
       "      <td>1024.0</td>\n",
       "      <td>1710.0</td>\n",
       "      <td>2550.0</td>\n",
       "      <td>7173.0</td>\n",
       "    </tr>\n",
       "    <tr>\n",
       "      <th>Wilderness_Area1</th>\n",
       "      <td>581012.0</td>\n",
       "      <td>0.448865</td>\n",
       "      <td>0.497379</td>\n",
       "      <td>0.0</td>\n",
       "      <td>0.0</td>\n",
       "      <td>0.0</td>\n",
       "      <td>1.0</td>\n",
       "      <td>1.0</td>\n",
       "    </tr>\n",
       "    <tr>\n",
       "      <th>Wilderness_Area2</th>\n",
       "      <td>581012.0</td>\n",
       "      <td>0.051434</td>\n",
       "      <td>0.220882</td>\n",
       "      <td>0.0</td>\n",
       "      <td>0.0</td>\n",
       "      <td>0.0</td>\n",
       "      <td>0.0</td>\n",
       "      <td>1.0</td>\n",
       "    </tr>\n",
       "    <tr>\n",
       "      <th>Wilderness_Area3</th>\n",
       "      <td>581012.0</td>\n",
       "      <td>0.436074</td>\n",
       "      <td>0.495897</td>\n",
       "      <td>0.0</td>\n",
       "      <td>0.0</td>\n",
       "      <td>0.0</td>\n",
       "      <td>1.0</td>\n",
       "      <td>1.0</td>\n",
       "    </tr>\n",
       "    <tr>\n",
       "      <th>Wilderness_Area4</th>\n",
       "      <td>581012.0</td>\n",
       "      <td>0.063627</td>\n",
       "      <td>0.244087</td>\n",
       "      <td>0.0</td>\n",
       "      <td>0.0</td>\n",
       "      <td>0.0</td>\n",
       "      <td>0.0</td>\n",
       "      <td>1.0</td>\n",
       "    </tr>\n",
       "    <tr>\n",
       "      <th>Soil_Type1</th>\n",
       "      <td>581012.0</td>\n",
       "      <td>0.005217</td>\n",
       "      <td>0.072039</td>\n",
       "      <td>0.0</td>\n",
       "      <td>0.0</td>\n",
       "      <td>0.0</td>\n",
       "      <td>0.0</td>\n",
       "      <td>1.0</td>\n",
       "    </tr>\n",
       "    <tr>\n",
       "      <th>Soil_Type2</th>\n",
       "      <td>581012.0</td>\n",
       "      <td>0.012952</td>\n",
       "      <td>0.113066</td>\n",
       "      <td>0.0</td>\n",
       "      <td>0.0</td>\n",
       "      <td>0.0</td>\n",
       "      <td>0.0</td>\n",
       "      <td>1.0</td>\n",
       "    </tr>\n",
       "    <tr>\n",
       "      <th>Soil_Type3</th>\n",
       "      <td>581012.0</td>\n",
       "      <td>0.008301</td>\n",
       "      <td>0.090731</td>\n",
       "      <td>0.0</td>\n",
       "      <td>0.0</td>\n",
       "      <td>0.0</td>\n",
       "      <td>0.0</td>\n",
       "      <td>1.0</td>\n",
       "    </tr>\n",
       "    <tr>\n",
       "      <th>Soil_Type4</th>\n",
       "      <td>581012.0</td>\n",
       "      <td>0.021335</td>\n",
       "      <td>0.144499</td>\n",
       "      <td>0.0</td>\n",
       "      <td>0.0</td>\n",
       "      <td>0.0</td>\n",
       "      <td>0.0</td>\n",
       "      <td>1.0</td>\n",
       "    </tr>\n",
       "    <tr>\n",
       "      <th>Soil_Type5</th>\n",
       "      <td>581012.0</td>\n",
       "      <td>0.002749</td>\n",
       "      <td>0.052356</td>\n",
       "      <td>0.0</td>\n",
       "      <td>0.0</td>\n",
       "      <td>0.0</td>\n",
       "      <td>0.0</td>\n",
       "      <td>1.0</td>\n",
       "    </tr>\n",
       "    <tr>\n",
       "      <th>Soil_Type6</th>\n",
       "      <td>581012.0</td>\n",
       "      <td>0.011316</td>\n",
       "      <td>0.105775</td>\n",
       "      <td>0.0</td>\n",
       "      <td>0.0</td>\n",
       "      <td>0.0</td>\n",
       "      <td>0.0</td>\n",
       "      <td>1.0</td>\n",
       "    </tr>\n",
       "    <tr>\n",
       "      <th>Soil_Type7</th>\n",
       "      <td>581012.0</td>\n",
       "      <td>0.000181</td>\n",
       "      <td>0.013442</td>\n",
       "      <td>0.0</td>\n",
       "      <td>0.0</td>\n",
       "      <td>0.0</td>\n",
       "      <td>0.0</td>\n",
       "      <td>1.0</td>\n",
       "    </tr>\n",
       "    <tr>\n",
       "      <th>Soil_Type8</th>\n",
       "      <td>581012.0</td>\n",
       "      <td>0.000308</td>\n",
       "      <td>0.017550</td>\n",
       "      <td>0.0</td>\n",
       "      <td>0.0</td>\n",
       "      <td>0.0</td>\n",
       "      <td>0.0</td>\n",
       "      <td>1.0</td>\n",
       "    </tr>\n",
       "    <tr>\n",
       "      <th>Soil_Type9</th>\n",
       "      <td>581012.0</td>\n",
       "      <td>0.001974</td>\n",
       "      <td>0.044387</td>\n",
       "      <td>0.0</td>\n",
       "      <td>0.0</td>\n",
       "      <td>0.0</td>\n",
       "      <td>0.0</td>\n",
       "      <td>1.0</td>\n",
       "    </tr>\n",
       "    <tr>\n",
       "      <th>Soil_Type10</th>\n",
       "      <td>581012.0</td>\n",
       "      <td>0.056168</td>\n",
       "      <td>0.230245</td>\n",
       "      <td>0.0</td>\n",
       "      <td>0.0</td>\n",
       "      <td>0.0</td>\n",
       "      <td>0.0</td>\n",
       "      <td>1.0</td>\n",
       "    </tr>\n",
       "    <tr>\n",
       "      <th>Soil_Type11</th>\n",
       "      <td>581012.0</td>\n",
       "      <td>0.021359</td>\n",
       "      <td>0.144579</td>\n",
       "      <td>0.0</td>\n",
       "      <td>0.0</td>\n",
       "      <td>0.0</td>\n",
       "      <td>0.0</td>\n",
       "      <td>1.0</td>\n",
       "    </tr>\n",
       "    <tr>\n",
       "      <th>Soil_Type12</th>\n",
       "      <td>581012.0</td>\n",
       "      <td>0.051584</td>\n",
       "      <td>0.221186</td>\n",
       "      <td>0.0</td>\n",
       "      <td>0.0</td>\n",
       "      <td>0.0</td>\n",
       "      <td>0.0</td>\n",
       "      <td>1.0</td>\n",
       "    </tr>\n",
       "    <tr>\n",
       "      <th>Soil_Type13</th>\n",
       "      <td>581012.0</td>\n",
       "      <td>0.030001</td>\n",
       "      <td>0.170590</td>\n",
       "      <td>0.0</td>\n",
       "      <td>0.0</td>\n",
       "      <td>0.0</td>\n",
       "      <td>0.0</td>\n",
       "      <td>1.0</td>\n",
       "    </tr>\n",
       "    <tr>\n",
       "      <th>Soil_Type14</th>\n",
       "      <td>581012.0</td>\n",
       "      <td>0.001031</td>\n",
       "      <td>0.032092</td>\n",
       "      <td>0.0</td>\n",
       "      <td>0.0</td>\n",
       "      <td>0.0</td>\n",
       "      <td>0.0</td>\n",
       "      <td>1.0</td>\n",
       "    </tr>\n",
       "    <tr>\n",
       "      <th>Soil_Type15</th>\n",
       "      <td>581012.0</td>\n",
       "      <td>0.000005</td>\n",
       "      <td>0.002272</td>\n",
       "      <td>0.0</td>\n",
       "      <td>0.0</td>\n",
       "      <td>0.0</td>\n",
       "      <td>0.0</td>\n",
       "      <td>1.0</td>\n",
       "    </tr>\n",
       "    <tr>\n",
       "      <th>Soil_Type16</th>\n",
       "      <td>581012.0</td>\n",
       "      <td>0.004897</td>\n",
       "      <td>0.069804</td>\n",
       "      <td>0.0</td>\n",
       "      <td>0.0</td>\n",
       "      <td>0.0</td>\n",
       "      <td>0.0</td>\n",
       "      <td>1.0</td>\n",
       "    </tr>\n",
       "    <tr>\n",
       "      <th>Soil_Type17</th>\n",
       "      <td>581012.0</td>\n",
       "      <td>0.005890</td>\n",
       "      <td>0.076518</td>\n",
       "      <td>0.0</td>\n",
       "      <td>0.0</td>\n",
       "      <td>0.0</td>\n",
       "      <td>0.0</td>\n",
       "      <td>1.0</td>\n",
       "    </tr>\n",
       "    <tr>\n",
       "      <th>Soil_Type18</th>\n",
       "      <td>581012.0</td>\n",
       "      <td>0.003268</td>\n",
       "      <td>0.057077</td>\n",
       "      <td>0.0</td>\n",
       "      <td>0.0</td>\n",
       "      <td>0.0</td>\n",
       "      <td>0.0</td>\n",
       "      <td>1.0</td>\n",
       "    </tr>\n",
       "    <tr>\n",
       "      <th>Soil_Type19</th>\n",
       "      <td>581012.0</td>\n",
       "      <td>0.006921</td>\n",
       "      <td>0.082902</td>\n",
       "      <td>0.0</td>\n",
       "      <td>0.0</td>\n",
       "      <td>0.0</td>\n",
       "      <td>0.0</td>\n",
       "      <td>1.0</td>\n",
       "    </tr>\n",
       "    <tr>\n",
       "      <th>Soil_Type20</th>\n",
       "      <td>581012.0</td>\n",
       "      <td>0.015936</td>\n",
       "      <td>0.125228</td>\n",
       "      <td>0.0</td>\n",
       "      <td>0.0</td>\n",
       "      <td>0.0</td>\n",
       "      <td>0.0</td>\n",
       "      <td>1.0</td>\n",
       "    </tr>\n",
       "    <tr>\n",
       "      <th>Soil_Type21</th>\n",
       "      <td>581012.0</td>\n",
       "      <td>0.001442</td>\n",
       "      <td>0.037950</td>\n",
       "      <td>0.0</td>\n",
       "      <td>0.0</td>\n",
       "      <td>0.0</td>\n",
       "      <td>0.0</td>\n",
       "      <td>1.0</td>\n",
       "    </tr>\n",
       "    <tr>\n",
       "      <th>Soil_Type22</th>\n",
       "      <td>581012.0</td>\n",
       "      <td>0.057439</td>\n",
       "      <td>0.232681</td>\n",
       "      <td>0.0</td>\n",
       "      <td>0.0</td>\n",
       "      <td>0.0</td>\n",
       "      <td>0.0</td>\n",
       "      <td>1.0</td>\n",
       "    </tr>\n",
       "    <tr>\n",
       "      <th>Soil_Type23</th>\n",
       "      <td>581012.0</td>\n",
       "      <td>0.099399</td>\n",
       "      <td>0.299197</td>\n",
       "      <td>0.0</td>\n",
       "      <td>0.0</td>\n",
       "      <td>0.0</td>\n",
       "      <td>0.0</td>\n",
       "      <td>1.0</td>\n",
       "    </tr>\n",
       "    <tr>\n",
       "      <th>Soil_Type24</th>\n",
       "      <td>581012.0</td>\n",
       "      <td>0.036622</td>\n",
       "      <td>0.187833</td>\n",
       "      <td>0.0</td>\n",
       "      <td>0.0</td>\n",
       "      <td>0.0</td>\n",
       "      <td>0.0</td>\n",
       "      <td>1.0</td>\n",
       "    </tr>\n",
       "    <tr>\n",
       "      <th>Soil_Type25</th>\n",
       "      <td>581012.0</td>\n",
       "      <td>0.000816</td>\n",
       "      <td>0.028551</td>\n",
       "      <td>0.0</td>\n",
       "      <td>0.0</td>\n",
       "      <td>0.0</td>\n",
       "      <td>0.0</td>\n",
       "      <td>1.0</td>\n",
       "    </tr>\n",
       "    <tr>\n",
       "      <th>Soil_Type26</th>\n",
       "      <td>581012.0</td>\n",
       "      <td>0.004456</td>\n",
       "      <td>0.066605</td>\n",
       "      <td>0.0</td>\n",
       "      <td>0.0</td>\n",
       "      <td>0.0</td>\n",
       "      <td>0.0</td>\n",
       "      <td>1.0</td>\n",
       "    </tr>\n",
       "    <tr>\n",
       "      <th>Soil_Type27</th>\n",
       "      <td>581012.0</td>\n",
       "      <td>0.001869</td>\n",
       "      <td>0.043193</td>\n",
       "      <td>0.0</td>\n",
       "      <td>0.0</td>\n",
       "      <td>0.0</td>\n",
       "      <td>0.0</td>\n",
       "      <td>1.0</td>\n",
       "    </tr>\n",
       "    <tr>\n",
       "      <th>Soil_Type28</th>\n",
       "      <td>581012.0</td>\n",
       "      <td>0.001628</td>\n",
       "      <td>0.040318</td>\n",
       "      <td>0.0</td>\n",
       "      <td>0.0</td>\n",
       "      <td>0.0</td>\n",
       "      <td>0.0</td>\n",
       "      <td>1.0</td>\n",
       "    </tr>\n",
       "    <tr>\n",
       "      <th>Soil_Type29</th>\n",
       "      <td>581012.0</td>\n",
       "      <td>0.198356</td>\n",
       "      <td>0.398762</td>\n",
       "      <td>0.0</td>\n",
       "      <td>0.0</td>\n",
       "      <td>0.0</td>\n",
       "      <td>0.0</td>\n",
       "      <td>1.0</td>\n",
       "    </tr>\n",
       "    <tr>\n",
       "      <th>Soil_Type30</th>\n",
       "      <td>581012.0</td>\n",
       "      <td>0.051927</td>\n",
       "      <td>0.221879</td>\n",
       "      <td>0.0</td>\n",
       "      <td>0.0</td>\n",
       "      <td>0.0</td>\n",
       "      <td>0.0</td>\n",
       "      <td>1.0</td>\n",
       "    </tr>\n",
       "    <tr>\n",
       "      <th>Soil_Type31</th>\n",
       "      <td>581012.0</td>\n",
       "      <td>0.044175</td>\n",
       "      <td>0.205483</td>\n",
       "      <td>0.0</td>\n",
       "      <td>0.0</td>\n",
       "      <td>0.0</td>\n",
       "      <td>0.0</td>\n",
       "      <td>1.0</td>\n",
       "    </tr>\n",
       "    <tr>\n",
       "      <th>Soil_Type32</th>\n",
       "      <td>581012.0</td>\n",
       "      <td>0.090392</td>\n",
       "      <td>0.286743</td>\n",
       "      <td>0.0</td>\n",
       "      <td>0.0</td>\n",
       "      <td>0.0</td>\n",
       "      <td>0.0</td>\n",
       "      <td>1.0</td>\n",
       "    </tr>\n",
       "    <tr>\n",
       "      <th>Soil_Type33</th>\n",
       "      <td>581012.0</td>\n",
       "      <td>0.077716</td>\n",
       "      <td>0.267725</td>\n",
       "      <td>0.0</td>\n",
       "      <td>0.0</td>\n",
       "      <td>0.0</td>\n",
       "      <td>0.0</td>\n",
       "      <td>1.0</td>\n",
       "    </tr>\n",
       "    <tr>\n",
       "      <th>Soil_Type34</th>\n",
       "      <td>581012.0</td>\n",
       "      <td>0.002773</td>\n",
       "      <td>0.052584</td>\n",
       "      <td>0.0</td>\n",
       "      <td>0.0</td>\n",
       "      <td>0.0</td>\n",
       "      <td>0.0</td>\n",
       "      <td>1.0</td>\n",
       "    </tr>\n",
       "    <tr>\n",
       "      <th>Soil_Type35</th>\n",
       "      <td>581012.0</td>\n",
       "      <td>0.003255</td>\n",
       "      <td>0.056957</td>\n",
       "      <td>0.0</td>\n",
       "      <td>0.0</td>\n",
       "      <td>0.0</td>\n",
       "      <td>0.0</td>\n",
       "      <td>1.0</td>\n",
       "    </tr>\n",
       "    <tr>\n",
       "      <th>Soil_Type36</th>\n",
       "      <td>581012.0</td>\n",
       "      <td>0.000205</td>\n",
       "      <td>0.014310</td>\n",
       "      <td>0.0</td>\n",
       "      <td>0.0</td>\n",
       "      <td>0.0</td>\n",
       "      <td>0.0</td>\n",
       "      <td>1.0</td>\n",
       "    </tr>\n",
       "    <tr>\n",
       "      <th>Soil_Type37</th>\n",
       "      <td>581012.0</td>\n",
       "      <td>0.000513</td>\n",
       "      <td>0.022641</td>\n",
       "      <td>0.0</td>\n",
       "      <td>0.0</td>\n",
       "      <td>0.0</td>\n",
       "      <td>0.0</td>\n",
       "      <td>1.0</td>\n",
       "    </tr>\n",
       "    <tr>\n",
       "      <th>Soil_Type38</th>\n",
       "      <td>581012.0</td>\n",
       "      <td>0.026803</td>\n",
       "      <td>0.161508</td>\n",
       "      <td>0.0</td>\n",
       "      <td>0.0</td>\n",
       "      <td>0.0</td>\n",
       "      <td>0.0</td>\n",
       "      <td>1.0</td>\n",
       "    </tr>\n",
       "    <tr>\n",
       "      <th>Soil_Type39</th>\n",
       "      <td>581012.0</td>\n",
       "      <td>0.023762</td>\n",
       "      <td>0.152307</td>\n",
       "      <td>0.0</td>\n",
       "      <td>0.0</td>\n",
       "      <td>0.0</td>\n",
       "      <td>0.0</td>\n",
       "      <td>1.0</td>\n",
       "    </tr>\n",
       "    <tr>\n",
       "      <th>Soil_Type40</th>\n",
       "      <td>581012.0</td>\n",
       "      <td>0.015060</td>\n",
       "      <td>0.121791</td>\n",
       "      <td>0.0</td>\n",
       "      <td>0.0</td>\n",
       "      <td>0.0</td>\n",
       "      <td>0.0</td>\n",
       "      <td>1.0</td>\n",
       "    </tr>\n",
       "    <tr>\n",
       "      <th>Cover_Type</th>\n",
       "      <td>581012.0</td>\n",
       "      <td>2.051471</td>\n",
       "      <td>1.396504</td>\n",
       "      <td>1.0</td>\n",
       "      <td>1.0</td>\n",
       "      <td>2.0</td>\n",
       "      <td>2.0</td>\n",
       "      <td>7.0</td>\n",
       "    </tr>\n",
       "  </tbody>\n",
       "</table>\n",
       "</div>"
      ],
      "text/plain": [
       "                                       count         mean          std  \\\n",
       "Elevation                           581012.0  2959.365301   279.984734   \n",
       "Aspect                              581012.0   155.656807   111.913721   \n",
       "Slope                               581012.0    14.103704     7.488242   \n",
       "Horizontal_Distance_To_Hydrology    581012.0   269.428217   212.549356   \n",
       "Vertical_Distance_To_Hydrology      581012.0    46.418855    58.295232   \n",
       "Horizontal_Distance_To_Roadways     581012.0  2350.146611  1559.254870   \n",
       "Hillshade_9am                       581012.0   212.146049    26.769889   \n",
       "Hillshade_Noon                      581012.0   223.318716    19.768697   \n",
       "Hillshade_3pm                       581012.0   142.528263    38.274529   \n",
       "Horizontal_Distance_To_Fire_Points  581012.0  1980.291226  1324.195210   \n",
       "Wilderness_Area1                    581012.0     0.448865     0.497379   \n",
       "Wilderness_Area2                    581012.0     0.051434     0.220882   \n",
       "Wilderness_Area3                    581012.0     0.436074     0.495897   \n",
       "Wilderness_Area4                    581012.0     0.063627     0.244087   \n",
       "Soil_Type1                          581012.0     0.005217     0.072039   \n",
       "Soil_Type2                          581012.0     0.012952     0.113066   \n",
       "Soil_Type3                          581012.0     0.008301     0.090731   \n",
       "Soil_Type4                          581012.0     0.021335     0.144499   \n",
       "Soil_Type5                          581012.0     0.002749     0.052356   \n",
       "Soil_Type6                          581012.0     0.011316     0.105775   \n",
       "Soil_Type7                          581012.0     0.000181     0.013442   \n",
       "Soil_Type8                          581012.0     0.000308     0.017550   \n",
       "Soil_Type9                          581012.0     0.001974     0.044387   \n",
       "Soil_Type10                         581012.0     0.056168     0.230245   \n",
       "Soil_Type11                         581012.0     0.021359     0.144579   \n",
       "Soil_Type12                         581012.0     0.051584     0.221186   \n",
       "Soil_Type13                         581012.0     0.030001     0.170590   \n",
       "Soil_Type14                         581012.0     0.001031     0.032092   \n",
       "Soil_Type15                         581012.0     0.000005     0.002272   \n",
       "Soil_Type16                         581012.0     0.004897     0.069804   \n",
       "Soil_Type17                         581012.0     0.005890     0.076518   \n",
       "Soil_Type18                         581012.0     0.003268     0.057077   \n",
       "Soil_Type19                         581012.0     0.006921     0.082902   \n",
       "Soil_Type20                         581012.0     0.015936     0.125228   \n",
       "Soil_Type21                         581012.0     0.001442     0.037950   \n",
       "Soil_Type22                         581012.0     0.057439     0.232681   \n",
       "Soil_Type23                         581012.0     0.099399     0.299197   \n",
       "Soil_Type24                         581012.0     0.036622     0.187833   \n",
       "Soil_Type25                         581012.0     0.000816     0.028551   \n",
       "Soil_Type26                         581012.0     0.004456     0.066605   \n",
       "Soil_Type27                         581012.0     0.001869     0.043193   \n",
       "Soil_Type28                         581012.0     0.001628     0.040318   \n",
       "Soil_Type29                         581012.0     0.198356     0.398762   \n",
       "Soil_Type30                         581012.0     0.051927     0.221879   \n",
       "Soil_Type31                         581012.0     0.044175     0.205483   \n",
       "Soil_Type32                         581012.0     0.090392     0.286743   \n",
       "Soil_Type33                         581012.0     0.077716     0.267725   \n",
       "Soil_Type34                         581012.0     0.002773     0.052584   \n",
       "Soil_Type35                         581012.0     0.003255     0.056957   \n",
       "Soil_Type36                         581012.0     0.000205     0.014310   \n",
       "Soil_Type37                         581012.0     0.000513     0.022641   \n",
       "Soil_Type38                         581012.0     0.026803     0.161508   \n",
       "Soil_Type39                         581012.0     0.023762     0.152307   \n",
       "Soil_Type40                         581012.0     0.015060     0.121791   \n",
       "Cover_Type                          581012.0     2.051471     1.396504   \n",
       "\n",
       "                                       min     25%     50%     75%     max  \n",
       "Elevation                           1859.0  2809.0  2996.0  3163.0  3858.0  \n",
       "Aspect                                 0.0    58.0   127.0   260.0   360.0  \n",
       "Slope                                  0.0     9.0    13.0    18.0    66.0  \n",
       "Horizontal_Distance_To_Hydrology       0.0   108.0   218.0   384.0  1397.0  \n",
       "Vertical_Distance_To_Hydrology      -173.0     7.0    30.0    69.0   601.0  \n",
       "Horizontal_Distance_To_Roadways        0.0  1106.0  1997.0  3328.0  7117.0  \n",
       "Hillshade_9am                          0.0   198.0   218.0   231.0   254.0  \n",
       "Hillshade_Noon                         0.0   213.0   226.0   237.0   254.0  \n",
       "Hillshade_3pm                          0.0   119.0   143.0   168.0   254.0  \n",
       "Horizontal_Distance_To_Fire_Points     0.0  1024.0  1710.0  2550.0  7173.0  \n",
       "Wilderness_Area1                       0.0     0.0     0.0     1.0     1.0  \n",
       "Wilderness_Area2                       0.0     0.0     0.0     0.0     1.0  \n",
       "Wilderness_Area3                       0.0     0.0     0.0     1.0     1.0  \n",
       "Wilderness_Area4                       0.0     0.0     0.0     0.0     1.0  \n",
       "Soil_Type1                             0.0     0.0     0.0     0.0     1.0  \n",
       "Soil_Type2                             0.0     0.0     0.0     0.0     1.0  \n",
       "Soil_Type3                             0.0     0.0     0.0     0.0     1.0  \n",
       "Soil_Type4                             0.0     0.0     0.0     0.0     1.0  \n",
       "Soil_Type5                             0.0     0.0     0.0     0.0     1.0  \n",
       "Soil_Type6                             0.0     0.0     0.0     0.0     1.0  \n",
       "Soil_Type7                             0.0     0.0     0.0     0.0     1.0  \n",
       "Soil_Type8                             0.0     0.0     0.0     0.0     1.0  \n",
       "Soil_Type9                             0.0     0.0     0.0     0.0     1.0  \n",
       "Soil_Type10                            0.0     0.0     0.0     0.0     1.0  \n",
       "Soil_Type11                            0.0     0.0     0.0     0.0     1.0  \n",
       "Soil_Type12                            0.0     0.0     0.0     0.0     1.0  \n",
       "Soil_Type13                            0.0     0.0     0.0     0.0     1.0  \n",
       "Soil_Type14                            0.0     0.0     0.0     0.0     1.0  \n",
       "Soil_Type15                            0.0     0.0     0.0     0.0     1.0  \n",
       "Soil_Type16                            0.0     0.0     0.0     0.0     1.0  \n",
       "Soil_Type17                            0.0     0.0     0.0     0.0     1.0  \n",
       "Soil_Type18                            0.0     0.0     0.0     0.0     1.0  \n",
       "Soil_Type19                            0.0     0.0     0.0     0.0     1.0  \n",
       "Soil_Type20                            0.0     0.0     0.0     0.0     1.0  \n",
       "Soil_Type21                            0.0     0.0     0.0     0.0     1.0  \n",
       "Soil_Type22                            0.0     0.0     0.0     0.0     1.0  \n",
       "Soil_Type23                            0.0     0.0     0.0     0.0     1.0  \n",
       "Soil_Type24                            0.0     0.0     0.0     0.0     1.0  \n",
       "Soil_Type25                            0.0     0.0     0.0     0.0     1.0  \n",
       "Soil_Type26                            0.0     0.0     0.0     0.0     1.0  \n",
       "Soil_Type27                            0.0     0.0     0.0     0.0     1.0  \n",
       "Soil_Type28                            0.0     0.0     0.0     0.0     1.0  \n",
       "Soil_Type29                            0.0     0.0     0.0     0.0     1.0  \n",
       "Soil_Type30                            0.0     0.0     0.0     0.0     1.0  \n",
       "Soil_Type31                            0.0     0.0     0.0     0.0     1.0  \n",
       "Soil_Type32                            0.0     0.0     0.0     0.0     1.0  \n",
       "Soil_Type33                            0.0     0.0     0.0     0.0     1.0  \n",
       "Soil_Type34                            0.0     0.0     0.0     0.0     1.0  \n",
       "Soil_Type35                            0.0     0.0     0.0     0.0     1.0  \n",
       "Soil_Type36                            0.0     0.0     0.0     0.0     1.0  \n",
       "Soil_Type37                            0.0     0.0     0.0     0.0     1.0  \n",
       "Soil_Type38                            0.0     0.0     0.0     0.0     1.0  \n",
       "Soil_Type39                            0.0     0.0     0.0     0.0     1.0  \n",
       "Soil_Type40                            0.0     0.0     0.0     0.0     1.0  \n",
       "Cover_Type                             1.0     1.0     2.0     2.0     7.0  "
      ]
     },
     "execution_count": 10,
     "metadata": {},
     "output_type": "execute_result"
    }
   ],
   "source": [
    "df.describe().T"
   ]
  },
  {
   "cell_type": "code",
   "execution_count": 15,
   "id": "90fa3e76-1121-485d-a3a3-8fa78d009eaf",
   "metadata": {},
   "outputs": [],
   "source": [
    "missing_vals = df.isna()"
   ]
  },
  {
   "cell_type": "code",
   "execution_count": 20,
   "id": "38c7739f-5619-47d6-88c6-95fa185f8229",
   "metadata": {},
   "outputs": [
    {
     "data": {
      "text/html": [
       "<div>\n",
       "<style scoped>\n",
       "    .dataframe tbody tr th:only-of-type {\n",
       "        vertical-align: middle;\n",
       "    }\n",
       "\n",
       "    .dataframe tbody tr th {\n",
       "        vertical-align: top;\n",
       "    }\n",
       "\n",
       "    .dataframe thead th {\n",
       "        text-align: right;\n",
       "    }\n",
       "</style>\n",
       "<table border=\"1\" class=\"dataframe\">\n",
       "  <thead>\n",
       "    <tr style=\"text-align: right;\">\n",
       "      <th></th>\n",
       "      <th>Elevation</th>\n",
       "      <th>Aspect</th>\n",
       "      <th>Slope</th>\n",
       "      <th>Horizontal_Distance_To_Hydrology</th>\n",
       "      <th>Vertical_Distance_To_Hydrology</th>\n",
       "      <th>Horizontal_Distance_To_Roadways</th>\n",
       "      <th>Hillshade_9am</th>\n",
       "      <th>Hillshade_Noon</th>\n",
       "      <th>Hillshade_3pm</th>\n",
       "      <th>Horizontal_Distance_To_Fire_Points</th>\n",
       "      <th>...</th>\n",
       "      <th>Soil_Type32</th>\n",
       "      <th>Soil_Type33</th>\n",
       "      <th>Soil_Type34</th>\n",
       "      <th>Soil_Type35</th>\n",
       "      <th>Soil_Type36</th>\n",
       "      <th>Soil_Type37</th>\n",
       "      <th>Soil_Type38</th>\n",
       "      <th>Soil_Type39</th>\n",
       "      <th>Soil_Type40</th>\n",
       "      <th>Cover_Type</th>\n",
       "    </tr>\n",
       "  </thead>\n",
       "  <tbody>\n",
       "    <tr>\n",
       "      <th>0</th>\n",
       "      <td>False</td>\n",
       "      <td>False</td>\n",
       "      <td>False</td>\n",
       "      <td>False</td>\n",
       "      <td>False</td>\n",
       "      <td>False</td>\n",
       "      <td>False</td>\n",
       "      <td>False</td>\n",
       "      <td>False</td>\n",
       "      <td>False</td>\n",
       "      <td>...</td>\n",
       "      <td>False</td>\n",
       "      <td>False</td>\n",
       "      <td>False</td>\n",
       "      <td>False</td>\n",
       "      <td>False</td>\n",
       "      <td>False</td>\n",
       "      <td>False</td>\n",
       "      <td>False</td>\n",
       "      <td>False</td>\n",
       "      <td>False</td>\n",
       "    </tr>\n",
       "    <tr>\n",
       "      <th>1</th>\n",
       "      <td>False</td>\n",
       "      <td>False</td>\n",
       "      <td>False</td>\n",
       "      <td>False</td>\n",
       "      <td>False</td>\n",
       "      <td>False</td>\n",
       "      <td>False</td>\n",
       "      <td>False</td>\n",
       "      <td>False</td>\n",
       "      <td>False</td>\n",
       "      <td>...</td>\n",
       "      <td>False</td>\n",
       "      <td>False</td>\n",
       "      <td>False</td>\n",
       "      <td>False</td>\n",
       "      <td>False</td>\n",
       "      <td>False</td>\n",
       "      <td>False</td>\n",
       "      <td>False</td>\n",
       "      <td>False</td>\n",
       "      <td>False</td>\n",
       "    </tr>\n",
       "    <tr>\n",
       "      <th>2</th>\n",
       "      <td>False</td>\n",
       "      <td>False</td>\n",
       "      <td>False</td>\n",
       "      <td>False</td>\n",
       "      <td>False</td>\n",
       "      <td>False</td>\n",
       "      <td>False</td>\n",
       "      <td>False</td>\n",
       "      <td>False</td>\n",
       "      <td>False</td>\n",
       "      <td>...</td>\n",
       "      <td>False</td>\n",
       "      <td>False</td>\n",
       "      <td>False</td>\n",
       "      <td>False</td>\n",
       "      <td>False</td>\n",
       "      <td>False</td>\n",
       "      <td>False</td>\n",
       "      <td>False</td>\n",
       "      <td>False</td>\n",
       "      <td>False</td>\n",
       "    </tr>\n",
       "    <tr>\n",
       "      <th>3</th>\n",
       "      <td>False</td>\n",
       "      <td>False</td>\n",
       "      <td>False</td>\n",
       "      <td>False</td>\n",
       "      <td>False</td>\n",
       "      <td>False</td>\n",
       "      <td>False</td>\n",
       "      <td>False</td>\n",
       "      <td>False</td>\n",
       "      <td>False</td>\n",
       "      <td>...</td>\n",
       "      <td>False</td>\n",
       "      <td>False</td>\n",
       "      <td>False</td>\n",
       "      <td>False</td>\n",
       "      <td>False</td>\n",
       "      <td>False</td>\n",
       "      <td>False</td>\n",
       "      <td>False</td>\n",
       "      <td>False</td>\n",
       "      <td>False</td>\n",
       "    </tr>\n",
       "    <tr>\n",
       "      <th>4</th>\n",
       "      <td>False</td>\n",
       "      <td>False</td>\n",
       "      <td>False</td>\n",
       "      <td>False</td>\n",
       "      <td>False</td>\n",
       "      <td>False</td>\n",
       "      <td>False</td>\n",
       "      <td>False</td>\n",
       "      <td>False</td>\n",
       "      <td>False</td>\n",
       "      <td>...</td>\n",
       "      <td>False</td>\n",
       "      <td>False</td>\n",
       "      <td>False</td>\n",
       "      <td>False</td>\n",
       "      <td>False</td>\n",
       "      <td>False</td>\n",
       "      <td>False</td>\n",
       "      <td>False</td>\n",
       "      <td>False</td>\n",
       "      <td>False</td>\n",
       "    </tr>\n",
       "  </tbody>\n",
       "</table>\n",
       "<p>5 rows × 55 columns</p>\n",
       "</div>"
      ],
      "text/plain": [
       "   Elevation  Aspect  Slope  Horizontal_Distance_To_Hydrology  \\\n",
       "0      False   False  False                             False   \n",
       "1      False   False  False                             False   \n",
       "2      False   False  False                             False   \n",
       "3      False   False  False                             False   \n",
       "4      False   False  False                             False   \n",
       "\n",
       "   Vertical_Distance_To_Hydrology  Horizontal_Distance_To_Roadways  \\\n",
       "0                           False                            False   \n",
       "1                           False                            False   \n",
       "2                           False                            False   \n",
       "3                           False                            False   \n",
       "4                           False                            False   \n",
       "\n",
       "   Hillshade_9am  Hillshade_Noon  Hillshade_3pm  \\\n",
       "0          False           False          False   \n",
       "1          False           False          False   \n",
       "2          False           False          False   \n",
       "3          False           False          False   \n",
       "4          False           False          False   \n",
       "\n",
       "   Horizontal_Distance_To_Fire_Points  ...  Soil_Type32  Soil_Type33  \\\n",
       "0                               False  ...        False        False   \n",
       "1                               False  ...        False        False   \n",
       "2                               False  ...        False        False   \n",
       "3                               False  ...        False        False   \n",
       "4                               False  ...        False        False   \n",
       "\n",
       "   Soil_Type34  Soil_Type35  Soil_Type36  Soil_Type37  Soil_Type38  \\\n",
       "0        False        False        False        False        False   \n",
       "1        False        False        False        False        False   \n",
       "2        False        False        False        False        False   \n",
       "3        False        False        False        False        False   \n",
       "4        False        False        False        False        False   \n",
       "\n",
       "   Soil_Type39  Soil_Type40  Cover_Type  \n",
       "0        False        False       False  \n",
       "1        False        False       False  \n",
       "2        False        False       False  \n",
       "3        False        False       False  \n",
       "4        False        False       False  \n",
       "\n",
       "[5 rows x 55 columns]"
      ]
     },
     "execution_count": 20,
     "metadata": {},
     "output_type": "execute_result"
    }
   ],
   "source": [
    "missing_vals.head()"
   ]
  },
  {
   "cell_type": "code",
   "execution_count": 19,
   "id": "322ddd8d-c466-4464-bf8b-be26cf117ea3",
   "metadata": {},
   "outputs": [
    {
     "data": {
      "text/plain": [
       "0"
      ]
     },
     "execution_count": 19,
     "metadata": {},
     "output_type": "execute_result"
    }
   ],
   "source": [
    "missing_vals.sum().sum()"
   ]
  },
  {
   "cell_type": "code",
   "execution_count": 9,
   "id": "cb98116f-716b-44bf-9e2c-96379bb88217",
   "metadata": {},
   "outputs": [
    {
     "data": {
      "text/plain": [
       "(581012, 55)"
      ]
     },
     "execution_count": 9,
     "metadata": {},
     "output_type": "execute_result"
    }
   ],
   "source": [
    "df.shape"
   ]
  },
  {
   "cell_type": "code",
   "execution_count": 10,
   "id": "70cba40e-9a8d-41d0-8a7d-ea1ccec26e6a",
   "metadata": {},
   "outputs": [
    {
     "data": {
      "text/plain": [
       "2    283301\n",
       "1    211840\n",
       "3     35754\n",
       "7     20510\n",
       "6     17367\n",
       "5      9493\n",
       "4      2747\n",
       "Name: Cover_Type, dtype: int64"
      ]
     },
     "execution_count": 10,
     "metadata": {},
     "output_type": "execute_result"
    }
   ],
   "source": [
    "df['Cover_Type'].value_counts()"
   ]
  },
  {
   "cell_type": "code",
   "execution_count": 11,
   "id": "b88f94be-f42a-4404-8064-e096b94ae266",
   "metadata": {},
   "outputs": [
    {
     "data": {
      "text/plain": [
       "2    0.487599\n",
       "1    0.364605\n",
       "3    0.061537\n",
       "7    0.035300\n",
       "6    0.029891\n",
       "5    0.016339\n",
       "4    0.004728\n",
       "Name: Cover_Type, dtype: float64"
      ]
     },
     "execution_count": 11,
     "metadata": {},
     "output_type": "execute_result"
    }
   ],
   "source": [
    "df['Cover_Type'].value_counts(normalize=True)"
   ]
  },
  {
   "cell_type": "markdown",
   "id": "924f5535-489f-4380-87fa-00afa36c52c5",
   "metadata": {},
   "source": [
    "The dataset has 7 different classes in the target column. It is clear from the distribution of the values that the dataset suffers from highly imbalanced classes. Classes labelled 2 and 1 comprise about 85% of the total values in the dataset. Classes 3, 7 and 6 comprise only about 12.5 % of the dataset while classes 5 and 4  make up about 2% of the values only."
   ]
  },
  {
   "cell_type": "code",
   "execution_count": 12,
   "id": "e8edc3aa-6e18-4cdc-b627-b2d463e804e8",
   "metadata": {},
   "outputs": [
    {
     "data": {
      "text/plain": [
       "<AxesSubplot:>"
      ]
     },
     "execution_count": 12,
     "metadata": {},
     "output_type": "execute_result"
    },
    {
     "data": {
      "image/png": "[encoded data removed]",
      "text/plain": [
       "<Figure size 640x480 with 1 Axes>"
      ]
     },
     "metadata": {},
     "output_type": "display_data"
    }
   ],
   "source": [
    "df['Cover_Type'].value_counts(normalize=True).plot(kind='bar')"
   ]
  },
  {
   "cell_type": "code",
   "execution_count": 14,
   "id": "fbba4cff-e6ad-4bd7-b374-c7e3111e4cd5",
   "metadata": {},
   "outputs": [
    {
     "data": {
      "text/html": [
       "<div>\n",
       "<style scoped>\n",
       "    .dataframe tbody tr th:only-of-type {\n",
       "        vertical-align: middle;\n",
       "    }\n",
       "\n",
       "    .dataframe tbody tr th {\n",
       "        vertical-align: top;\n",
       "    }\n",
       "\n",
       "    .dataframe thead th {\n",
       "        text-align: right;\n",
       "    }\n",
       "</style>\n",
       "<table border=\"1\" class=\"dataframe\">\n",
       "  <thead>\n",
       "    <tr style=\"text-align: right;\">\n",
       "      <th></th>\n",
       "      <th>Elevation</th>\n",
       "      <th>Aspect</th>\n",
       "      <th>Slope</th>\n",
       "      <th>Horizontal_Distance_To_Hydrology</th>\n",
       "      <th>Vertical_Distance_To_Hydrology</th>\n",
       "      <th>Horizontal_Distance_To_Roadways</th>\n",
       "      <th>Hillshade_9am</th>\n",
       "      <th>Hillshade_Noon</th>\n",
       "      <th>Hillshade_3pm</th>\n",
       "      <th>Horizontal_Distance_To_Fire_Points</th>\n",
       "      <th>...</th>\n",
       "      <th>Soil_Type32</th>\n",
       "      <th>Soil_Type33</th>\n",
       "      <th>Soil_Type34</th>\n",
       "      <th>Soil_Type35</th>\n",
       "      <th>Soil_Type36</th>\n",
       "      <th>Soil_Type37</th>\n",
       "      <th>Soil_Type38</th>\n",
       "      <th>Soil_Type39</th>\n",
       "      <th>Soil_Type40</th>\n",
       "      <th>Cover_Type</th>\n",
       "    </tr>\n",
       "  </thead>\n",
       "  <tbody>\n",
       "    <tr>\n",
       "      <th>0</th>\n",
       "      <td>2596</td>\n",
       "      <td>51</td>\n",
       "      <td>3</td>\n",
       "      <td>258</td>\n",
       "      <td>0</td>\n",
       "      <td>510</td>\n",
       "      <td>221</td>\n",
       "      <td>232</td>\n",
       "      <td>148</td>\n",
       "      <td>6279</td>\n",
       "      <td>...</td>\n",
       "      <td>0</td>\n",
       "      <td>0</td>\n",
       "      <td>0</td>\n",
       "      <td>0</td>\n",
       "      <td>0</td>\n",
       "      <td>0</td>\n",
       "      <td>0</td>\n",
       "      <td>0</td>\n",
       "      <td>0</td>\n",
       "      <td>5</td>\n",
       "    </tr>\n",
       "    <tr>\n",
       "      <th>1</th>\n",
       "      <td>2590</td>\n",
       "      <td>56</td>\n",
       "      <td>2</td>\n",
       "      <td>212</td>\n",
       "      <td>-6</td>\n",
       "      <td>390</td>\n",
       "      <td>220</td>\n",
       "      <td>235</td>\n",
       "      <td>151</td>\n",
       "      <td>6225</td>\n",
       "      <td>...</td>\n",
       "      <td>0</td>\n",
       "      <td>0</td>\n",
       "      <td>0</td>\n",
       "      <td>0</td>\n",
       "      <td>0</td>\n",
       "      <td>0</td>\n",
       "      <td>0</td>\n",
       "      <td>0</td>\n",
       "      <td>0</td>\n",
       "      <td>5</td>\n",
       "    </tr>\n",
       "    <tr>\n",
       "      <th>2</th>\n",
       "      <td>2804</td>\n",
       "      <td>139</td>\n",
       "      <td>9</td>\n",
       "      <td>268</td>\n",
       "      <td>65</td>\n",
       "      <td>3180</td>\n",
       "      <td>234</td>\n",
       "      <td>238</td>\n",
       "      <td>135</td>\n",
       "      <td>6121</td>\n",
       "      <td>...</td>\n",
       "      <td>0</td>\n",
       "      <td>0</td>\n",
       "      <td>0</td>\n",
       "      <td>0</td>\n",
       "      <td>0</td>\n",
       "      <td>0</td>\n",
       "      <td>0</td>\n",
       "      <td>0</td>\n",
       "      <td>0</td>\n",
       "      <td>2</td>\n",
       "    </tr>\n",
       "    <tr>\n",
       "      <th>3</th>\n",
       "      <td>2785</td>\n",
       "      <td>155</td>\n",
       "      <td>18</td>\n",
       "      <td>242</td>\n",
       "      <td>118</td>\n",
       "      <td>3090</td>\n",
       "      <td>238</td>\n",
       "      <td>238</td>\n",
       "      <td>122</td>\n",
       "      <td>6211</td>\n",
       "      <td>...</td>\n",
       "      <td>0</td>\n",
       "      <td>0</td>\n",
       "      <td>0</td>\n",
       "      <td>0</td>\n",
       "      <td>0</td>\n",
       "      <td>0</td>\n",
       "      <td>0</td>\n",
       "      <td>0</td>\n",
       "      <td>0</td>\n",
       "      <td>2</td>\n",
       "    </tr>\n",
       "    <tr>\n",
       "      <th>4</th>\n",
       "      <td>2595</td>\n",
       "      <td>45</td>\n",
       "      <td>2</td>\n",
       "      <td>153</td>\n",
       "      <td>-1</td>\n",
       "      <td>391</td>\n",
       "      <td>220</td>\n",
       "      <td>234</td>\n",
       "      <td>150</td>\n",
       "      <td>6172</td>\n",
       "      <td>...</td>\n",
       "      <td>0</td>\n",
       "      <td>0</td>\n",
       "      <td>0</td>\n",
       "      <td>0</td>\n",
       "      <td>0</td>\n",
       "      <td>0</td>\n",
       "      <td>0</td>\n",
       "      <td>0</td>\n",
       "      <td>0</td>\n",
       "      <td>5</td>\n",
       "    </tr>\n",
       "  </tbody>\n",
       "</table>\n",
       "<p>5 rows × 55 columns</p>\n",
       "</div>"
      ],
      "text/plain": [
       "   Elevation  Aspect  Slope  Horizontal_Distance_To_Hydrology  \\\n",
       "0       2596      51      3                               258   \n",
       "1       2590      56      2                               212   \n",
       "2       2804     139      9                               268   \n",
       "3       2785     155     18                               242   \n",
       "4       2595      45      2                               153   \n",
       "\n",
       "   Vertical_Distance_To_Hydrology  Horizontal_Distance_To_Roadways  \\\n",
       "0                               0                              510   \n",
       "1                              -6                              390   \n",
       "2                              65                             3180   \n",
       "3                             118                             3090   \n",
       "4                              -1                              391   \n",
       "\n",
       "   Hillshade_9am  Hillshade_Noon  Hillshade_3pm  \\\n",
       "0            221             232            148   \n",
       "1            220             235            151   \n",
       "2            234             238            135   \n",
       "3            238             238            122   \n",
       "4            220             234            150   \n",
       "\n",
       "   Horizontal_Distance_To_Fire_Points  ...  Soil_Type32  Soil_Type33  \\\n",
       "0                                6279  ...            0            0   \n",
       "1                                6225  ...            0            0   \n",
       "2                                6121  ...            0            0   \n",
       "3                                6211  ...            0            0   \n",
       "4                                6172  ...            0            0   \n",
       "\n",
       "   Soil_Type34  Soil_Type35  Soil_Type36  Soil_Type37  Soil_Type38  \\\n",
       "0            0            0            0            0            0   \n",
       "1            0            0            0            0            0   \n",
       "2            0            0            0            0            0   \n",
       "3            0            0            0            0            0   \n",
       "4            0            0            0            0            0   \n",
       "\n",
       "   Soil_Type39  Soil_Type40  Cover_Type  \n",
       "0            0            0           5  \n",
       "1            0            0           5  \n",
       "2            0            0           2  \n",
       "3            0            0           2  \n",
       "4            0            0           5  \n",
       "\n",
       "[5 rows x 55 columns]"
      ]
     },
     "execution_count": 14,
     "metadata": {},
     "output_type": "execute_result"
    }
   ],
   "source": [
    "df.head()"
   ]
  },
  {
   "cell_type": "markdown",
   "id": "ccdfa6e6-406b-4312-809e-b17678dd7313",
   "metadata": {},
   "source": [
    "For this approach to work, we turn index column into a unique identifier column for each row."
   ]
  },
  {
   "cell_type": "code",
   "execution_count": 5,
   "id": "6cd7f15e-c659-496d-8f64-ae79c66b428e",
   "metadata": {},
   "outputs": [],
   "source": [
    "df.reset_index(inplace=True)"
   ]
  },
  {
   "cell_type": "code",
   "execution_count": 18,
   "id": "db4e2dee-6c7b-408f-b674-3395b5ee8df6",
   "metadata": {},
   "outputs": [
    {
     "data": {
      "text/html": [
       "<div>\n",
       "<style scoped>\n",
       "    .dataframe tbody tr th:only-of-type {\n",
       "        vertical-align: middle;\n",
       "    }\n",
       "\n",
       "    .dataframe tbody tr th {\n",
       "        vertical-align: top;\n",
       "    }\n",
       "\n",
       "    .dataframe thead th {\n",
       "        text-align: right;\n",
       "    }\n",
       "</style>\n",
       "<table border=\"1\" class=\"dataframe\">\n",
       "  <thead>\n",
       "    <tr style=\"text-align: right;\">\n",
       "      <th></th>\n",
       "      <th>index</th>\n",
       "      <th>Elevation</th>\n",
       "      <th>Aspect</th>\n",
       "      <th>Slope</th>\n",
       "      <th>Horizontal_Distance_To_Hydrology</th>\n",
       "      <th>Vertical_Distance_To_Hydrology</th>\n",
       "      <th>Horizontal_Distance_To_Roadways</th>\n",
       "      <th>Hillshade_9am</th>\n",
       "      <th>Hillshade_Noon</th>\n",
       "      <th>Hillshade_3pm</th>\n",
       "      <th>...</th>\n",
       "      <th>Soil_Type32</th>\n",
       "      <th>Soil_Type33</th>\n",
       "      <th>Soil_Type34</th>\n",
       "      <th>Soil_Type35</th>\n",
       "      <th>Soil_Type36</th>\n",
       "      <th>Soil_Type37</th>\n",
       "      <th>Soil_Type38</th>\n",
       "      <th>Soil_Type39</th>\n",
       "      <th>Soil_Type40</th>\n",
       "      <th>Cover_Type</th>\n",
       "    </tr>\n",
       "  </thead>\n",
       "  <tbody>\n",
       "    <tr>\n",
       "      <th>581007</th>\n",
       "      <td>581007</td>\n",
       "      <td>2396</td>\n",
       "      <td>153</td>\n",
       "      <td>20</td>\n",
       "      <td>85</td>\n",
       "      <td>17</td>\n",
       "      <td>108</td>\n",
       "      <td>240</td>\n",
       "      <td>237</td>\n",
       "      <td>118</td>\n",
       "      <td>...</td>\n",
       "      <td>0</td>\n",
       "      <td>0</td>\n",
       "      <td>0</td>\n",
       "      <td>0</td>\n",
       "      <td>0</td>\n",
       "      <td>0</td>\n",
       "      <td>0</td>\n",
       "      <td>0</td>\n",
       "      <td>0</td>\n",
       "      <td>3</td>\n",
       "    </tr>\n",
       "    <tr>\n",
       "      <th>581008</th>\n",
       "      <td>581008</td>\n",
       "      <td>2391</td>\n",
       "      <td>152</td>\n",
       "      <td>19</td>\n",
       "      <td>67</td>\n",
       "      <td>12</td>\n",
       "      <td>95</td>\n",
       "      <td>240</td>\n",
       "      <td>237</td>\n",
       "      <td>119</td>\n",
       "      <td>...</td>\n",
       "      <td>0</td>\n",
       "      <td>0</td>\n",
       "      <td>0</td>\n",
       "      <td>0</td>\n",
       "      <td>0</td>\n",
       "      <td>0</td>\n",
       "      <td>0</td>\n",
       "      <td>0</td>\n",
       "      <td>0</td>\n",
       "      <td>3</td>\n",
       "    </tr>\n",
       "    <tr>\n",
       "      <th>581009</th>\n",
       "      <td>581009</td>\n",
       "      <td>2386</td>\n",
       "      <td>159</td>\n",
       "      <td>17</td>\n",
       "      <td>60</td>\n",
       "      <td>7</td>\n",
       "      <td>90</td>\n",
       "      <td>236</td>\n",
       "      <td>241</td>\n",
       "      <td>130</td>\n",
       "      <td>...</td>\n",
       "      <td>0</td>\n",
       "      <td>0</td>\n",
       "      <td>0</td>\n",
       "      <td>0</td>\n",
       "      <td>0</td>\n",
       "      <td>0</td>\n",
       "      <td>0</td>\n",
       "      <td>0</td>\n",
       "      <td>0</td>\n",
       "      <td>3</td>\n",
       "    </tr>\n",
       "    <tr>\n",
       "      <th>581010</th>\n",
       "      <td>581010</td>\n",
       "      <td>2384</td>\n",
       "      <td>170</td>\n",
       "      <td>15</td>\n",
       "      <td>60</td>\n",
       "      <td>5</td>\n",
       "      <td>90</td>\n",
       "      <td>230</td>\n",
       "      <td>245</td>\n",
       "      <td>143</td>\n",
       "      <td>...</td>\n",
       "      <td>0</td>\n",
       "      <td>0</td>\n",
       "      <td>0</td>\n",
       "      <td>0</td>\n",
       "      <td>0</td>\n",
       "      <td>0</td>\n",
       "      <td>0</td>\n",
       "      <td>0</td>\n",
       "      <td>0</td>\n",
       "      <td>3</td>\n",
       "    </tr>\n",
       "    <tr>\n",
       "      <th>581011</th>\n",
       "      <td>581011</td>\n",
       "      <td>2383</td>\n",
       "      <td>165</td>\n",
       "      <td>13</td>\n",
       "      <td>60</td>\n",
       "      <td>4</td>\n",
       "      <td>67</td>\n",
       "      <td>231</td>\n",
       "      <td>244</td>\n",
       "      <td>141</td>\n",
       "      <td>...</td>\n",
       "      <td>0</td>\n",
       "      <td>0</td>\n",
       "      <td>0</td>\n",
       "      <td>0</td>\n",
       "      <td>0</td>\n",
       "      <td>0</td>\n",
       "      <td>0</td>\n",
       "      <td>0</td>\n",
       "      <td>0</td>\n",
       "      <td>3</td>\n",
       "    </tr>\n",
       "  </tbody>\n",
       "</table>\n",
       "<p>5 rows × 56 columns</p>\n",
       "</div>"
      ],
      "text/plain": [
       "         index  Elevation  Aspect  Slope  Horizontal_Distance_To_Hydrology  \\\n",
       "581007  581007       2396     153     20                                85   \n",
       "581008  581008       2391     152     19                                67   \n",
       "581009  581009       2386     159     17                                60   \n",
       "581010  581010       2384     170     15                                60   \n",
       "581011  581011       2383     165     13                                60   \n",
       "\n",
       "        Vertical_Distance_To_Hydrology  Horizontal_Distance_To_Roadways  \\\n",
       "581007                              17                              108   \n",
       "581008                              12                               95   \n",
       "581009                               7                               90   \n",
       "581010                               5                               90   \n",
       "581011                               4                               67   \n",
       "\n",
       "        Hillshade_9am  Hillshade_Noon  Hillshade_3pm  ...  Soil_Type32  \\\n",
       "581007            240             237            118  ...            0   \n",
       "581008            240             237            119  ...            0   \n",
       "581009            236             241            130  ...            0   \n",
       "581010            230             245            143  ...            0   \n",
       "581011            231             244            141  ...            0   \n",
       "\n",
       "        Soil_Type33  Soil_Type34  Soil_Type35  Soil_Type36  Soil_Type37  \\\n",
       "581007            0            0            0            0            0   \n",
       "581008            0            0            0            0            0   \n",
       "581009            0            0            0            0            0   \n",
       "581010            0            0            0            0            0   \n",
       "581011            0            0            0            0            0   \n",
       "\n",
       "        Soil_Type38  Soil_Type39  Soil_Type40  Cover_Type  \n",
       "581007            0            0            0           3  \n",
       "581008            0            0            0           3  \n",
       "581009            0            0            0           3  \n",
       "581010            0            0            0           3  \n",
       "581011            0            0            0           3  \n",
       "\n",
       "[5 rows x 56 columns]"
      ]
     },
     "execution_count": 18,
     "metadata": {},
     "output_type": "execute_result"
    }
   ],
   "source": [
    "df.tail()"
   ]
  },
  {
   "cell_type": "code",
   "execution_count": 6,
   "id": "a50f5bfe-c422-4f12-85ef-cd312327fa3e",
   "metadata": {},
   "outputs": [],
   "source": [
    "X = df.iloc[:,:-1]"
   ]
  },
  {
   "cell_type": "code",
   "execution_count": 32,
   "id": "6151bcc3-063a-4060-8a96-a874f63b430b",
   "metadata": {},
   "outputs": [
    {
     "data": {
      "text/html": [
       "<div>\n",
       "<style scoped>\n",
       "    .dataframe tbody tr th:only-of-type {\n",
       "        vertical-align: middle;\n",
       "    }\n",
       "\n",
       "    .dataframe tbody tr th {\n",
       "        vertical-align: top;\n",
       "    }\n",
       "\n",
       "    .dataframe thead th {\n",
       "        text-align: right;\n",
       "    }\n",
       "</style>\n",
       "<table border=\"1\" class=\"dataframe\">\n",
       "  <thead>\n",
       "    <tr style=\"text-align: right;\">\n",
       "      <th></th>\n",
       "      <th>index</th>\n",
       "      <th>Elevation</th>\n",
       "      <th>Aspect</th>\n",
       "      <th>Slope</th>\n",
       "      <th>Horizontal_Distance_To_Hydrology</th>\n",
       "      <th>Vertical_Distance_To_Hydrology</th>\n",
       "      <th>Horizontal_Distance_To_Roadways</th>\n",
       "      <th>Hillshade_9am</th>\n",
       "      <th>Hillshade_Noon</th>\n",
       "      <th>Hillshade_3pm</th>\n",
       "      <th>...</th>\n",
       "      <th>Soil_Type31</th>\n",
       "      <th>Soil_Type32</th>\n",
       "      <th>Soil_Type33</th>\n",
       "      <th>Soil_Type34</th>\n",
       "      <th>Soil_Type35</th>\n",
       "      <th>Soil_Type36</th>\n",
       "      <th>Soil_Type37</th>\n",
       "      <th>Soil_Type38</th>\n",
       "      <th>Soil_Type39</th>\n",
       "      <th>Soil_Type40</th>\n",
       "    </tr>\n",
       "  </thead>\n",
       "  <tbody>\n",
       "    <tr>\n",
       "      <th>0</th>\n",
       "      <td>0</td>\n",
       "      <td>2596</td>\n",
       "      <td>51</td>\n",
       "      <td>3</td>\n",
       "      <td>258</td>\n",
       "      <td>0</td>\n",
       "      <td>510</td>\n",
       "      <td>221</td>\n",
       "      <td>232</td>\n",
       "      <td>148</td>\n",
       "      <td>...</td>\n",
       "      <td>0</td>\n",
       "      <td>0</td>\n",
       "      <td>0</td>\n",
       "      <td>0</td>\n",
       "      <td>0</td>\n",
       "      <td>0</td>\n",
       "      <td>0</td>\n",
       "      <td>0</td>\n",
       "      <td>0</td>\n",
       "      <td>0</td>\n",
       "    </tr>\n",
       "    <tr>\n",
       "      <th>1</th>\n",
       "      <td>1</td>\n",
       "      <td>2590</td>\n",
       "      <td>56</td>\n",
       "      <td>2</td>\n",
       "      <td>212</td>\n",
       "      <td>-6</td>\n",
       "      <td>390</td>\n",
       "      <td>220</td>\n",
       "      <td>235</td>\n",
       "      <td>151</td>\n",
       "      <td>...</td>\n",
       "      <td>0</td>\n",
       "      <td>0</td>\n",
       "      <td>0</td>\n",
       "      <td>0</td>\n",
       "      <td>0</td>\n",
       "      <td>0</td>\n",
       "      <td>0</td>\n",
       "      <td>0</td>\n",
       "      <td>0</td>\n",
       "      <td>0</td>\n",
       "    </tr>\n",
       "    <tr>\n",
       "      <th>2</th>\n",
       "      <td>2</td>\n",
       "      <td>2804</td>\n",
       "      <td>139</td>\n",
       "      <td>9</td>\n",
       "      <td>268</td>\n",
       "      <td>65</td>\n",
       "      <td>3180</td>\n",
       "      <td>234</td>\n",
       "      <td>238</td>\n",
       "      <td>135</td>\n",
       "      <td>...</td>\n",
       "      <td>0</td>\n",
       "      <td>0</td>\n",
       "      <td>0</td>\n",
       "      <td>0</td>\n",
       "      <td>0</td>\n",
       "      <td>0</td>\n",
       "      <td>0</td>\n",
       "      <td>0</td>\n",
       "      <td>0</td>\n",
       "      <td>0</td>\n",
       "    </tr>\n",
       "    <tr>\n",
       "      <th>3</th>\n",
       "      <td>3</td>\n",
       "      <td>2785</td>\n",
       "      <td>155</td>\n",
       "      <td>18</td>\n",
       "      <td>242</td>\n",
       "      <td>118</td>\n",
       "      <td>3090</td>\n",
       "      <td>238</td>\n",
       "      <td>238</td>\n",
       "      <td>122</td>\n",
       "      <td>...</td>\n",
       "      <td>0</td>\n",
       "      <td>0</td>\n",
       "      <td>0</td>\n",
       "      <td>0</td>\n",
       "      <td>0</td>\n",
       "      <td>0</td>\n",
       "      <td>0</td>\n",
       "      <td>0</td>\n",
       "      <td>0</td>\n",
       "      <td>0</td>\n",
       "    </tr>\n",
       "    <tr>\n",
       "      <th>4</th>\n",
       "      <td>4</td>\n",
       "      <td>2595</td>\n",
       "      <td>45</td>\n",
       "      <td>2</td>\n",
       "      <td>153</td>\n",
       "      <td>-1</td>\n",
       "      <td>391</td>\n",
       "      <td>220</td>\n",
       "      <td>234</td>\n",
       "      <td>150</td>\n",
       "      <td>...</td>\n",
       "      <td>0</td>\n",
       "      <td>0</td>\n",
       "      <td>0</td>\n",
       "      <td>0</td>\n",
       "      <td>0</td>\n",
       "      <td>0</td>\n",
       "      <td>0</td>\n",
       "      <td>0</td>\n",
       "      <td>0</td>\n",
       "      <td>0</td>\n",
       "    </tr>\n",
       "  </tbody>\n",
       "</table>\n",
       "<p>5 rows × 55 columns</p>\n",
       "</div>"
      ],
      "text/plain": [
       "   index  Elevation  Aspect  Slope  Horizontal_Distance_To_Hydrology  \\\n",
       "0      0       2596      51      3                               258   \n",
       "1      1       2590      56      2                               212   \n",
       "2      2       2804     139      9                               268   \n",
       "3      3       2785     155     18                               242   \n",
       "4      4       2595      45      2                               153   \n",
       "\n",
       "   Vertical_Distance_To_Hydrology  Horizontal_Distance_To_Roadways  \\\n",
       "0                               0                              510   \n",
       "1                              -6                              390   \n",
       "2                              65                             3180   \n",
       "3                             118                             3090   \n",
       "4                              -1                              391   \n",
       "\n",
       "   Hillshade_9am  Hillshade_Noon  Hillshade_3pm  ...  Soil_Type31  \\\n",
       "0            221             232            148  ...            0   \n",
       "1            220             235            151  ...            0   \n",
       "2            234             238            135  ...            0   \n",
       "3            238             238            122  ...            0   \n",
       "4            220             234            150  ...            0   \n",
       "\n",
       "   Soil_Type32  Soil_Type33  Soil_Type34  Soil_Type35  Soil_Type36  \\\n",
       "0            0            0            0            0            0   \n",
       "1            0            0            0            0            0   \n",
       "2            0            0            0            0            0   \n",
       "3            0            0            0            0            0   \n",
       "4            0            0            0            0            0   \n",
       "\n",
       "   Soil_Type37  Soil_Type38  Soil_Type39  Soil_Type40  \n",
       "0            0            0            0            0  \n",
       "1            0            0            0            0  \n",
       "2            0            0            0            0  \n",
       "3            0            0            0            0  \n",
       "4            0            0            0            0  \n",
       "\n",
       "[5 rows x 55 columns]"
      ]
     },
     "execution_count": 32,
     "metadata": {},
     "output_type": "execute_result"
    }
   ],
   "source": [
    "X.head()"
   ]
  },
  {
   "cell_type": "code",
   "execution_count": 7,
   "id": "017e22d6-93e0-4789-abc9-4ef53cb4c18a",
   "metadata": {},
   "outputs": [],
   "source": [
    "y = df.iloc[:, -1:]"
   ]
  },
  {
   "cell_type": "code",
   "execution_count": 34,
   "id": "6b385e73-5a48-4929-9fa3-847b365c91aa",
   "metadata": {},
   "outputs": [
    {
     "data": {
      "text/html": [
       "<div>\n",
       "<style scoped>\n",
       "    .dataframe tbody tr th:only-of-type {\n",
       "        vertical-align: middle;\n",
       "    }\n",
       "\n",
       "    .dataframe tbody tr th {\n",
       "        vertical-align: top;\n",
       "    }\n",
       "\n",
       "    .dataframe thead th {\n",
       "        text-align: right;\n",
       "    }\n",
       "</style>\n",
       "<table border=\"1\" class=\"dataframe\">\n",
       "  <thead>\n",
       "    <tr style=\"text-align: right;\">\n",
       "      <th></th>\n",
       "      <th>Cover_Type</th>\n",
       "    </tr>\n",
       "  </thead>\n",
       "  <tbody>\n",
       "    <tr>\n",
       "      <th>0</th>\n",
       "      <td>5</td>\n",
       "    </tr>\n",
       "    <tr>\n",
       "      <th>1</th>\n",
       "      <td>5</td>\n",
       "    </tr>\n",
       "    <tr>\n",
       "      <th>2</th>\n",
       "      <td>2</td>\n",
       "    </tr>\n",
       "    <tr>\n",
       "      <th>3</th>\n",
       "      <td>2</td>\n",
       "    </tr>\n",
       "    <tr>\n",
       "      <th>4</th>\n",
       "      <td>5</td>\n",
       "    </tr>\n",
       "  </tbody>\n",
       "</table>\n",
       "</div>"
      ],
      "text/plain": [
       "   Cover_Type\n",
       "0           5\n",
       "1           5\n",
       "2           2\n",
       "3           2\n",
       "4           5"
      ]
     },
     "execution_count": 34,
     "metadata": {},
     "output_type": "execute_result"
    }
   ],
   "source": [
    "y.head()"
   ]
  },
  {
   "cell_type": "code",
   "execution_count": 35,
   "id": "bf3d68c1-20fe-4e22-b2d3-16c3fffeb6d5",
   "metadata": {},
   "outputs": [
    {
     "data": {
      "text/plain": [
       "Cover_Type\n",
       "2             0.487599\n",
       "1             0.364605\n",
       "3             0.061537\n",
       "7             0.035300\n",
       "6             0.029891\n",
       "5             0.016339\n",
       "4             0.004728\n",
       "dtype: float64"
      ]
     },
     "execution_count": 35,
     "metadata": {},
     "output_type": "execute_result"
    }
   ],
   "source": [
    "y.value_counts(normalize=True)"
   ]
  },
  {
   "cell_type": "markdown",
   "id": "dc2a852a-ab8e-44d7-aa81-b768c05fc5f8",
   "metadata": {},
   "source": [
    "The dataset is quite large so downsampling might be an option."
   ]
  },
  {
   "cell_type": "code",
   "execution_count": 8,
   "id": "576dbe38-072f-4d18-888e-44b01248c6a9",
   "metadata": {},
   "outputs": [],
   "source": [
    "under_sampler = RandomUnderSampler(random_state=123)"
   ]
  },
  {
   "cell_type": "code",
   "execution_count": 9,
   "id": "10ec23af-1dcb-46b6-b47c-84b644cfe782",
   "metadata": {},
   "outputs": [],
   "source": [
    "X_train, y_train = under_sampler.fit_resample(X, y)"
   ]
  },
  {
   "cell_type": "code",
   "execution_count": 38,
   "id": "a69fa854-f228-4d19-ac4f-49025861c43c",
   "metadata": {},
   "outputs": [
    {
     "data": {
      "text/plain": [
       "(19229, 55)"
      ]
     },
     "execution_count": 38,
     "metadata": {},
     "output_type": "execute_result"
    }
   ],
   "source": [
    "X_train.shape"
   ]
  },
  {
   "cell_type": "code",
   "execution_count": 39,
   "id": "614cb146-dc56-4651-9e8f-6c596af5f85f",
   "metadata": {},
   "outputs": [
    {
     "data": {
      "text/plain": [
       "(19229, 1)"
      ]
     },
     "execution_count": 39,
     "metadata": {},
     "output_type": "execute_result"
    }
   ],
   "source": [
    "y_train.shape"
   ]
  },
  {
   "cell_type": "code",
   "execution_count": 40,
   "id": "72801f9d-f2b4-4a78-8afa-eeb8f1c605ea",
   "metadata": {},
   "outputs": [
    {
     "data": {
      "text/plain": [
       "Cover_Type\n",
       "1             0.142857\n",
       "2             0.142857\n",
       "3             0.142857\n",
       "4             0.142857\n",
       "5             0.142857\n",
       "6             0.142857\n",
       "7             0.142857\n",
       "dtype: float64"
      ]
     },
     "execution_count": 40,
     "metadata": {},
     "output_type": "execute_result"
    }
   ],
   "source": [
    "y_train.value_counts(normalize=True)"
   ]
  },
  {
   "cell_type": "code",
   "execution_count": 41,
   "id": "99087fc5-9c7b-49d9-adce-5968facc2ff5",
   "metadata": {},
   "outputs": [
    {
     "data": {
      "text/html": [
       "<div>\n",
       "<style scoped>\n",
       "    .dataframe tbody tr th:only-of-type {\n",
       "        vertical-align: middle;\n",
       "    }\n",
       "\n",
       "    .dataframe tbody tr th {\n",
       "        vertical-align: top;\n",
       "    }\n",
       "\n",
       "    .dataframe thead th {\n",
       "        text-align: right;\n",
       "    }\n",
       "</style>\n",
       "<table border=\"1\" class=\"dataframe\">\n",
       "  <thead>\n",
       "    <tr style=\"text-align: right;\">\n",
       "      <th></th>\n",
       "      <th>index</th>\n",
       "      <th>Elevation</th>\n",
       "      <th>Aspect</th>\n",
       "      <th>Slope</th>\n",
       "      <th>Horizontal_Distance_To_Hydrology</th>\n",
       "      <th>Vertical_Distance_To_Hydrology</th>\n",
       "      <th>Horizontal_Distance_To_Roadways</th>\n",
       "      <th>Hillshade_9am</th>\n",
       "      <th>Hillshade_Noon</th>\n",
       "      <th>Hillshade_3pm</th>\n",
       "      <th>...</th>\n",
       "      <th>Soil_Type31</th>\n",
       "      <th>Soil_Type32</th>\n",
       "      <th>Soil_Type33</th>\n",
       "      <th>Soil_Type34</th>\n",
       "      <th>Soil_Type35</th>\n",
       "      <th>Soil_Type36</th>\n",
       "      <th>Soil_Type37</th>\n",
       "      <th>Soil_Type38</th>\n",
       "      <th>Soil_Type39</th>\n",
       "      <th>Soil_Type40</th>\n",
       "    </tr>\n",
       "  </thead>\n",
       "  <tbody>\n",
       "    <tr>\n",
       "      <th>0</th>\n",
       "      <td>449586</td>\n",
       "      <td>3109</td>\n",
       "      <td>160</td>\n",
       "      <td>11</td>\n",
       "      <td>258</td>\n",
       "      <td>40</td>\n",
       "      <td>1384</td>\n",
       "      <td>231</td>\n",
       "      <td>242</td>\n",
       "      <td>141</td>\n",
       "      <td>...</td>\n",
       "      <td>0</td>\n",
       "      <td>0</td>\n",
       "      <td>1</td>\n",
       "      <td>0</td>\n",
       "      <td>0</td>\n",
       "      <td>0</td>\n",
       "      <td>0</td>\n",
       "      <td>0</td>\n",
       "      <td>0</td>\n",
       "      <td>0</td>\n",
       "    </tr>\n",
       "    <tr>\n",
       "      <th>1</th>\n",
       "      <td>287825</td>\n",
       "      <td>3157</td>\n",
       "      <td>275</td>\n",
       "      <td>27</td>\n",
       "      <td>85</td>\n",
       "      <td>11</td>\n",
       "      <td>1084</td>\n",
       "      <td>139</td>\n",
       "      <td>235</td>\n",
       "      <td>229</td>\n",
       "      <td>...</td>\n",
       "      <td>0</td>\n",
       "      <td>0</td>\n",
       "      <td>0</td>\n",
       "      <td>0</td>\n",
       "      <td>0</td>\n",
       "      <td>0</td>\n",
       "      <td>0</td>\n",
       "      <td>0</td>\n",
       "      <td>0</td>\n",
       "      <td>0</td>\n",
       "    </tr>\n",
       "    <tr>\n",
       "      <th>2</th>\n",
       "      <td>347980</td>\n",
       "      <td>3086</td>\n",
       "      <td>93</td>\n",
       "      <td>16</td>\n",
       "      <td>30</td>\n",
       "      <td>-2</td>\n",
       "      <td>2584</td>\n",
       "      <td>243</td>\n",
       "      <td>214</td>\n",
       "      <td>96</td>\n",
       "      <td>...</td>\n",
       "      <td>1</td>\n",
       "      <td>0</td>\n",
       "      <td>0</td>\n",
       "      <td>0</td>\n",
       "      <td>0</td>\n",
       "      <td>0</td>\n",
       "      <td>0</td>\n",
       "      <td>0</td>\n",
       "      <td>0</td>\n",
       "      <td>0</td>\n",
       "    </tr>\n",
       "    <tr>\n",
       "      <th>3</th>\n",
       "      <td>174387</td>\n",
       "      <td>3181</td>\n",
       "      <td>261</td>\n",
       "      <td>25</td>\n",
       "      <td>212</td>\n",
       "      <td>42</td>\n",
       "      <td>4656</td>\n",
       "      <td>149</td>\n",
       "      <td>243</td>\n",
       "      <td>227</td>\n",
       "      <td>...</td>\n",
       "      <td>0</td>\n",
       "      <td>0</td>\n",
       "      <td>0</td>\n",
       "      <td>0</td>\n",
       "      <td>0</td>\n",
       "      <td>0</td>\n",
       "      <td>0</td>\n",
       "      <td>0</td>\n",
       "      <td>0</td>\n",
       "      <td>0</td>\n",
       "    </tr>\n",
       "    <tr>\n",
       "      <th>4</th>\n",
       "      <td>84741</td>\n",
       "      <td>3054</td>\n",
       "      <td>103</td>\n",
       "      <td>4</td>\n",
       "      <td>690</td>\n",
       "      <td>50</td>\n",
       "      <td>5810</td>\n",
       "      <td>227</td>\n",
       "      <td>234</td>\n",
       "      <td>141</td>\n",
       "      <td>...</td>\n",
       "      <td>0</td>\n",
       "      <td>0</td>\n",
       "      <td>0</td>\n",
       "      <td>0</td>\n",
       "      <td>0</td>\n",
       "      <td>0</td>\n",
       "      <td>0</td>\n",
       "      <td>0</td>\n",
       "      <td>0</td>\n",
       "      <td>0</td>\n",
       "    </tr>\n",
       "  </tbody>\n",
       "</table>\n",
       "<p>5 rows × 55 columns</p>\n",
       "</div>"
      ],
      "text/plain": [
       "    index  Elevation  Aspect  Slope  Horizontal_Distance_To_Hydrology  \\\n",
       "0  449586       3109     160     11                               258   \n",
       "1  287825       3157     275     27                                85   \n",
       "2  347980       3086      93     16                                30   \n",
       "3  174387       3181     261     25                               212   \n",
       "4   84741       3054     103      4                               690   \n",
       "\n",
       "   Vertical_Distance_To_Hydrology  Horizontal_Distance_To_Roadways  \\\n",
       "0                              40                             1384   \n",
       "1                              11                             1084   \n",
       "2                              -2                             2584   \n",
       "3                              42                             4656   \n",
       "4                              50                             5810   \n",
       "\n",
       "   Hillshade_9am  Hillshade_Noon  Hillshade_3pm  ...  Soil_Type31  \\\n",
       "0            231             242            141  ...            0   \n",
       "1            139             235            229  ...            0   \n",
       "2            243             214             96  ...            1   \n",
       "3            149             243            227  ...            0   \n",
       "4            227             234            141  ...            0   \n",
       "\n",
       "   Soil_Type32  Soil_Type33  Soil_Type34  Soil_Type35  Soil_Type36  \\\n",
       "0            0            1            0            0            0   \n",
       "1            0            0            0            0            0   \n",
       "2            0            0            0            0            0   \n",
       "3            0            0            0            0            0   \n",
       "4            0            0            0            0            0   \n",
       "\n",
       "   Soil_Type37  Soil_Type38  Soil_Type39  Soil_Type40  \n",
       "0            0            0            0            0  \n",
       "1            0            0            0            0  \n",
       "2            0            0            0            0  \n",
       "3            0            0            0            0  \n",
       "4            0            0            0            0  \n",
       "\n",
       "[5 rows x 55 columns]"
      ]
     },
     "execution_count": 41,
     "metadata": {},
     "output_type": "execute_result"
    }
   ],
   "source": [
    "X_train.head()"
   ]
  },
  {
   "cell_type": "code",
   "execution_count": 10,
   "id": "24ee25b9-fd8e-476c-ad9d-fdd69814aad5",
   "metadata": {},
   "outputs": [],
   "source": [
    "X_test = df[~df.isin(X_train)].dropna()"
   ]
  },
  {
   "cell_type": "code",
   "execution_count": 11,
   "id": "f8ac43ee-89d5-453b-ab3f-533be800db07",
   "metadata": {},
   "outputs": [
    {
     "data": {
      "text/html": [
       "<div>\n",
       "<style scoped>\n",
       "    .dataframe tbody tr th:only-of-type {\n",
       "        vertical-align: middle;\n",
       "    }\n",
       "\n",
       "    .dataframe tbody tr th {\n",
       "        vertical-align: top;\n",
       "    }\n",
       "\n",
       "    .dataframe thead th {\n",
       "        text-align: right;\n",
       "    }\n",
       "</style>\n",
       "<table border=\"1\" class=\"dataframe\">\n",
       "  <thead>\n",
       "    <tr style=\"text-align: right;\">\n",
       "      <th></th>\n",
       "      <th>index</th>\n",
       "      <th>Elevation</th>\n",
       "      <th>Aspect</th>\n",
       "      <th>Slope</th>\n",
       "      <th>Horizontal_Distance_To_Hydrology</th>\n",
       "      <th>Vertical_Distance_To_Hydrology</th>\n",
       "      <th>Horizontal_Distance_To_Roadways</th>\n",
       "      <th>Hillshade_9am</th>\n",
       "      <th>Hillshade_Noon</th>\n",
       "      <th>Hillshade_3pm</th>\n",
       "      <th>...</th>\n",
       "      <th>Soil_Type32</th>\n",
       "      <th>Soil_Type33</th>\n",
       "      <th>Soil_Type34</th>\n",
       "      <th>Soil_Type35</th>\n",
       "      <th>Soil_Type36</th>\n",
       "      <th>Soil_Type37</th>\n",
       "      <th>Soil_Type38</th>\n",
       "      <th>Soil_Type39</th>\n",
       "      <th>Soil_Type40</th>\n",
       "      <th>Cover_Type</th>\n",
       "    </tr>\n",
       "  </thead>\n",
       "  <tbody>\n",
       "    <tr>\n",
       "      <th>19229</th>\n",
       "      <td>19229</td>\n",
       "      <td>2676.0</td>\n",
       "      <td>359.0</td>\n",
       "      <td>20.0</td>\n",
       "      <td>30.0</td>\n",
       "      <td>13.0</td>\n",
       "      <td>1736.0</td>\n",
       "      <td>187.0</td>\n",
       "      <td>200.0</td>\n",
       "      <td>147.0</td>\n",
       "      <td>...</td>\n",
       "      <td>0.0</td>\n",
       "      <td>0.0</td>\n",
       "      <td>0.0</td>\n",
       "      <td>0.0</td>\n",
       "      <td>0.0</td>\n",
       "      <td>0.0</td>\n",
       "      <td>0.0</td>\n",
       "      <td>0.0</td>\n",
       "      <td>0.0</td>\n",
       "      <td>2</td>\n",
       "    </tr>\n",
       "    <tr>\n",
       "      <th>19230</th>\n",
       "      <td>19230</td>\n",
       "      <td>2673.0</td>\n",
       "      <td>6.0</td>\n",
       "      <td>20.0</td>\n",
       "      <td>42.0</td>\n",
       "      <td>10.0</td>\n",
       "      <td>1708.0</td>\n",
       "      <td>191.0</td>\n",
       "      <td>197.0</td>\n",
       "      <td>139.0</td>\n",
       "      <td>...</td>\n",
       "      <td>0.0</td>\n",
       "      <td>0.0</td>\n",
       "      <td>0.0</td>\n",
       "      <td>0.0</td>\n",
       "      <td>0.0</td>\n",
       "      <td>0.0</td>\n",
       "      <td>0.0</td>\n",
       "      <td>0.0</td>\n",
       "      <td>0.0</td>\n",
       "      <td>2</td>\n",
       "    </tr>\n",
       "    <tr>\n",
       "      <th>19231</th>\n",
       "      <td>19231</td>\n",
       "      <td>2673.0</td>\n",
       "      <td>10.0</td>\n",
       "      <td>18.0</td>\n",
       "      <td>60.0</td>\n",
       "      <td>15.0</td>\n",
       "      <td>1679.0</td>\n",
       "      <td>198.0</td>\n",
       "      <td>201.0</td>\n",
       "      <td>137.0</td>\n",
       "      <td>...</td>\n",
       "      <td>0.0</td>\n",
       "      <td>0.0</td>\n",
       "      <td>0.0</td>\n",
       "      <td>0.0</td>\n",
       "      <td>0.0</td>\n",
       "      <td>0.0</td>\n",
       "      <td>0.0</td>\n",
       "      <td>0.0</td>\n",
       "      <td>0.0</td>\n",
       "      <td>2</td>\n",
       "    </tr>\n",
       "    <tr>\n",
       "      <th>19232</th>\n",
       "      <td>19232</td>\n",
       "      <td>2669.0</td>\n",
       "      <td>6.0</td>\n",
       "      <td>15.0</td>\n",
       "      <td>67.0</td>\n",
       "      <td>16.0</td>\n",
       "      <td>1651.0</td>\n",
       "      <td>200.0</td>\n",
       "      <td>209.0</td>\n",
       "      <td>144.0</td>\n",
       "      <td>...</td>\n",
       "      <td>0.0</td>\n",
       "      <td>0.0</td>\n",
       "      <td>0.0</td>\n",
       "      <td>0.0</td>\n",
       "      <td>0.0</td>\n",
       "      <td>0.0</td>\n",
       "      <td>0.0</td>\n",
       "      <td>0.0</td>\n",
       "      <td>0.0</td>\n",
       "      <td>2</td>\n",
       "    </tr>\n",
       "    <tr>\n",
       "      <th>19233</th>\n",
       "      <td>19233</td>\n",
       "      <td>2671.0</td>\n",
       "      <td>4.0</td>\n",
       "      <td>15.0</td>\n",
       "      <td>85.0</td>\n",
       "      <td>16.0</td>\n",
       "      <td>1622.0</td>\n",
       "      <td>200.0</td>\n",
       "      <td>211.0</td>\n",
       "      <td>147.0</td>\n",
       "      <td>...</td>\n",
       "      <td>0.0</td>\n",
       "      <td>0.0</td>\n",
       "      <td>0.0</td>\n",
       "      <td>0.0</td>\n",
       "      <td>0.0</td>\n",
       "      <td>0.0</td>\n",
       "      <td>0.0</td>\n",
       "      <td>0.0</td>\n",
       "      <td>0.0</td>\n",
       "      <td>2</td>\n",
       "    </tr>\n",
       "  </tbody>\n",
       "</table>\n",
       "<p>5 rows × 56 columns</p>\n",
       "</div>"
      ],
      "text/plain": [
       "       index  Elevation  Aspect  Slope  Horizontal_Distance_To_Hydrology  \\\n",
       "19229  19229     2676.0   359.0   20.0                              30.0   \n",
       "19230  19230     2673.0     6.0   20.0                              42.0   \n",
       "19231  19231     2673.0    10.0   18.0                              60.0   \n",
       "19232  19232     2669.0     6.0   15.0                              67.0   \n",
       "19233  19233     2671.0     4.0   15.0                              85.0   \n",
       "\n",
       "       Vertical_Distance_To_Hydrology  Horizontal_Distance_To_Roadways  \\\n",
       "19229                            13.0                           1736.0   \n",
       "19230                            10.0                           1708.0   \n",
       "19231                            15.0                           1679.0   \n",
       "19232                            16.0                           1651.0   \n",
       "19233                            16.0                           1622.0   \n",
       "\n",
       "       Hillshade_9am  Hillshade_Noon  Hillshade_3pm  ...  Soil_Type32  \\\n",
       "19229          187.0           200.0          147.0  ...          0.0   \n",
       "19230          191.0           197.0          139.0  ...          0.0   \n",
       "19231          198.0           201.0          137.0  ...          0.0   \n",
       "19232          200.0           209.0          144.0  ...          0.0   \n",
       "19233          200.0           211.0          147.0  ...          0.0   \n",
       "\n",
       "       Soil_Type33  Soil_Type34  Soil_Type35  Soil_Type36  Soil_Type37  \\\n",
       "19229          0.0          0.0          0.0          0.0          0.0   \n",
       "19230          0.0          0.0          0.0          0.0          0.0   \n",
       "19231          0.0          0.0          0.0          0.0          0.0   \n",
       "19232          0.0          0.0          0.0          0.0          0.0   \n",
       "19233          0.0          0.0          0.0          0.0          0.0   \n",
       "\n",
       "       Soil_Type38  Soil_Type39  Soil_Type40  Cover_Type  \n",
       "19229          0.0          0.0          0.0           2  \n",
       "19230          0.0          0.0          0.0           2  \n",
       "19231          0.0          0.0          0.0           2  \n",
       "19232          0.0          0.0          0.0           2  \n",
       "19233          0.0          0.0          0.0           2  \n",
       "\n",
       "[5 rows x 56 columns]"
      ]
     },
     "execution_count": 11,
     "metadata": {},
     "output_type": "execute_result"
    }
   ],
   "source": [
    "X_test.head()"
   ]
  },
  {
   "cell_type": "code",
   "execution_count": 12,
   "id": "8edb7970-0052-4ca7-a14c-3ecfefb274d3",
   "metadata": {},
   "outputs": [],
   "source": [
    "y_test = X_test.iloc[:,-1:]"
   ]
  },
  {
   "cell_type": "code",
   "execution_count": 14,
   "id": "b3ba8477-9416-49d0-92e2-c35832ccb27b",
   "metadata": {},
   "outputs": [
    {
     "data": {
      "text/plain": [
       "(561783, 1)"
      ]
     },
     "execution_count": 14,
     "metadata": {},
     "output_type": "execute_result"
    }
   ],
   "source": [
    "y_test.shape"
   ]
  },
  {
   "cell_type": "code",
   "execution_count": 15,
   "id": "cb443dc2-0edc-4b7a-816a-49ea7c3ae714",
   "metadata": {},
   "outputs": [],
   "source": [
    "X_test = X_test.iloc[:,:-1]"
   ]
  },
  {
   "cell_type": "code",
   "execution_count": 16,
   "id": "800bbe1c-e9a8-4903-8e8d-cc83e393b77c",
   "metadata": {},
   "outputs": [
    {
     "data": {
      "text/plain": [
       "(561783, 55)"
      ]
     },
     "execution_count": 16,
     "metadata": {},
     "output_type": "execute_result"
    }
   ],
   "source": [
    "X_test.shape"
   ]
  },
  {
   "cell_type": "markdown",
   "id": "50cc5a22-26b4-4d72-9f48-79a25db90edf",
   "metadata": {},
   "source": [
    "With the train and test sets created, the index column serves no further purpose and is therefore dropped."
   ]
  },
  {
   "cell_type": "code",
   "execution_count": 17,
   "id": "0bcf43b2-43ba-4f52-97c1-48889e321352",
   "metadata": {},
   "outputs": [],
   "source": [
    "X_train = X_train.iloc[:,1:]"
   ]
  },
  {
   "cell_type": "code",
   "execution_count": 18,
   "id": "48e90009-d275-44a0-bdb3-56c35542195d",
   "metadata": {},
   "outputs": [
    {
     "data": {
      "text/html": [
       "<div>\n",
       "<style scoped>\n",
       "    .dataframe tbody tr th:only-of-type {\n",
       "        vertical-align: middle;\n",
       "    }\n",
       "\n",
       "    .dataframe tbody tr th {\n",
       "        vertical-align: top;\n",
       "    }\n",
       "\n",
       "    .dataframe thead th {\n",
       "        text-align: right;\n",
       "    }\n",
       "</style>\n",
       "<table border=\"1\" class=\"dataframe\">\n",
       "  <thead>\n",
       "    <tr style=\"text-align: right;\">\n",
       "      <th></th>\n",
       "      <th>Elevation</th>\n",
       "      <th>Aspect</th>\n",
       "      <th>Slope</th>\n",
       "      <th>Horizontal_Distance_To_Hydrology</th>\n",
       "      <th>Vertical_Distance_To_Hydrology</th>\n",
       "      <th>Horizontal_Distance_To_Roadways</th>\n",
       "      <th>Hillshade_9am</th>\n",
       "      <th>Hillshade_Noon</th>\n",
       "      <th>Hillshade_3pm</th>\n",
       "      <th>Horizontal_Distance_To_Fire_Points</th>\n",
       "      <th>...</th>\n",
       "      <th>Soil_Type31</th>\n",
       "      <th>Soil_Type32</th>\n",
       "      <th>Soil_Type33</th>\n",
       "      <th>Soil_Type34</th>\n",
       "      <th>Soil_Type35</th>\n",
       "      <th>Soil_Type36</th>\n",
       "      <th>Soil_Type37</th>\n",
       "      <th>Soil_Type38</th>\n",
       "      <th>Soil_Type39</th>\n",
       "      <th>Soil_Type40</th>\n",
       "    </tr>\n",
       "  </thead>\n",
       "  <tbody>\n",
       "    <tr>\n",
       "      <th>0</th>\n",
       "      <td>3109</td>\n",
       "      <td>160</td>\n",
       "      <td>11</td>\n",
       "      <td>258</td>\n",
       "      <td>40</td>\n",
       "      <td>1384</td>\n",
       "      <td>231</td>\n",
       "      <td>242</td>\n",
       "      <td>141</td>\n",
       "      <td>3420</td>\n",
       "      <td>...</td>\n",
       "      <td>0</td>\n",
       "      <td>0</td>\n",
       "      <td>1</td>\n",
       "      <td>0</td>\n",
       "      <td>0</td>\n",
       "      <td>0</td>\n",
       "      <td>0</td>\n",
       "      <td>0</td>\n",
       "      <td>0</td>\n",
       "      <td>0</td>\n",
       "    </tr>\n",
       "    <tr>\n",
       "      <th>1</th>\n",
       "      <td>3157</td>\n",
       "      <td>275</td>\n",
       "      <td>27</td>\n",
       "      <td>85</td>\n",
       "      <td>11</td>\n",
       "      <td>1084</td>\n",
       "      <td>139</td>\n",
       "      <td>235</td>\n",
       "      <td>229</td>\n",
       "      <td>2522</td>\n",
       "      <td>...</td>\n",
       "      <td>0</td>\n",
       "      <td>0</td>\n",
       "      <td>0</td>\n",
       "      <td>0</td>\n",
       "      <td>0</td>\n",
       "      <td>0</td>\n",
       "      <td>0</td>\n",
       "      <td>0</td>\n",
       "      <td>0</td>\n",
       "      <td>0</td>\n",
       "    </tr>\n",
       "    <tr>\n",
       "      <th>2</th>\n",
       "      <td>3086</td>\n",
       "      <td>93</td>\n",
       "      <td>16</td>\n",
       "      <td>30</td>\n",
       "      <td>-2</td>\n",
       "      <td>2584</td>\n",
       "      <td>243</td>\n",
       "      <td>214</td>\n",
       "      <td>96</td>\n",
       "      <td>1889</td>\n",
       "      <td>...</td>\n",
       "      <td>1</td>\n",
       "      <td>0</td>\n",
       "      <td>0</td>\n",
       "      <td>0</td>\n",
       "      <td>0</td>\n",
       "      <td>0</td>\n",
       "      <td>0</td>\n",
       "      <td>0</td>\n",
       "      <td>0</td>\n",
       "      <td>0</td>\n",
       "    </tr>\n",
       "    <tr>\n",
       "      <th>3</th>\n",
       "      <td>3181</td>\n",
       "      <td>261</td>\n",
       "      <td>25</td>\n",
       "      <td>212</td>\n",
       "      <td>42</td>\n",
       "      <td>4656</td>\n",
       "      <td>149</td>\n",
       "      <td>243</td>\n",
       "      <td>227</td>\n",
       "      <td>3382</td>\n",
       "      <td>...</td>\n",
       "      <td>0</td>\n",
       "      <td>0</td>\n",
       "      <td>0</td>\n",
       "      <td>0</td>\n",
       "      <td>0</td>\n",
       "      <td>0</td>\n",
       "      <td>0</td>\n",
       "      <td>0</td>\n",
       "      <td>0</td>\n",
       "      <td>0</td>\n",
       "    </tr>\n",
       "    <tr>\n",
       "      <th>4</th>\n",
       "      <td>3054</td>\n",
       "      <td>103</td>\n",
       "      <td>4</td>\n",
       "      <td>690</td>\n",
       "      <td>50</td>\n",
       "      <td>5810</td>\n",
       "      <td>227</td>\n",
       "      <td>234</td>\n",
       "      <td>141</td>\n",
       "      <td>3891</td>\n",
       "      <td>...</td>\n",
       "      <td>0</td>\n",
       "      <td>0</td>\n",
       "      <td>0</td>\n",
       "      <td>0</td>\n",
       "      <td>0</td>\n",
       "      <td>0</td>\n",
       "      <td>0</td>\n",
       "      <td>0</td>\n",
       "      <td>0</td>\n",
       "      <td>0</td>\n",
       "    </tr>\n",
       "  </tbody>\n",
       "</table>\n",
       "<p>5 rows × 54 columns</p>\n",
       "</div>"
      ],
      "text/plain": [
       "   Elevation  Aspect  Slope  Horizontal_Distance_To_Hydrology  \\\n",
       "0       3109     160     11                               258   \n",
       "1       3157     275     27                                85   \n",
       "2       3086      93     16                                30   \n",
       "3       3181     261     25                               212   \n",
       "4       3054     103      4                               690   \n",
       "\n",
       "   Vertical_Distance_To_Hydrology  Horizontal_Distance_To_Roadways  \\\n",
       "0                              40                             1384   \n",
       "1                              11                             1084   \n",
       "2                              -2                             2584   \n",
       "3                              42                             4656   \n",
       "4                              50                             5810   \n",
       "\n",
       "   Hillshade_9am  Hillshade_Noon  Hillshade_3pm  \\\n",
       "0            231             242            141   \n",
       "1            139             235            229   \n",
       "2            243             214             96   \n",
       "3            149             243            227   \n",
       "4            227             234            141   \n",
       "\n",
       "   Horizontal_Distance_To_Fire_Points  ...  Soil_Type31  Soil_Type32  \\\n",
       "0                                3420  ...            0            0   \n",
       "1                                2522  ...            0            0   \n",
       "2                                1889  ...            1            0   \n",
       "3                                3382  ...            0            0   \n",
       "4                                3891  ...            0            0   \n",
       "\n",
       "   Soil_Type33  Soil_Type34  Soil_Type35  Soil_Type36  Soil_Type37  \\\n",
       "0            1            0            0            0            0   \n",
       "1            0            0            0            0            0   \n",
       "2            0            0            0            0            0   \n",
       "3            0            0            0            0            0   \n",
       "4            0            0            0            0            0   \n",
       "\n",
       "   Soil_Type38  Soil_Type39  Soil_Type40  \n",
       "0            0            0            0  \n",
       "1            0            0            0  \n",
       "2            0            0            0  \n",
       "3            0            0            0  \n",
       "4            0            0            0  \n",
       "\n",
       "[5 rows x 54 columns]"
      ]
     },
     "execution_count": 18,
     "metadata": {},
     "output_type": "execute_result"
    }
   ],
   "source": [
    "X_train.head()"
   ]
  },
  {
   "cell_type": "code",
   "execution_count": 19,
   "id": "ff143070-ca6c-4bd1-b151-cf683aa03fa9",
   "metadata": {},
   "outputs": [],
   "source": [
    "X_test = X_test.iloc[:,1:]"
   ]
  },
  {
   "cell_type": "code",
   "execution_count": 20,
   "id": "335c7caa-e390-4f44-a8c8-369d78e24475",
   "metadata": {},
   "outputs": [
    {
     "data": {
      "text/html": [
       "<div>\n",
       "<style scoped>\n",
       "    .dataframe tbody tr th:only-of-type {\n",
       "        vertical-align: middle;\n",
       "    }\n",
       "\n",
       "    .dataframe tbody tr th {\n",
       "        vertical-align: top;\n",
       "    }\n",
       "\n",
       "    .dataframe thead th {\n",
       "        text-align: right;\n",
       "    }\n",
       "</style>\n",
       "<table border=\"1\" class=\"dataframe\">\n",
       "  <thead>\n",
       "    <tr style=\"text-align: right;\">\n",
       "      <th></th>\n",
       "      <th>Elevation</th>\n",
       "      <th>Aspect</th>\n",
       "      <th>Slope</th>\n",
       "      <th>Horizontal_Distance_To_Hydrology</th>\n",
       "      <th>Vertical_Distance_To_Hydrology</th>\n",
       "      <th>Horizontal_Distance_To_Roadways</th>\n",
       "      <th>Hillshade_9am</th>\n",
       "      <th>Hillshade_Noon</th>\n",
       "      <th>Hillshade_3pm</th>\n",
       "      <th>Horizontal_Distance_To_Fire_Points</th>\n",
       "      <th>...</th>\n",
       "      <th>Soil_Type31</th>\n",
       "      <th>Soil_Type32</th>\n",
       "      <th>Soil_Type33</th>\n",
       "      <th>Soil_Type34</th>\n",
       "      <th>Soil_Type35</th>\n",
       "      <th>Soil_Type36</th>\n",
       "      <th>Soil_Type37</th>\n",
       "      <th>Soil_Type38</th>\n",
       "      <th>Soil_Type39</th>\n",
       "      <th>Soil_Type40</th>\n",
       "    </tr>\n",
       "  </thead>\n",
       "  <tbody>\n",
       "    <tr>\n",
       "      <th>19229</th>\n",
       "      <td>2676.0</td>\n",
       "      <td>359.0</td>\n",
       "      <td>20.0</td>\n",
       "      <td>30.0</td>\n",
       "      <td>13.0</td>\n",
       "      <td>1736.0</td>\n",
       "      <td>187.0</td>\n",
       "      <td>200.0</td>\n",
       "      <td>147.0</td>\n",
       "      <td>6423.0</td>\n",
       "      <td>...</td>\n",
       "      <td>0.0</td>\n",
       "      <td>0.0</td>\n",
       "      <td>0.0</td>\n",
       "      <td>0.0</td>\n",
       "      <td>0.0</td>\n",
       "      <td>0.0</td>\n",
       "      <td>0.0</td>\n",
       "      <td>0.0</td>\n",
       "      <td>0.0</td>\n",
       "      <td>0.0</td>\n",
       "    </tr>\n",
       "    <tr>\n",
       "      <th>19230</th>\n",
       "      <td>2673.0</td>\n",
       "      <td>6.0</td>\n",
       "      <td>20.0</td>\n",
       "      <td>42.0</td>\n",
       "      <td>10.0</td>\n",
       "      <td>1708.0</td>\n",
       "      <td>191.0</td>\n",
       "      <td>197.0</td>\n",
       "      <td>139.0</td>\n",
       "      <td>6405.0</td>\n",
       "      <td>...</td>\n",
       "      <td>0.0</td>\n",
       "      <td>0.0</td>\n",
       "      <td>0.0</td>\n",
       "      <td>0.0</td>\n",
       "      <td>0.0</td>\n",
       "      <td>0.0</td>\n",
       "      <td>0.0</td>\n",
       "      <td>0.0</td>\n",
       "      <td>0.0</td>\n",
       "      <td>0.0</td>\n",
       "    </tr>\n",
       "    <tr>\n",
       "      <th>19231</th>\n",
       "      <td>2673.0</td>\n",
       "      <td>10.0</td>\n",
       "      <td>18.0</td>\n",
       "      <td>60.0</td>\n",
       "      <td>15.0</td>\n",
       "      <td>1679.0</td>\n",
       "      <td>198.0</td>\n",
       "      <td>201.0</td>\n",
       "      <td>137.0</td>\n",
       "      <td>6386.0</td>\n",
       "      <td>...</td>\n",
       "      <td>0.0</td>\n",
       "      <td>0.0</td>\n",
       "      <td>0.0</td>\n",
       "      <td>0.0</td>\n",
       "      <td>0.0</td>\n",
       "      <td>0.0</td>\n",
       "      <td>0.0</td>\n",
       "      <td>0.0</td>\n",
       "      <td>0.0</td>\n",
       "      <td>0.0</td>\n",
       "    </tr>\n",
       "    <tr>\n",
       "      <th>19232</th>\n",
       "      <td>2669.0</td>\n",
       "      <td>6.0</td>\n",
       "      <td>15.0</td>\n",
       "      <td>67.0</td>\n",
       "      <td>16.0</td>\n",
       "      <td>1651.0</td>\n",
       "      <td>200.0</td>\n",
       "      <td>209.0</td>\n",
       "      <td>144.0</td>\n",
       "      <td>6367.0</td>\n",
       "      <td>...</td>\n",
       "      <td>0.0</td>\n",
       "      <td>0.0</td>\n",
       "      <td>0.0</td>\n",
       "      <td>0.0</td>\n",
       "      <td>0.0</td>\n",
       "      <td>0.0</td>\n",
       "      <td>0.0</td>\n",
       "      <td>0.0</td>\n",
       "      <td>0.0</td>\n",
       "      <td>0.0</td>\n",
       "    </tr>\n",
       "    <tr>\n",
       "      <th>19233</th>\n",
       "      <td>2671.0</td>\n",
       "      <td>4.0</td>\n",
       "      <td>15.0</td>\n",
       "      <td>85.0</td>\n",
       "      <td>16.0</td>\n",
       "      <td>1622.0</td>\n",
       "      <td>200.0</td>\n",
       "      <td>211.0</td>\n",
       "      <td>147.0</td>\n",
       "      <td>6349.0</td>\n",
       "      <td>...</td>\n",
       "      <td>0.0</td>\n",
       "      <td>0.0</td>\n",
       "      <td>0.0</td>\n",
       "      <td>0.0</td>\n",
       "      <td>0.0</td>\n",
       "      <td>0.0</td>\n",
       "      <td>0.0</td>\n",
       "      <td>0.0</td>\n",
       "      <td>0.0</td>\n",
       "      <td>0.0</td>\n",
       "    </tr>\n",
       "  </tbody>\n",
       "</table>\n",
       "<p>5 rows × 54 columns</p>\n",
       "</div>"
      ],
      "text/plain": [
       "       Elevation  Aspect  Slope  Horizontal_Distance_To_Hydrology  \\\n",
       "19229     2676.0   359.0   20.0                              30.0   \n",
       "19230     2673.0     6.0   20.0                              42.0   \n",
       "19231     2673.0    10.0   18.0                              60.0   \n",
       "19232     2669.0     6.0   15.0                              67.0   \n",
       "19233     2671.0     4.0   15.0                              85.0   \n",
       "\n",
       "       Vertical_Distance_To_Hydrology  Horizontal_Distance_To_Roadways  \\\n",
       "19229                            13.0                           1736.0   \n",
       "19230                            10.0                           1708.0   \n",
       "19231                            15.0                           1679.0   \n",
       "19232                            16.0                           1651.0   \n",
       "19233                            16.0                           1622.0   \n",
       "\n",
       "       Hillshade_9am  Hillshade_Noon  Hillshade_3pm  \\\n",
       "19229          187.0           200.0          147.0   \n",
       "19230          191.0           197.0          139.0   \n",
       "19231          198.0           201.0          137.0   \n",
       "19232          200.0           209.0          144.0   \n",
       "19233          200.0           211.0          147.0   \n",
       "\n",
       "       Horizontal_Distance_To_Fire_Points  ...  Soil_Type31  Soil_Type32  \\\n",
       "19229                              6423.0  ...          0.0          0.0   \n",
       "19230                              6405.0  ...          0.0          0.0   \n",
       "19231                              6386.0  ...          0.0          0.0   \n",
       "19232                              6367.0  ...          0.0          0.0   \n",
       "19233                              6349.0  ...          0.0          0.0   \n",
       "\n",
       "       Soil_Type33  Soil_Type34  Soil_Type35  Soil_Type36  Soil_Type37  \\\n",
       "19229          0.0          0.0          0.0          0.0          0.0   \n",
       "19230          0.0          0.0          0.0          0.0          0.0   \n",
       "19231          0.0          0.0          0.0          0.0          0.0   \n",
       "19232          0.0          0.0          0.0          0.0          0.0   \n",
       "19233          0.0          0.0          0.0          0.0          0.0   \n",
       "\n",
       "       Soil_Type38  Soil_Type39  Soil_Type40  \n",
       "19229          0.0          0.0          0.0  \n",
       "19230          0.0          0.0          0.0  \n",
       "19231          0.0          0.0          0.0  \n",
       "19232          0.0          0.0          0.0  \n",
       "19233          0.0          0.0          0.0  \n",
       "\n",
       "[5 rows x 54 columns]"
      ]
     },
     "execution_count": 20,
     "metadata": {},
     "output_type": "execute_result"
    }
   ],
   "source": [
    "X_test.head()"
   ]
  },
  {
   "cell_type": "code",
   "execution_count": 58,
   "id": "397b77cf-cc21-4e96-b274-ef23064877aa",
   "metadata": {},
   "outputs": [
    {
     "data": {
      "text/plain": [
       "581012"
      ]
     },
     "execution_count": 58,
     "metadata": {},
     "output_type": "execute_result"
    }
   ],
   "source": [
    "X_train.shape[0] + X_test.shape[0]"
   ]
  },
  {
   "cell_type": "code",
   "execution_count": 59,
   "id": "57793715-920f-4ad4-8da2-0d03d5b94a39",
   "metadata": {},
   "outputs": [
    {
     "data": {
      "text/plain": [
       "581012"
      ]
     },
     "execution_count": 59,
     "metadata": {},
     "output_type": "execute_result"
    }
   ],
   "source": [
    "df.shape[0]"
   ]
  },
  {
   "cell_type": "code",
   "execution_count": 118,
   "id": "8798819b-596a-47b4-b25d-d4a2440586ce",
   "metadata": {},
   "outputs": [
    {
     "data": {
      "text/plain": [
       "3.309570198205889"
      ]
     },
     "execution_count": 118,
     "metadata": {},
     "output_type": "execute_result"
    }
   ],
   "source": [
    "(X_train.shape[0] / df.shape[0])*100"
   ]
  },
  {
   "cell_type": "code",
   "execution_count": 21,
   "id": "8529dc72-c235-46a0-8e96-d13597bf654c",
   "metadata": {},
   "outputs": [],
   "source": [
    "scaler = StandardScaler()"
   ]
  },
  {
   "cell_type": "code",
   "execution_count": 22,
   "id": "a29d5528-147c-4587-8c7b-a1158f7f683a",
   "metadata": {},
   "outputs": [],
   "source": [
    "X_train_s = scaler.fit_transform(X_train)"
   ]
  },
  {
   "cell_type": "code",
   "execution_count": 23,
   "id": "75e6f7ce-928e-4eb3-bd7c-8dae73a47eae",
   "metadata": {},
   "outputs": [],
   "source": [
    "X_test_s = scaler.transform(X_test)"
   ]
  },
  {
   "cell_type": "code",
   "execution_count": 50,
   "id": "29c2facb-803d-4f26-8191-1737c418a29e",
   "metadata": {},
   "outputs": [],
   "source": [
    "lr = LogisticRegressionCV(Cs=1, max_iter=1000, penalty='l2', solver='saga')"
   ]
  },
  {
   "cell_type": "code",
   "execution_count": 51,
   "id": "93ee37eb-bdf6-4b7f-90cf-a3fc82727217",
   "metadata": {},
   "outputs": [
    {
     "data": {
      "text/plain": [
       "LogisticRegressionCV(Cs=1, max_iter=1000, solver='saga')"
      ]
     },
     "execution_count": 51,
     "metadata": {},
     "output_type": "execute_result"
    }
   ],
   "source": [
    "lr.fit(X_train_s, y_train.values.ravel())"
   ]
  },
  {
   "cell_type": "code",
   "execution_count": 52,
   "id": "b2b0c3b4-8945-4967-9d59-ccdf4292e3f2",
   "metadata": {},
   "outputs": [],
   "source": [
    "lr_train_pred = lr.predict(X_train_s)"
   ]
  },
  {
   "cell_type": "code",
   "execution_count": 53,
   "id": "33f1e777-70f0-4327-b389-09d1cc3fde8d",
   "metadata": {},
   "outputs": [
    {
     "name": "stdout",
     "output_type": "stream",
     "text": [
      "              precision    recall  f1-score   support\n",
      "\n",
      "           1       0.57      0.51      0.54      2747\n",
      "           2       0.49      0.53      0.51      2747\n",
      "           3       0.55      0.42      0.47      2747\n",
      "           4       0.70      0.83      0.76      2747\n",
      "           5       0.61      0.61      0.61      2747\n",
      "           6       0.54      0.61      0.58      2747\n",
      "           7       0.86      0.83      0.84      2747\n",
      "\n",
      "    accuracy                           0.62     19229\n",
      "   macro avg       0.62      0.62      0.61     19229\n",
      "weighted avg       0.62      0.62      0.61     19229\n",
      "\n"
     ]
    }
   ],
   "source": [
    "print(classification_report(y_train, lr_train_pred))"
   ]
  },
  {
   "cell_type": "code",
   "execution_count": 54,
   "id": "f619eac7-3856-43db-9c30-8980dc8abe47",
   "metadata": {},
   "outputs": [],
   "source": [
    "lr_test_pred = lr.predict(X_test_s)"
   ]
  },
  {
   "cell_type": "code",
   "execution_count": 55,
   "id": "e5a71222-f54a-4f71-9314-c930815df3bb",
   "metadata": {},
   "outputs": [
    {
     "name": "stdout",
     "output_type": "stream",
     "text": [
      "              precision    recall  f1-score   support\n",
      "\n",
      "           1       0.64      0.51      0.56    209054\n",
      "           2       0.69      0.51      0.59    277890\n",
      "           3       0.63      0.42      0.50     33594\n",
      "           4       0.04      0.81      0.08       587\n",
      "           5       0.05      0.60      0.10      7101\n",
      "           6       0.25      0.60      0.36     15207\n",
      "           7       0.36      0.81      0.50     18350\n",
      "\n",
      "    accuracy                           0.52    561783\n",
      "   macro avg       0.38      0.61      0.38    561783\n",
      "weighted avg       0.64      0.52      0.56    561783\n",
      "\n"
     ]
    }
   ],
   "source": [
    "print(classification_report(y_test, lr_test_pred))"
   ]
  },
  {
   "cell_type": "code",
   "execution_count": 56,
   "id": "e38e2d73-472c-403e-9db6-3e036e120f8e",
   "metadata": {},
   "outputs": [],
   "source": [
    "dt = DecisionTreeClassifier(random_state=4)"
   ]
  },
  {
   "cell_type": "code",
   "execution_count": 57,
   "id": "c0e03d47-d1de-4e57-aa53-637cb5a83591",
   "metadata": {},
   "outputs": [
    {
     "data": {
      "text/plain": [
       "DecisionTreeClassifier(random_state=4)"
      ]
     },
     "execution_count": 57,
     "metadata": {},
     "output_type": "execute_result"
    }
   ],
   "source": [
    "dt.fit(X_train_s, y_train)"
   ]
  },
  {
   "cell_type": "code",
   "execution_count": 58,
   "id": "d0a41705-a633-4c10-b096-98cb7bc74a86",
   "metadata": {},
   "outputs": [],
   "source": [
    "dt_train_pred = dt.predict(X_train_s)"
   ]
  },
  {
   "cell_type": "code",
   "execution_count": 59,
   "id": "c84305b9-5802-4144-b34a-69e98fc037d6",
   "metadata": {},
   "outputs": [
    {
     "name": "stdout",
     "output_type": "stream",
     "text": [
      "              precision    recall  f1-score   support\n",
      "\n",
      "           1       1.00      1.00      1.00      2747\n",
      "           2       1.00      1.00      1.00      2747\n",
      "           3       1.00      1.00      1.00      2747\n",
      "           4       1.00      1.00      1.00      2747\n",
      "           5       1.00      1.00      1.00      2747\n",
      "           6       1.00      1.00      1.00      2747\n",
      "           7       1.00      1.00      1.00      2747\n",
      "\n",
      "    accuracy                           1.00     19229\n",
      "   macro avg       1.00      1.00      1.00     19229\n",
      "weighted avg       1.00      1.00      1.00     19229\n",
      "\n"
     ]
    }
   ],
   "source": [
    "print(classification_report(y_train, dt_train_pred))"
   ]
  },
  {
   "cell_type": "code",
   "execution_count": 60,
   "id": "c66ce2a1-d319-45cc-8fef-b284fb9f2922",
   "metadata": {},
   "outputs": [],
   "source": [
    "dt_test_pred = dt.predict(X_test_s)"
   ]
  },
  {
   "cell_type": "code",
   "execution_count": 61,
   "id": "f8759e6a-eb53-435a-a6ac-6d4cf41fc5c1",
   "metadata": {},
   "outputs": [
    {
     "name": "stdout",
     "output_type": "stream",
     "text": [
      "              precision    recall  f1-score   support\n",
      "\n",
      "           1       0.70      0.70      0.70    209054\n",
      "           2       0.79      0.65      0.71    277890\n",
      "           3       0.77      0.80      0.78     33594\n",
      "           4       0.26      1.00      0.41       587\n",
      "           5       0.21      0.93      0.35      7101\n",
      "           6       0.50      0.84      0.62     15207\n",
      "           7       0.52      0.95      0.67     18350\n",
      "\n",
      "    accuracy                           0.69    561783\n",
      "   macro avg       0.53      0.84      0.61    561783\n",
      "weighted avg       0.73      0.69      0.70    561783\n",
      "\n"
     ]
    }
   ],
   "source": [
    "print(classification_report(y_test, dt_test_pred))"
   ]
  },
  {
   "cell_type": "code",
   "execution_count": 62,
   "id": "fcfb2c59-e89d-4ab2-8b65-104c4a6fcca2",
   "metadata": {},
   "outputs": [],
   "source": [
    "knn = KNeighborsClassifier(n_neighbors=5)"
   ]
  },
  {
   "cell_type": "code",
   "execution_count": 63,
   "id": "72d3bee8-999b-44a4-bce8-c86473bc44ec",
   "metadata": {},
   "outputs": [
    {
     "data": {
      "text/plain": [
       "KNeighborsClassifier()"
      ]
     },
     "execution_count": 63,
     "metadata": {},
     "output_type": "execute_result"
    }
   ],
   "source": [
    "knn.fit(X_train_s, y_train.values.ravel())"
   ]
  },
  {
   "cell_type": "code",
   "execution_count": 64,
   "id": "f8c66448-4c3f-4ac1-bdd1-a4c15b8fadd6",
   "metadata": {},
   "outputs": [],
   "source": [
    "knn_train_pred = knn.predict(X_train_s)"
   ]
  },
  {
   "cell_type": "code",
   "execution_count": 65,
   "id": "83544964-670b-4c37-b8cd-d193b3b8c9ed",
   "metadata": {},
   "outputs": [
    {
     "name": "stdout",
     "output_type": "stream",
     "text": [
      "              precision    recall  f1-score   support\n",
      "\n",
      "           1       0.82      0.81      0.82      2747\n",
      "           2       0.83      0.71      0.77      2747\n",
      "           3       0.87      0.82      0.84      2747\n",
      "           4       0.91      0.98      0.94      2747\n",
      "           5       0.88      0.97      0.92      2747\n",
      "           6       0.86      0.88      0.87      2747\n",
      "           7       0.94      0.97      0.96      2747\n",
      "\n",
      "    accuracy                           0.88     19229\n",
      "   macro avg       0.87      0.88      0.87     19229\n",
      "weighted avg       0.87      0.88      0.87     19229\n",
      "\n"
     ]
    }
   ],
   "source": [
    "print(classification_report(y_train, knn_train_pred))"
   ]
  },
  {
   "cell_type": "code",
   "execution_count": 66,
   "id": "af0f2711-8099-4b98-8450-86750eeb3f65",
   "metadata": {},
   "outputs": [],
   "source": [
    "knn_test_pred = knn.predict(X_test_s)"
   ]
  },
  {
   "cell_type": "code",
   "execution_count": 67,
   "id": "eb4500fb-b4be-4d2e-894f-1799906c9635",
   "metadata": {},
   "outputs": [
    {
     "name": "stdout",
     "output_type": "stream",
     "text": [
      "              precision    recall  f1-score   support\n",
      "\n",
      "           1       0.71      0.71      0.71    209054\n",
      "           2       0.82      0.59      0.69    277890\n",
      "           3       0.72      0.72      0.72     33594\n",
      "           4       0.13      0.99      0.22       587\n",
      "           5       0.13      0.95      0.23      7101\n",
      "           6       0.42      0.81      0.55     15207\n",
      "           7       0.50      0.95      0.65     18350\n",
      "\n",
      "    accuracy                           0.66    561783\n",
      "   macro avg       0.49      0.82      0.54    561783\n",
      "weighted avg       0.74      0.66      0.69    561783\n",
      "\n"
     ]
    }
   ],
   "source": [
    "print(classification_report(y_test, knn_test_pred))"
   ]
  },
  {
   "cell_type": "code",
   "execution_count": 68,
   "id": "f30f2225-7b6e-4815-8355-9843448a8b23",
   "metadata": {},
   "outputs": [],
   "source": [
    "svm = SVC(kernel='rbf')"
   ]
  },
  {
   "cell_type": "code",
   "execution_count": 69,
   "id": "21c6f5d2-cd58-4d96-821c-17ebea98c666",
   "metadata": {},
   "outputs": [
    {
     "data": {
      "text/plain": [
       "SVC()"
      ]
     },
     "execution_count": 69,
     "metadata": {},
     "output_type": "execute_result"
    }
   ],
   "source": [
    "svm.fit(X_train_s, y_train.values.ravel())"
   ]
  },
  {
   "cell_type": "code",
   "execution_count": 70,
   "id": "2cdf2002-3af8-4bb1-b62f-9a978ffd64b9",
   "metadata": {},
   "outputs": [],
   "source": [
    "svm_train_pred = svm.predict(X_train_s)"
   ]
  },
  {
   "cell_type": "code",
   "execution_count": 71,
   "id": "e1bdf677-5c78-47f4-bf23-5fca7a92e1a1",
   "metadata": {},
   "outputs": [
    {
     "name": "stdout",
     "output_type": "stream",
     "text": [
      "              precision    recall  f1-score   support\n",
      "\n",
      "           1       0.70      0.73      0.71      2747\n",
      "           2       0.67      0.58      0.62      2747\n",
      "           3       0.71      0.62      0.66      2747\n",
      "           4       0.81      0.95      0.88      2747\n",
      "           5       0.79      0.84      0.81      2747\n",
      "           6       0.69      0.69      0.69      2747\n",
      "           7       0.91      0.89      0.90      2747\n",
      "\n",
      "    accuracy                           0.76     19229\n",
      "   macro avg       0.75      0.76      0.75     19229\n",
      "weighted avg       0.75      0.76      0.75     19229\n",
      "\n"
     ]
    }
   ],
   "source": [
    "print(classification_report(y_train, svm_train_pred))"
   ]
  },
  {
   "cell_type": "code",
   "execution_count": 72,
   "id": "db24a81c-8b79-439d-a72b-fb1ca1089d4e",
   "metadata": {},
   "outputs": [],
   "source": [
    "svm_test_pred = svm.predict(X_test_s)"
   ]
  },
  {
   "cell_type": "code",
   "execution_count": 73,
   "id": "27f2737e-53aa-4d1f-b32f-be7e084def0e",
   "metadata": {},
   "outputs": [
    {
     "name": "stdout",
     "output_type": "stream",
     "text": [
      "              precision    recall  f1-score   support\n",
      "\n",
      "           1       0.70      0.71      0.71    209054\n",
      "           2       0.82      0.56      0.66    277890\n",
      "           3       0.67      0.61      0.64     33594\n",
      "           4       0.08      0.94      0.15       587\n",
      "           5       0.10      0.84      0.18      7101\n",
      "           6       0.35      0.67      0.46     15207\n",
      "           7       0.48      0.88      0.62     18350\n",
      "\n",
      "    accuracy                           0.64    561783\n",
      "   macro avg       0.46      0.75      0.49    561783\n",
      "weighted avg       0.73      0.64      0.67    561783\n",
      "\n"
     ]
    }
   ],
   "source": [
    "print(classification_report(y_test, svm_test_pred))"
   ]
  },
  {
   "cell_type": "code",
   "execution_count": 74,
   "id": "608f84c3-66e9-4fee-89ac-0e938e4b4f13",
   "metadata": {},
   "outputs": [],
   "source": [
    "test_scores_micro = {}\n",
    "test_scores_micro['Logistic Regression'] = f1_score(y_test, lr_test_pred, average='micro')\n",
    "test_scores_micro['Decision Tree'] = f1_score(y_test, dt_test_pred, average='micro')\n",
    "test_scores_micro['K-Neighbors'] = f1_score(y_test, knn_test_pred, average='micro')\n",
    "test_scores_micro['Support Vector Machine'] = f1_score(y_test, svm_test_pred, average='micro')"
   ]
  },
  {
   "cell_type": "code",
   "execution_count": 75,
   "id": "d96503d8-34eb-4241-a6e8-9e9e77b78cc9",
   "metadata": {},
   "outputs": [
    {
     "data": {
      "text/plain": [
       "{'Logistic Regression': 0.5182463691496538,\n",
       " 'Decision Tree': 0.6934207692294,\n",
       " 'K-Neighbors': 0.6639289547743523,\n",
       " 'Support Vector Machine': 0.6379545126855031}"
      ]
     },
     "execution_count": 75,
     "metadata": {},
     "output_type": "execute_result"
    }
   ],
   "source": [
    "test_scores_micro"
   ]
  },
  {
   "cell_type": "code",
   "execution_count": 76,
   "id": "e6f66633-dd5b-4750-98f7-e3a4744c1285",
   "metadata": {},
   "outputs": [],
   "source": [
    "test_scores_macro = {}\n",
    "test_scores_macro['Logistic Regression'] = f1_score(y_test, lr_test_pred, average='macro')\n",
    "test_scores_macro['Decision Tree'] = f1_score(y_test, dt_test_pred, average='macro')\n",
    "test_scores_macro['K-Neighbors'] = f1_score(y_test, knn_test_pred, average='macro')\n",
    "test_scores_macro['Support Vector Machine'] = f1_score(y_test, svm_test_pred, average='macro')"
   ]
  },
  {
   "cell_type": "code",
   "execution_count": 77,
   "id": "08b13701-bdfb-499c-96b4-4307b4cc2c98",
   "metadata": {},
   "outputs": [
    {
     "data": {
      "text/plain": [
       "{'Logistic Regression': 0.38405704357316417,\n",
       " 'Decision Tree': 0.6052971149488412,\n",
       " 'K-Neighbors': 0.5392049526780915,\n",
       " 'Support Vector Machine': 0.48936474936616303}"
      ]
     },
     "execution_count": 77,
     "metadata": {},
     "output_type": "execute_result"
    }
   ],
   "source": [
    "test_scores_macro"
   ]
  },
  {
   "cell_type": "code",
   "execution_count": 78,
   "id": "69aa1ae7-1081-4709-8bde-83f7d0915ade",
   "metadata": {},
   "outputs": [],
   "source": [
    "test_scores_weight = {}\n",
    "test_scores_weight['Logistic Regression'] = f1_score(y_test, lr_test_pred, average='weighted')\n",
    "test_scores_weight['Decision Tree'] = f1_score(y_test, dt_test_pred, average='weighted')\n",
    "test_scores_weight['K-Neighbors'] = f1_score(y_test, knn_test_pred, average='weighted')\n",
    "test_scores_weight['Support Vector Machine'] = f1_score(y_test, svm_test_pred, average='weighted')"
   ]
  },
  {
   "cell_type": "code",
   "execution_count": 79,
   "id": "97bfc44a-fda0-4fe6-be7e-6bb270cc8b22",
   "metadata": {},
   "outputs": [
    {
     "data": {
      "text/plain": [
       "{'Logistic Regression': 0.55861369804408,\n",
       " 'Decision Tree': 0.7030739660771586,\n",
       " 'K-Neighbors': 0.6853360699882248,\n",
       " 'Support Vector Machine': 0.6652711024413865}"
      ]
     },
     "execution_count": 79,
     "metadata": {},
     "output_type": "execute_result"
    }
   ],
   "source": [
    "test_scores_weight"
   ]
  },
  {
   "cell_type": "code",
   "execution_count": 80,
   "id": "6a43dd1d-9532-44ee-8994-0b89adb1bf9e",
   "metadata": {},
   "outputs": [],
   "source": [
    "train_scores_micro = {}\n",
    "train_scores_micro['Logistic Regression'] = f1_score(y_train, lr_train_pred, average='micro')\n",
    "train_scores_micro['Decision Tree'] = f1_score(y_train, dt_train_pred, average='micro')\n",
    "train_scores_micro['K-Neighbors'] = f1_score(y_train, knn_train_pred, average='micro')\n",
    "train_scores_micro['Support Vector Machine'] = f1_score(y_train, svm_train_pred, average='micro')"
   ]
  },
  {
   "cell_type": "code",
   "execution_count": 81,
   "id": "912edab0-53ec-4d0c-a38e-642649fa55fa",
   "metadata": {},
   "outputs": [
    {
     "data": {
      "text/plain": [
       "{'Logistic Regression': 0.6173487960892402,\n",
       " 'Decision Tree': 1.0,\n",
       " 'K-Neighbors': 0.8758645795413178,\n",
       " 'Support Vector Machine': 0.7571896614488532}"
      ]
     },
     "execution_count": 81,
     "metadata": {},
     "output_type": "execute_result"
    }
   ],
   "source": [
    "train_scores_micro"
   ]
  },
  {
   "cell_type": "code",
   "execution_count": 82,
   "id": "5e89b634-be10-4d55-8cf3-04e7f51a1440",
   "metadata": {},
   "outputs": [],
   "source": [
    "train_scores_macro = {}\n",
    "train_scores_macro['Logistic Regression'] = f1_score(y_train, lr_train_pred, average='macro')\n",
    "train_scores_macro['Decision Tree'] = f1_score(y_train, dt_train_pred, average='macro')\n",
    "train_scores_macro['K-Neighbors'] = f1_score(y_train, knn_train_pred, average='macro')\n",
    "train_scores_macro['Support Vector Machine'] = f1_score(y_train, svm_train_pred, average='macro')"
   ]
  },
  {
   "cell_type": "code",
   "execution_count": 83,
   "id": "dec9b48a-3801-43bc-a66e-504254bce823",
   "metadata": {},
   "outputs": [
    {
     "data": {
      "text/plain": [
       "{'Logistic Regression': 0.6140053285627873,\n",
       " 'Decision Tree': 1.0,\n",
       " 'K-Neighbors': 0.8737737077154427,\n",
       " 'Support Vector Machine': 0.7537341148079817}"
      ]
     },
     "execution_count": 83,
     "metadata": {},
     "output_type": "execute_result"
    }
   ],
   "source": [
    "train_scores_macro"
   ]
  },
  {
   "cell_type": "code",
   "execution_count": 84,
   "id": "33230ccd-7e96-4f0f-b64f-d9934fc7d097",
   "metadata": {},
   "outputs": [],
   "source": [
    "train_scores_weight = {}\n",
    "train_scores_weight['Logistic Regression'] = f1_score(y_train, lr_train_pred, average='weighted')\n",
    "train_scores_weight['Decision Tree'] = f1_score(y_train, dt_train_pred, average='weighted')\n",
    "train_scores_weight['K-Neighbors'] = f1_score(y_train, knn_train_pred, average='weighted')\n",
    "train_scores_weight['Support Vector Machine'] = f1_score(y_train, svm_train_pred, average='weighted')"
   ]
  },
  {
   "cell_type": "code",
   "execution_count": 85,
   "id": "3d7c9bd9-d9b8-4ec1-909b-ed246e13622b",
   "metadata": {},
   "outputs": [],
   "source": [
    "scores=[test_scores_micro, test_scores_macro, test_scores_weight,train_scores_micro, train_scores_macro, train_scores_weight]"
   ]
  },
  {
   "cell_type": "code",
   "execution_count": 86,
   "id": "5bb9f7ee-a77a-45fa-9bdb-75f7e3384a25",
   "metadata": {},
   "outputs": [],
   "source": [
    "index=['Micro_test','Macro_test','Weighted_test','Micro_train','Macro_train','Weighted_train']"
   ]
  },
  {
   "cell_type": "code",
   "execution_count": 87,
   "id": "58934485-bd09-4ee4-97d9-8839e420988c",
   "metadata": {},
   "outputs": [],
   "source": [
    "scores_df = pd.DataFrame(scores, index=index)"
   ]
  },
  {
   "cell_type": "code",
   "execution_count": 88,
   "id": "a9e3e05b-1975-44a1-8b78-5170b1747447",
   "metadata": {},
   "outputs": [
    {
     "data": {
      "text/html": [
       "<div>\n",
       "<style scoped>\n",
       "    .dataframe tbody tr th:only-of-type {\n",
       "        vertical-align: middle;\n",
       "    }\n",
       "\n",
       "    .dataframe tbody tr th {\n",
       "        vertical-align: top;\n",
       "    }\n",
       "\n",
       "    .dataframe thead th {\n",
       "        text-align: right;\n",
       "    }\n",
       "</style>\n",
       "<table border=\"1\" class=\"dataframe\">\n",
       "  <thead>\n",
       "    <tr style=\"text-align: right;\">\n",
       "      <th></th>\n",
       "      <th>Logistic Regression</th>\n",
       "      <th>Decision Tree</th>\n",
       "      <th>K-Neighbors</th>\n",
       "      <th>Support Vector Machine</th>\n",
       "    </tr>\n",
       "  </thead>\n",
       "  <tbody>\n",
       "    <tr>\n",
       "      <th>Micro_test</th>\n",
       "      <td>0.518246</td>\n",
       "      <td>0.693421</td>\n",
       "      <td>0.663929</td>\n",
       "      <td>0.637955</td>\n",
       "    </tr>\n",
       "    <tr>\n",
       "      <th>Macro_test</th>\n",
       "      <td>0.384057</td>\n",
       "      <td>0.605297</td>\n",
       "      <td>0.539205</td>\n",
       "      <td>0.489365</td>\n",
       "    </tr>\n",
       "    <tr>\n",
       "      <th>Weighted_test</th>\n",
       "      <td>0.558614</td>\n",
       "      <td>0.703074</td>\n",
       "      <td>0.685336</td>\n",
       "      <td>0.665271</td>\n",
       "    </tr>\n",
       "    <tr>\n",
       "      <th>Micro_train</th>\n",
       "      <td>0.617349</td>\n",
       "      <td>1.000000</td>\n",
       "      <td>0.875865</td>\n",
       "      <td>0.757190</td>\n",
       "    </tr>\n",
       "    <tr>\n",
       "      <th>Macro_train</th>\n",
       "      <td>0.614005</td>\n",
       "      <td>1.000000</td>\n",
       "      <td>0.873774</td>\n",
       "      <td>0.753734</td>\n",
       "    </tr>\n",
       "    <tr>\n",
       "      <th>Weighted_train</th>\n",
       "      <td>0.614005</td>\n",
       "      <td>1.000000</td>\n",
       "      <td>0.873774</td>\n",
       "      <td>0.753734</td>\n",
       "    </tr>\n",
       "  </tbody>\n",
       "</table>\n",
       "</div>"
      ],
      "text/plain": [
       "                Logistic Regression  Decision Tree  K-Neighbors  \\\n",
       "Micro_test                 0.518246       0.693421     0.663929   \n",
       "Macro_test                 0.384057       0.605297     0.539205   \n",
       "Weighted_test              0.558614       0.703074     0.685336   \n",
       "Micro_train                0.617349       1.000000     0.875865   \n",
       "Macro_train                0.614005       1.000000     0.873774   \n",
       "Weighted_train             0.614005       1.000000     0.873774   \n",
       "\n",
       "                Support Vector Machine  \n",
       "Micro_test                    0.637955  \n",
       "Macro_test                    0.489365  \n",
       "Weighted_test                 0.665271  \n",
       "Micro_train                   0.757190  \n",
       "Macro_train                   0.753734  \n",
       "Weighted_train                0.753734  "
      ]
     },
     "execution_count": 88,
     "metadata": {},
     "output_type": "execute_result"
    }
   ],
   "source": [
    "scores_df"
   ]
  },
  {
   "cell_type": "markdown",
   "id": "328a30ee-af36-4967-a420-70a5343be774",
   "metadata": {},
   "source": [
    "Note that decision tree is over fitting to the training data. We can deal with this by using Bagging."
   ]
  },
  {
   "cell_type": "code",
   "execution_count": 56,
   "id": "93d92ccb-ec47-4ab0-829d-a93e11ec5787",
   "metadata": {},
   "outputs": [],
   "source": [
    "bag = BaggingClassifier(base_estimator=dt, random_state=0, bootstrap=True)"
   ]
  },
  {
   "cell_type": "code",
   "execution_count": 57,
   "id": "d240e286-6e28-4596-97e5-d3f34e076134",
   "metadata": {},
   "outputs": [
    {
     "data": {
      "text/plain": [
       "BaggingClassifier(base_estimator=DecisionTreeClassifier(random_state=4),\n",
       "                  random_state=0)"
      ]
     },
     "execution_count": 57,
     "metadata": {},
     "output_type": "execute_result"
    }
   ],
   "source": [
    "bag.fit(X_train_s, y_train.values.ravel())"
   ]
  },
  {
   "cell_type": "code",
   "execution_count": 153,
   "id": "3d58bfaf-98f2-4cda-94a4-703104471f98",
   "metadata": {},
   "outputs": [],
   "source": [
    "bag_train_pred = bag.predict(X_train_s)"
   ]
  },
  {
   "cell_type": "code",
   "execution_count": 154,
   "id": "5b8193d5-a731-4dbe-a174-31acd8ac9e7e",
   "metadata": {},
   "outputs": [
    {
     "name": "stdout",
     "output_type": "stream",
     "text": [
      "              precision    recall  f1-score   support\n",
      "\n",
      "           1       0.98      1.00      0.99      2747\n",
      "           2       1.00      0.98      0.99      2747\n",
      "           3       0.99      1.00      1.00      2747\n",
      "           4       1.00      1.00      1.00      2747\n",
      "           5       1.00      1.00      1.00      2747\n",
      "           6       1.00      0.99      0.99      2747\n",
      "           7       1.00      1.00      1.00      2747\n",
      "\n",
      "    accuracy                           0.99     19229\n",
      "   macro avg       0.99      0.99      0.99     19229\n",
      "weighted avg       0.99      0.99      0.99     19229\n",
      "\n"
     ]
    }
   ],
   "source": [
    "print(classification_report(y_train, bag_train_pred))"
   ]
  },
  {
   "cell_type": "code",
   "execution_count": 155,
   "id": "37cf6e2e-a4a3-4209-b5a1-3a818f3ab7eb",
   "metadata": {},
   "outputs": [],
   "source": [
    "bag_test_pred = bag.predict(X_test_s)"
   ]
  },
  {
   "cell_type": "code",
   "execution_count": 156,
   "id": "cbe0cdad-51bc-4fee-bfe6-e9785f6e9eec",
   "metadata": {},
   "outputs": [
    {
     "name": "stdout",
     "output_type": "stream",
     "text": [
      "              precision    recall  f1-score   support\n",
      "\n",
      "           1       0.74      0.79      0.76    209054\n",
      "           2       0.86      0.67      0.75    277890\n",
      "           3       0.80      0.86      0.83     33594\n",
      "           4       0.30      1.00      0.46       587\n",
      "           5       0.25      0.96      0.40      7101\n",
      "           6       0.56      0.88      0.68     15207\n",
      "           7       0.61      0.96      0.75     18350\n",
      "\n",
      "    accuracy                           0.75    561783\n",
      "   macro avg       0.59      0.88      0.66    561783\n",
      "weighted avg       0.78      0.75      0.76    561783\n",
      "\n"
     ]
    }
   ],
   "source": [
    "print(classification_report(y_test, bag_test_pred))"
   ]
  },
  {
   "cell_type": "code",
   "execution_count": 24,
   "id": "2eb24db0-ca67-4559-ac8c-28b24ab6fd4a",
   "metadata": {},
   "outputs": [],
   "source": [
    "rf = RandomForestClassifier()"
   ]
  },
  {
   "cell_type": "code",
   "execution_count": 59,
   "id": "fe62eb98-a90b-4d25-aa11-2f3efaff6c06",
   "metadata": {},
   "outputs": [
    {
     "data": {
      "text/plain": [
       "RandomForestClassifier()"
      ]
     },
     "execution_count": 59,
     "metadata": {},
     "output_type": "execute_result"
    }
   ],
   "source": [
    "rf.fit(X_train_s, y_train.values.ravel())"
   ]
  },
  {
   "cell_type": "code",
   "execution_count": 161,
   "id": "cf51a0ef-9c8d-4cc8-94b4-26248fa33395",
   "metadata": {},
   "outputs": [],
   "source": [
    "rf_train_pred = rf.predict(X_train_s)"
   ]
  },
  {
   "cell_type": "code",
   "execution_count": 162,
   "id": "adf558ea-830f-4ee0-83b5-cc973cbaefbf",
   "metadata": {},
   "outputs": [
    {
     "name": "stdout",
     "output_type": "stream",
     "text": [
      "              precision    recall  f1-score   support\n",
      "\n",
      "           1       1.00      1.00      1.00      2747\n",
      "           2       1.00      1.00      1.00      2747\n",
      "           3       1.00      1.00      1.00      2747\n",
      "           4       1.00      1.00      1.00      2747\n",
      "           5       1.00      1.00      1.00      2747\n",
      "           6       1.00      1.00      1.00      2747\n",
      "           7       1.00      1.00      1.00      2747\n",
      "\n",
      "    accuracy                           1.00     19229\n",
      "   macro avg       1.00      1.00      1.00     19229\n",
      "weighted avg       1.00      1.00      1.00     19229\n",
      "\n"
     ]
    }
   ],
   "source": [
    "print(classification_report(y_train, rf_train_pred))"
   ]
  },
  {
   "cell_type": "code",
   "execution_count": 163,
   "id": "4f5c4041-e9b6-4b64-bea8-c89ced960ffb",
   "metadata": {},
   "outputs": [],
   "source": [
    "rf_test_pred = rf.predict(X_test_s)"
   ]
  },
  {
   "cell_type": "code",
   "execution_count": 164,
   "id": "192c9e88-e297-4d9c-887e-25a371f87147",
   "metadata": {},
   "outputs": [
    {
     "name": "stdout",
     "output_type": "stream",
     "text": [
      "              precision    recall  f1-score   support\n",
      "\n",
      "           1       0.78      0.80      0.79    209054\n",
      "           2       0.88      0.72      0.79    277890\n",
      "           3       0.81      0.85      0.83     33594\n",
      "           4       0.25      1.00      0.40       587\n",
      "           5       0.24      0.97      0.39      7101\n",
      "           6       0.56      0.91      0.69     15207\n",
      "           7       0.61      0.98      0.75     18350\n",
      "\n",
      "    accuracy                           0.77    561783\n",
      "   macro avg       0.59      0.89      0.66    561783\n",
      "weighted avg       0.81      0.77      0.78    561783\n",
      "\n"
     ]
    }
   ],
   "source": [
    "print(classification_report(y_test, rf_test_pred))"
   ]
  },
  {
   "cell_type": "code",
   "execution_count": 34,
   "id": "bd542c20-da83-4fd2-bf8a-41b6c5f917db",
   "metadata": {},
   "outputs": [],
   "source": [
    "et = ExtraTreesClassifier()"
   ]
  },
  {
   "cell_type": "code",
   "execution_count": 61,
   "id": "79dd012c-4dfb-4828-a1da-600de1c63399",
   "metadata": {},
   "outputs": [
    {
     "data": {
      "text/plain": [
       "ExtraTreesClassifier()"
      ]
     },
     "execution_count": 61,
     "metadata": {},
     "output_type": "execute_result"
    }
   ],
   "source": [
    "et.fit(X_train_s, y_train.values.ravel())"
   ]
  },
  {
   "cell_type": "code",
   "execution_count": 169,
   "id": "ad00b9f6-964a-4b40-8fb6-57bd802b62b6",
   "metadata": {},
   "outputs": [],
   "source": [
    "et_train_pred = et.predict(X_train_s)"
   ]
  },
  {
   "cell_type": "code",
   "execution_count": 170,
   "id": "e31360b7-87ff-4fa0-8186-482f119631e7",
   "metadata": {},
   "outputs": [
    {
     "name": "stdout",
     "output_type": "stream",
     "text": [
      "              precision    recall  f1-score   support\n",
      "\n",
      "           1       1.00      1.00      1.00      2747\n",
      "           2       1.00      1.00      1.00      2747\n",
      "           3       1.00      1.00      1.00      2747\n",
      "           4       1.00      1.00      1.00      2747\n",
      "           5       1.00      1.00      1.00      2747\n",
      "           6       1.00      1.00      1.00      2747\n",
      "           7       1.00      1.00      1.00      2747\n",
      "\n",
      "    accuracy                           1.00     19229\n",
      "   macro avg       1.00      1.00      1.00     19229\n",
      "weighted avg       1.00      1.00      1.00     19229\n",
      "\n"
     ]
    }
   ],
   "source": [
    "print(classification_report(y_train, et_train_pred))"
   ]
  },
  {
   "cell_type": "code",
   "execution_count": 171,
   "id": "9211fa70-9eaf-41e1-9a42-4e965004d8ef",
   "metadata": {},
   "outputs": [],
   "source": [
    "et_test_pred = et.predict(X_test_s)"
   ]
  },
  {
   "cell_type": "code",
   "execution_count": 172,
   "id": "af893172-5b00-4d53-a497-a25a45c80177",
   "metadata": {},
   "outputs": [
    {
     "name": "stdout",
     "output_type": "stream",
     "text": [
      "              precision    recall  f1-score   support\n",
      "\n",
      "           1       0.78      0.80      0.79    209054\n",
      "           2       0.87      0.72      0.79    277890\n",
      "           3       0.81      0.85      0.83     33594\n",
      "           4       0.25      1.00      0.40       587\n",
      "           5       0.24      0.97      0.39      7101\n",
      "           6       0.56      0.91      0.70     15207\n",
      "           7       0.62      0.98      0.76     18350\n",
      "\n",
      "    accuracy                           0.77    561783\n",
      "   macro avg       0.59      0.89      0.66    561783\n",
      "weighted avg       0.81      0.77      0.78    561783\n",
      "\n"
     ]
    }
   ],
   "source": [
    "print(classification_report(y_test, et_test_pred))"
   ]
  },
  {
   "cell_type": "code",
   "execution_count": 68,
   "id": "244302cb-e071-4b5a-92de-a7be9b7e5df0",
   "metadata": {},
   "outputs": [],
   "source": [
    "abc = AdaBoostClassifier(bag)"
   ]
  },
  {
   "cell_type": "code",
   "execution_count": 69,
   "id": "c695e563-0c0d-4a3e-b8ba-04ba291fd04d",
   "metadata": {},
   "outputs": [
    {
     "data": {
      "text/plain": [
       "AdaBoostClassifier(base_estimator=BaggingClassifier(base_estimator=DecisionTreeClassifier(random_state=4),\n",
       "                                                    random_state=0))"
      ]
     },
     "execution_count": 69,
     "metadata": {},
     "output_type": "execute_result"
    }
   ],
   "source": [
    "abc.fit(X_train_s, y_train.values.ravel())"
   ]
  },
  {
   "cell_type": "code",
   "execution_count": 70,
   "id": "2367a1d9-71f3-4113-a520-9609806dbcd5",
   "metadata": {},
   "outputs": [],
   "source": [
    "abc_train_pred = abc.predict(X_train_s)"
   ]
  },
  {
   "cell_type": "code",
   "execution_count": 71,
   "id": "636837da-85b8-4f31-aaed-b777edc8b0ea",
   "metadata": {},
   "outputs": [
    {
     "name": "stdout",
     "output_type": "stream",
     "text": [
      "              precision    recall  f1-score   support\n",
      "\n",
      "           1       1.00      1.00      1.00      2747\n",
      "           2       1.00      1.00      1.00      2747\n",
      "           3       1.00      1.00      1.00      2747\n",
      "           4       1.00      1.00      1.00      2747\n",
      "           5       1.00      1.00      1.00      2747\n",
      "           6       1.00      1.00      1.00      2747\n",
      "           7       1.00      1.00      1.00      2747\n",
      "\n",
      "    accuracy                           1.00     19229\n",
      "   macro avg       1.00      1.00      1.00     19229\n",
      "weighted avg       1.00      1.00      1.00     19229\n",
      "\n"
     ]
    }
   ],
   "source": [
    "print(classification_report(y_train, abc_train_pred))"
   ]
  },
  {
   "cell_type": "code",
   "execution_count": 72,
   "id": "dd6e7928-cc1f-4889-bbe4-ea0c7f84d210",
   "metadata": {},
   "outputs": [],
   "source": [
    "abc_test_pred = abc.predict(X_test_s)"
   ]
  },
  {
   "cell_type": "code",
   "execution_count": 73,
   "id": "b89ba643-0659-4a89-8ebb-43ba992f3d0e",
   "metadata": {},
   "outputs": [
    {
     "name": "stdout",
     "output_type": "stream",
     "text": [
      "              precision    recall  f1-score   support\n",
      "\n",
      "           1       0.76      0.79      0.78    209054\n",
      "           2       0.87      0.73      0.79    277890\n",
      "           3       0.82      0.88      0.85     33594\n",
      "           4       0.31      1.00      0.48       587\n",
      "           5       0.31      0.97      0.47      7101\n",
      "           6       0.61      0.91      0.73     15207\n",
      "           7       0.61      0.98      0.75     18350\n",
      "\n",
      "    accuracy                           0.78    561783\n",
      "   macro avg       0.62      0.89      0.69    561783\n",
      "weighted avg       0.80      0.78      0.78    561783\n",
      "\n"
     ]
    }
   ],
   "source": [
    "print(classification_report(y_test, abc_test_pred))"
   ]
  },
  {
   "cell_type": "code",
   "execution_count": 80,
   "id": "d24a3cb9-f0e0-447d-8909-f6aa36f4e4cc",
   "metadata": {},
   "outputs": [],
   "source": [
    "abc2 = AdaBoostClassifier(et)"
   ]
  },
  {
   "cell_type": "code",
   "execution_count": 81,
   "id": "567cc1df-8fe3-42a1-bb5f-817ec4502797",
   "metadata": {},
   "outputs": [
    {
     "data": {
      "text/plain": [
       "AdaBoostClassifier(base_estimator=ExtraTreesClassifier())"
      ]
     },
     "execution_count": 81,
     "metadata": {},
     "output_type": "execute_result"
    }
   ],
   "source": [
    "abc2.fit(X_train_s, y_train.values.ravel())"
   ]
  },
  {
   "cell_type": "code",
   "execution_count": 82,
   "id": "4ff192c1-025a-403c-9eb7-acfbc28d0ad2",
   "metadata": {},
   "outputs": [],
   "source": [
    "abc2_train_pred = abc2.predict(X_train_s)"
   ]
  },
  {
   "cell_type": "code",
   "execution_count": 83,
   "id": "bc4da63e-d2fd-4efc-b754-d34c42a11ae6",
   "metadata": {},
   "outputs": [
    {
     "name": "stdout",
     "output_type": "stream",
     "text": [
      "              precision    recall  f1-score   support\n",
      "\n",
      "           1       1.00      1.00      1.00      2747\n",
      "           2       1.00      1.00      1.00      2747\n",
      "           3       1.00      1.00      1.00      2747\n",
      "           4       1.00      1.00      1.00      2747\n",
      "           5       1.00      1.00      1.00      2747\n",
      "           6       1.00      1.00      1.00      2747\n",
      "           7       1.00      1.00      1.00      2747\n",
      "\n",
      "    accuracy                           1.00     19229\n",
      "   macro avg       1.00      1.00      1.00     19229\n",
      "weighted avg       1.00      1.00      1.00     19229\n",
      "\n"
     ]
    }
   ],
   "source": [
    "print(classification_report(y_train, abc2_train_pred))"
   ]
  },
  {
   "cell_type": "code",
   "execution_count": 84,
   "id": "f8a5822e-09fd-4cff-82e0-0b0dd11f17fb",
   "metadata": {},
   "outputs": [],
   "source": [
    "abc2_test_pred = abc2.predict(X_test_s)"
   ]
  },
  {
   "cell_type": "code",
   "execution_count": 85,
   "id": "451f2d8a-ac1b-4ca9-b4aa-4030104119c5",
   "metadata": {},
   "outputs": [
    {
     "name": "stdout",
     "output_type": "stream",
     "text": [
      "              precision    recall  f1-score   support\n",
      "\n",
      "           1       0.79      0.80      0.79    209054\n",
      "           2       0.87      0.72      0.79    277890\n",
      "           3       0.80      0.86      0.83     33594\n",
      "           4       0.25      1.00      0.40       587\n",
      "           5       0.24      0.97      0.39      7101\n",
      "           6       0.57      0.91      0.70     15207\n",
      "           7       0.62      0.98      0.76     18350\n",
      "\n",
      "    accuracy                           0.77    561783\n",
      "   macro avg       0.59      0.89      0.67    561783\n",
      "weighted avg       0.81      0.77      0.78    561783\n",
      "\n"
     ]
    }
   ],
   "source": [
    "print(classification_report(y_test, abc2_test_pred))"
   ]
  },
  {
   "cell_type": "code",
   "execution_count": 203,
   "id": "b9d27ca3-49e5-4531-ac9f-b9114d6ede9b",
   "metadata": {},
   "outputs": [],
   "source": [
    "gbc = GradientBoostingClassifier()"
   ]
  },
  {
   "cell_type": "code",
   "execution_count": 205,
   "id": "cfd0d35b-7b12-4553-aabe-67e852c83cd4",
   "metadata": {},
   "outputs": [
    {
     "data": {
      "text/plain": [
       "GradientBoostingClassifier()"
      ]
     },
     "execution_count": 205,
     "metadata": {},
     "output_type": "execute_result"
    }
   ],
   "source": [
    "gbc.fit(X_train_s, y_train.values.ravel())"
   ]
  },
  {
   "cell_type": "code",
   "execution_count": 206,
   "id": "f4ae9e43-a8ee-4185-a632-fbf932ed0ad1",
   "metadata": {},
   "outputs": [],
   "source": [
    "gbc_train_pred = gbc.predict(X_train_s)"
   ]
  },
  {
   "cell_type": "code",
   "execution_count": 207,
   "id": "d3f05f9b-64c2-423c-a3e0-7b25aac18fea",
   "metadata": {},
   "outputs": [
    {
     "name": "stdout",
     "output_type": "stream",
     "text": [
      "              precision    recall  f1-score   support\n",
      "\n",
      "           1       0.77      0.76      0.76      2747\n",
      "           2       0.79      0.63      0.70      2747\n",
      "           3       0.80      0.77      0.78      2747\n",
      "           4       0.92      0.97      0.95      2747\n",
      "           5       0.83      0.92      0.87      2747\n",
      "           6       0.78      0.82      0.80      2747\n",
      "           7       0.91      0.96      0.93      2747\n",
      "\n",
      "    accuracy                           0.83     19229\n",
      "   macro avg       0.83      0.83      0.83     19229\n",
      "weighted avg       0.83      0.83      0.83     19229\n",
      "\n"
     ]
    }
   ],
   "source": [
    "print(classification_report(y_train, gbc_train_pred))"
   ]
  },
  {
   "cell_type": "code",
   "execution_count": 208,
   "id": "3945b80e-aaa5-45c9-b424-cbabd03222a4",
   "metadata": {},
   "outputs": [],
   "source": [
    "gbc_test_pred = gbc.predict(X_test_s)"
   ]
  },
  {
   "cell_type": "code",
   "execution_count": 209,
   "id": "947aa8a3-d076-419d-87e6-7f7586ba32b9",
   "metadata": {},
   "outputs": [
    {
     "name": "stdout",
     "output_type": "stream",
     "text": [
      "              precision    recall  f1-score   support\n",
      "\n",
      "           1       0.71      0.71      0.71    209054\n",
      "           2       0.83      0.57      0.68    277890\n",
      "           3       0.75      0.73      0.74     33594\n",
      "           4       0.18      0.96      0.30       587\n",
      "           5       0.12      0.91      0.21      7101\n",
      "           6       0.42      0.79      0.55     15207\n",
      "           7       0.43      0.94      0.59     18350\n",
      "\n",
      "    accuracy                           0.66    561783\n",
      "   macro avg       0.49      0.80      0.54    561783\n",
      "weighted avg       0.75      0.66      0.68    561783\n",
      "\n"
     ]
    }
   ],
   "source": [
    "print(classification_report(y_test, gbc_test_pred))"
   ]
  },
  {
   "cell_type": "code",
   "execution_count": 25,
   "id": "b6a99f9e-be95-4290-b0e5-f1ab1abb2754",
   "metadata": {},
   "outputs": [],
   "source": [
    "lr = LogisticRegression(max_iter=1000)"
   ]
  },
  {
   "cell_type": "code",
   "execution_count": 26,
   "id": "66e3c97d-6849-4b6b-9924-0a49ae5c9827",
   "metadata": {},
   "outputs": [],
   "source": [
    "knn = KNeighborsClassifier(n_neighbors=5)"
   ]
  },
  {
   "cell_type": "code",
   "execution_count": 35,
   "id": "79226a0c-c744-48b2-820c-029e8a4e62fc",
   "metadata": {},
   "outputs": [],
   "source": [
    "estimators = [('et', et), ('rf', rf)]"
   ]
  },
  {
   "cell_type": "code",
   "execution_count": 36,
   "id": "44c280a2-0c68-43ff-8154-4b0f773653df",
   "metadata": {},
   "outputs": [],
   "source": [
    "vc = VotingClassifier(estimators, voting='hard')"
   ]
  },
  {
   "cell_type": "code",
   "execution_count": 37,
   "id": "efe940e3-a43e-4026-a939-10cb1c07c771",
   "metadata": {},
   "outputs": [
    {
     "data": {
      "text/plain": [
       "VotingClassifier(estimators=[('et', ExtraTreesClassifier()),\n",
       "                             ('rf', RandomForestClassifier())])"
      ]
     },
     "execution_count": 37,
     "metadata": {},
     "output_type": "execute_result"
    }
   ],
   "source": [
    "vc.fit(X_train_s, y_train.values.ravel())"
   ]
  },
  {
   "cell_type": "code",
   "execution_count": 38,
   "id": "d7dbcfc9-da85-480e-b316-ac1bf42e89bb",
   "metadata": {},
   "outputs": [],
   "source": [
    "vc_train_pred = vc.predict(X_train_s)"
   ]
  },
  {
   "cell_type": "code",
   "execution_count": 39,
   "id": "f06b7753-0a02-468d-8b4b-e0e8ea24f647",
   "metadata": {},
   "outputs": [
    {
     "name": "stdout",
     "output_type": "stream",
     "text": [
      "              precision    recall  f1-score   support\n",
      "\n",
      "           1       1.00      1.00      1.00      2747\n",
      "           2       1.00      1.00      1.00      2747\n",
      "           3       1.00      1.00      1.00      2747\n",
      "           4       1.00      1.00      1.00      2747\n",
      "           5       1.00      1.00      1.00      2747\n",
      "           6       1.00      1.00      1.00      2747\n",
      "           7       1.00      1.00      1.00      2747\n",
      "\n",
      "    accuracy                           1.00     19229\n",
      "   macro avg       1.00      1.00      1.00     19229\n",
      "weighted avg       1.00      1.00      1.00     19229\n",
      "\n"
     ]
    }
   ],
   "source": [
    "print(classification_report(y_train, vc_train_pred))"
   ]
  },
  {
   "cell_type": "code",
   "execution_count": 40,
   "id": "d718dd1b-5c55-4275-ae87-f5e043349422",
   "metadata": {},
   "outputs": [],
   "source": [
    "vc_test_pred = vc.predict(X_test_s)"
   ]
  },
  {
   "cell_type": "code",
   "execution_count": 41,
   "id": "7146bf11-ac26-445a-b1d6-d19de05094fc",
   "metadata": {},
   "outputs": [
    {
     "name": "stdout",
     "output_type": "stream",
     "text": [
      "              precision    recall  f1-score   support\n",
      "\n",
      "           1       0.76      0.83      0.79    209054\n",
      "           2       0.89      0.70      0.79    277890\n",
      "           3       0.81      0.88      0.84     33594\n",
      "           4       0.27      1.00      0.43       587\n",
      "           5       0.29      0.97      0.45      7101\n",
      "           6       0.62      0.89      0.73     15207\n",
      "           7       0.66      0.97      0.79     18350\n",
      "\n",
      "    accuracy                           0.78    561783\n",
      "   macro avg       0.61      0.89      0.69    561783\n",
      "weighted avg       0.81      0.78      0.79    561783\n",
      "\n"
     ]
    }
   ],
   "source": [
    "print(classification_report(y_test, vc_test_pred))"
   ]
  },
  {
   "cell_type": "code",
   "execution_count": 310,
   "id": "f5fac3d8-782d-422d-b0b5-b4e1bc54c173",
   "metadata": {},
   "outputs": [],
   "source": [
    "sta = StackingClassifier(estimators=estimators, final_estimator=LogisticRegression(max_iter=1000))"
   ]
  },
  {
   "cell_type": "code",
   "execution_count": 311,
   "id": "ec9e066d-0e53-4857-a7a1-da67fcc2145c",
   "metadata": {},
   "outputs": [
    {
     "data": {
      "text/plain": [
       "StackingClassifier(estimators=[('et', ExtraTreesClassifier()),\n",
       "                               ('rf', RandomForestClassifier())],\n",
       "                   final_estimator=LogisticRegression(max_iter=1000))"
      ]
     },
     "execution_count": 311,
     "metadata": {},
     "output_type": "execute_result"
    }
   ],
   "source": [
    "sta.fit(X_train_s, y_train.values.ravel())"
   ]
  },
  {
   "cell_type": "code",
   "execution_count": 312,
   "id": "9d29af4c-6fab-4edd-856d-144186facf70",
   "metadata": {},
   "outputs": [],
   "source": [
    "sta_train_pred = sta.predict(X_train_s)"
   ]
  },
  {
   "cell_type": "code",
   "execution_count": 316,
   "id": "3d9a943b-a23c-4e70-b793-2d43a46258f4",
   "metadata": {},
   "outputs": [
    {
     "name": "stdout",
     "output_type": "stream",
     "text": [
      "              precision    recall  f1-score   support\n",
      "\n",
      "           1       1.00      1.00      1.00      2747\n",
      "           2       1.00      1.00      1.00      2747\n",
      "           3       1.00      1.00      1.00      2747\n",
      "           4       1.00      1.00      1.00      2747\n",
      "           5       1.00      1.00      1.00      2747\n",
      "           6       1.00      1.00      1.00      2747\n",
      "           7       1.00      1.00      1.00      2747\n",
      "\n",
      "    accuracy                           1.00     19229\n",
      "   macro avg       1.00      1.00      1.00     19229\n",
      "weighted avg       1.00      1.00      1.00     19229\n",
      "\n"
     ]
    }
   ],
   "source": [
    "print(classification_report(y_train, sta_train_pred))"
   ]
  },
  {
   "cell_type": "code",
   "execution_count": 314,
   "id": "903d3630-d3ae-44ab-b513-cf83a30f9209",
   "metadata": {},
   "outputs": [],
   "source": [
    "sta_test_pred = sta.predict(X_test_s)"
   ]
  },
  {
   "cell_type": "code",
   "execution_count": 315,
   "id": "40841ce5-7053-4adf-a7e9-f2df1f1b3b3b",
   "metadata": {},
   "outputs": [
    {
     "name": "stdout",
     "output_type": "stream",
     "text": [
      "              precision    recall  f1-score   support\n",
      "\n",
      "           1       0.79      0.80      0.80    209054\n",
      "           2       0.87      0.75      0.81    277890\n",
      "           3       0.82      0.87      0.84     33594\n",
      "           4       0.30      1.00      0.46       587\n",
      "           5       0.31      0.96      0.47      7101\n",
      "           6       0.61      0.91      0.73     15207\n",
      "           7       0.67      0.97      0.80     18350\n",
      "\n",
      "    accuracy                           0.79    561783\n",
      "   macro avg       0.62      0.89      0.70    561783\n",
      "weighted avg       0.81      0.79      0.80    561783\n",
      "\n"
     ]
    }
   ],
   "source": [
    "print(classification_report(y_test, sta_test_pred))"
   ]
  },
  {
   "cell_type": "code",
   "execution_count": 42,
   "id": "dcd7f102-f306-4ba3-9263-acfbbc24a32a",
   "metadata": {},
   "outputs": [],
   "source": [
    "estimators2 = [('lr', lr), ('knn', knn), ('et', et)]"
   ]
  },
  {
   "cell_type": "code",
   "execution_count": 44,
   "id": "71acfe59-4142-407a-921f-48129850075e",
   "metadata": {},
   "outputs": [],
   "source": [
    "sta2 = StackingClassifier(estimators=estimators2, final_estimator=RandomForestClassifier())"
   ]
  },
  {
   "cell_type": "code",
   "execution_count": 45,
   "id": "37e9f018-7e8b-46c7-b660-caf1405d56ee",
   "metadata": {},
   "outputs": [
    {
     "data": {
      "text/plain": [
       "StackingClassifier(estimators=[('lr', LogisticRegression(max_iter=1000)),\n",
       "                               ('knn', KNeighborsClassifier()),\n",
       "                               ('et', ExtraTreesClassifier())],\n",
       "                   final_estimator=RandomForestClassifier())"
      ]
     },
     "execution_count": 45,
     "metadata": {},
     "output_type": "execute_result"
    }
   ],
   "source": [
    "sta2.fit(X_train_s, y_train.values.ravel())"
   ]
  },
  {
   "cell_type": "code",
   "execution_count": 46,
   "id": "19cde1d1-1cd1-49e3-9559-5782a7a337cb",
   "metadata": {},
   "outputs": [],
   "source": [
    "sta2_train_pred = sta2.predict(X_train_s)"
   ]
  },
  {
   "cell_type": "code",
   "execution_count": 47,
   "id": "ee0dba2a-16ec-46c8-926e-6f0ff30a78c9",
   "metadata": {},
   "outputs": [
    {
     "name": "stdout",
     "output_type": "stream",
     "text": [
      "              precision    recall  f1-score   support\n",
      "\n",
      "           1       1.00      1.00      1.00      2747\n",
      "           2       1.00      0.99      1.00      2747\n",
      "           3       1.00      1.00      1.00      2747\n",
      "           4       1.00      1.00      1.00      2747\n",
      "           5       1.00      1.00      1.00      2747\n",
      "           6       1.00      1.00      1.00      2747\n",
      "           7       1.00      1.00      1.00      2747\n",
      "\n",
      "    accuracy                           1.00     19229\n",
      "   macro avg       1.00      1.00      1.00     19229\n",
      "weighted avg       1.00      1.00      1.00     19229\n",
      "\n"
     ]
    }
   ],
   "source": [
    "print(classification_report(y_train, sta2_train_pred))"
   ]
  },
  {
   "cell_type": "code",
   "execution_count": 48,
   "id": "217a8710-ab39-4733-ba31-9501c36e43c7",
   "metadata": {},
   "outputs": [],
   "source": [
    "sta2_test_pred = sta2.predict(X_test_s)"
   ]
  },
  {
   "cell_type": "code",
   "execution_count": 49,
   "id": "cf826e09-7f0d-4dfb-81c5-ae89885f046e",
   "metadata": {},
   "outputs": [
    {
     "name": "stdout",
     "output_type": "stream",
     "text": [
      "              precision    recall  f1-score   support\n",
      "\n",
      "           1       0.79      0.79      0.79    209054\n",
      "           2       0.86      0.75      0.80    277890\n",
      "           3       0.80      0.87      0.83     33594\n",
      "           4       0.29      1.00      0.45       587\n",
      "           5       0.32      0.96      0.48      7101\n",
      "           6       0.62      0.91      0.74     15207\n",
      "           7       0.66      0.97      0.78     18350\n",
      "\n",
      "    accuracy                           0.79    561783\n",
      "   macro avg       0.62      0.89      0.70    561783\n",
      "weighted avg       0.81      0.79      0.79    561783\n",
      "\n"
     ]
    }
   ],
   "source": [
    "print(classification_report(y_test, sta2_test_pred))"
   ]
  },
  {
   "cell_type": "code",
   "execution_count": null,
   "id": "147f61b7-b2e9-448e-8c69-89db33034bd4",
   "metadata": {},
   "outputs": [],
   "source": [
    "imp_lr = "
   ]
  }
 ],
 "metadata": {
  "kernelspec": {
   "display_name": "Python",
   "language": "python",
   "name": "conda-env-python-py"
  },
  "language_info": {
   "codemirror_mode": {
    "name": "ipython",
    "version": 3
   },
   "file_extension": ".py",
   "mimetype": "text/x-python",
   "name": "python",
   "nbconvert_exporter": "python",
   "pygments_lexer": "ipython3",
   "version": "3.7.12"
  }
 },
 "nbformat": 4,
 "nbformat_minor": 5
}
